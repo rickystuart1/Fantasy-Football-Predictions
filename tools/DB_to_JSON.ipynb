{
 "cells": [
  {
   "cell_type": "code",
   "execution_count": 8,
   "id": "89005283",
   "metadata": {},
   "outputs": [],
   "source": [
    "# Import Dependencies\n",
    "import json\n",
    "import pandas as pd\n",
    "import psycopg2\n",
    "import sqlalchemy\n",
    "from sqlalchemy import create_engine\n",
    "from getpass import getpass"
   ]
  },
  {
   "cell_type": "code",
   "execution_count": 9,
   "id": "47652dc7",
   "metadata": {},
   "outputs": [],
   "source": [
    "#Create connection to AWS database\n",
    "ENDPOINT=\"fantasyfootball.ckswyhqaro8q.us-east-2.rds.amazonaws.com\"\n",
    "PORT=\"5432\"\n",
    "USR=\"DreamTeam\"\n",
    "PSSWD= getpass('Enter Database Password: ')\n",
    "DBNAME=\"postgres\"\n",
    "#conn_string = \"host='localhost' dbname='my_database' user='postgres' password='secret'\n",
    "c = create_engine(\"postgresql://{}:{}@{}:{}/{}\".format(USR, PSSWD, ENDPOINT, PORT, DBNAME))\n",
    "\n",
    "#c = conn.cursor()"
   ]
  },
  {
   "cell_type": "code",
   "execution_count": 10,
   "id": "14ccaed1",
   "metadata": {},
   "outputs": [
    {
     "data": {
      "text/html": [
       "<div>\n",
       "<style scoped>\n",
       "    .dataframe tbody tr th:only-of-type {\n",
       "        vertical-align: middle;\n",
       "    }\n",
       "\n",
       "    .dataframe tbody tr th {\n",
       "        vertical-align: top;\n",
       "    }\n",
       "\n",
       "    .dataframe thead th {\n",
       "        text-align: right;\n",
       "    }\n",
       "</style>\n",
       "<table border=\"1\" class=\"dataframe\">\n",
       "  <thead>\n",
       "    <tr style=\"text-align: right;\">\n",
       "      <th></th>\n",
       "      <th>fantasy_rank</th>\n",
       "      <th>playerid</th>\n",
       "      <th>name</th>\n",
       "      <th>position</th>\n",
       "      <th>ft_points21</th>\n",
       "      <th>ft_points22</th>\n",
       "      <th>rank22</th>\n",
       "    </tr>\n",
       "  </thead>\n",
       "  <tbody>\n",
       "    <tr>\n",
       "      <th>0</th>\n",
       "      <td>5</td>\n",
       "      <td>2593</td>\n",
       "      <td>Aaron Rodgers</td>\n",
       "      <td>QB</td>\n",
       "      <td>332.30</td>\n",
       "      <td>363.045010</td>\n",
       "      <td>18</td>\n",
       "    </tr>\n",
       "    <tr>\n",
       "      <th>1</th>\n",
       "      <td>1</td>\n",
       "      <td>19801</td>\n",
       "      <td>Josh Allen</td>\n",
       "      <td>QB</td>\n",
       "      <td>402.58</td>\n",
       "      <td>335.309528</td>\n",
       "      <td>24</td>\n",
       "    </tr>\n",
       "    <tr>\n",
       "      <th>2</th>\n",
       "      <td>2</td>\n",
       "      <td>21681</td>\n",
       "      <td>Justin Herbert</td>\n",
       "      <td>QB</td>\n",
       "      <td>380.76</td>\n",
       "      <td>325.455374</td>\n",
       "      <td>29</td>\n",
       "    </tr>\n",
       "    <tr>\n",
       "      <th>3</th>\n",
       "      <td>4</td>\n",
       "      <td>18890</td>\n",
       "      <td>Patrick Mahomes</td>\n",
       "      <td>QB</td>\n",
       "      <td>361.66</td>\n",
       "      <td>321.661286</td>\n",
       "      <td>33</td>\n",
       "    </tr>\n",
       "    <tr>\n",
       "      <th>4</th>\n",
       "      <td>3</td>\n",
       "      <td>4314</td>\n",
       "      <td>Tom Brady</td>\n",
       "      <td>QB</td>\n",
       "      <td>374.74</td>\n",
       "      <td>319.622005</td>\n",
       "      <td>35</td>\n",
       "    </tr>\n",
       "  </tbody>\n",
       "</table>\n",
       "</div>"
      ],
      "text/plain": [
       "   fantasy_rank  playerid             name position  ft_points21  ft_points22  \\\n",
       "0             5      2593    Aaron Rodgers       QB       332.30   363.045010   \n",
       "1             1     19801       Josh Allen       QB       402.58   335.309528   \n",
       "2             2     21681   Justin Herbert       QB       380.76   325.455374   \n",
       "3             4     18890  Patrick Mahomes       QB       361.66   321.661286   \n",
       "4             3      4314        Tom Brady       QB       374.74   319.622005   \n",
       "\n",
       "   rank22  \n",
       "0      18  \n",
       "1      24  \n",
       "2      29  \n",
       "3      33  \n",
       "4      35  "
      ]
     },
     "execution_count": 10,
     "metadata": {},
     "output_type": "execute_result"
    }
   ],
   "source": [
    "# delcaring the table and bringing it in as a pandas DataFrame\n",
    "table = input('What is the table that you would like to import? ')\n",
    "query = f'SELECT * FROM {table}'\n",
    "\n",
    "df = pd.read_sql(query, c)\n",
    "df.head()"
   ]
  },
  {
   "cell_type": "code",
   "execution_count": 11,
   "id": "f5e2c5b5",
   "metadata": {},
   "outputs": [],
   "source": [
    "# saving table as a data.js file for the javascript file to utilize\n",
    "file_title = input('What would you like to name the file? ')\n",
    "file_location = f'dashboard/static/js/{file_title}.js'\n",
    "df.to_json(file_location, orient='records')"
   ]
  },
  {
   "cell_type": "code",
   "execution_count": null,
   "id": "687e7da0",
   "metadata": {},
   "outputs": [],
   "source": [
    "# import os in in order to write to file\n",
    "import os\n",
    "# creating a function in order to write and declare javascript variable at beginning of file\n",
    "def prepend_line(file_name, line):\n",
    "    \n",
    "    # define name of temporary dummy file\n",
    "    dummy_file = file_name + '.bak'\n",
    "    # open original file in read mode and dummy file in write mode\n",
    "    with open(file_name, 'r') as read_obj, open(dummy_file, 'w') as write_obj:\n",
    "        # Write given line to the dummy file\n",
    "        write_obj.write(line)\n",
    "        # Read lines from original file one by one and append them to the dummy file\n",
    "        for line in read_obj:\n",
    "            write_obj.write(line)\n",
    "    # remove original file\n",
    "    os.remove(file_name)\n",
    "    # Rename dummy file as the original file\n",
    "    os.rename(dummy_file, file_name)"
   ]
  },
  {
   "cell_type": "code",
   "execution_count": null,
   "id": "944ef159",
   "metadata": {},
   "outputs": [],
   "source": [
    "# feeding the string to the function and executing the function\n",
    "line = 'var data = '\n",
    "prepend_line(file_location, line)"
   ]
  },
  {
   "cell_type": "code",
   "execution_count": null,
   "id": "991865e3",
   "metadata": {},
   "outputs": [],
   "source": []
  }
 ],
 "metadata": {
  "kernelspec": {
   "display_name": "Python 3.9.12 ('PythonData')",
   "language": "python",
   "name": "python3"
  },
  "language_info": {
   "codemirror_mode": {
    "name": "ipython",
    "version": 3
   },
   "file_extension": ".py",
   "mimetype": "text/x-python",
   "name": "python",
   "nbconvert_exporter": "python",
   "pygments_lexer": "ipython3",
   "version": "3.9.12"
  },
  "vscode": {
   "interpreter": {
    "hash": "628437239de5ae33e6a06f3a00de13f8b0052ddaf045aae57ef46788e8698440"
   }
  }
 },
 "nbformat": 4,
 "nbformat_minor": 5
}
