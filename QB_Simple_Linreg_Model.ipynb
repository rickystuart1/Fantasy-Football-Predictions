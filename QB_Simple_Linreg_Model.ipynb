{
 "cells": [
  {
   "cell_type": "code",
   "execution_count": 1,
   "metadata": {},
   "outputs": [],
   "source": [
    "import pandas as pd\n",
    "from sklearn.linear_model import LinearRegression\n",
    "from sklearn.metrics import r2_score\n",
    "from sklearn.preprocessing import StandardScaler\n",
    "import plotly.express as px\n",
    "import plotly.graph_objects as go\n",
    "import numpy as np"
   ]
  },
  {
   "cell_type": "code",
   "execution_count": 2,
   "metadata": {},
   "outputs": [],
   "source": [
    "##Read in CSVs reformat to keep player ID consistent across data\n",
    "qb_2018_base_df = pd.read_csv(\"QB_stats_base/fantasy-football-leaders2018.csv\")\n",
    "qb_2018_extra_df = pd.read_csv(\"QB_stats_extra/advanced-qb-metrics2018.csv\").rename(columns={'PlayerPlayerId': 'PlayerID'})\n",
    "qb_2018_extra_df = qb_2018_extra_df.drop(columns = [\"PlayerShortName\"], axis = 1)\n",
    "qb_2019_base_df = pd.read_csv(\"QB_stats_base/fantasy-football-leaders2019.csv\")\n",
    "qb_2019_extra_df = pd.read_csv(\"QB_stats_extra/advanced-qb-metrics2019.csv\").rename(columns={'PlayerPlayerId': 'PlayerID'})\n",
    "qb_2019_extra_df = qb_2019_extra_df.drop(columns = [\"PlayerShortName\"], axis = 1)\n",
    "qb_2020_base_df = pd.read_csv(\"QB_stats_base/fantasy-football-leaders2020.csv\")\n",
    "qb_2020_extra_df = pd.read_csv(\"QB_stats_extra/advanced-qb-metrics2020.csv\").rename(columns={'PlayerPlayerId': 'PlayerID'})\n",
    "qb_2020_extra_df = qb_2020_extra_df.drop(columns = [\"PlayerShortName\"], axis = 1)\n",
    "qb_2021_base_df = pd.read_csv(\"QB_stats_base/fantasy-football-leaders2020.csv\")\n",
    "qb_2021_extra_df = pd.read_csv(\"QB_stats_extra/advanced-qb-metrics2020.csv\").rename(columns={'PlayerPlayerId': 'PlayerID'})\n",
    "qb_2021_extra_df = qb_2021_extra_df.drop(columns = [\"PlayerShortName\"], axis = 1)\n",
    "\n",
    "#Remove Duplicate Columns between the extra stats df and base df\n",
    "diff_cols = qb_2018_extra_df.columns.difference(qb_2018_base_df.columns)\n",
    "diff_cols = diff_cols.union(['PlayerID'])\n",
    "\n",
    "qb_2018_extra_df = qb_2018_extra_df[diff_cols]\n",
    "qb_2019_extra_df = qb_2019_extra_df[diff_cols]\n",
    "qb_2020_extra_df = qb_2020_extra_df[diff_cols]\n",
    "qb_2021_extra_df = qb_2021_extra_df[diff_cols]"
   ]
  },
  {
   "cell_type": "code",
   "execution_count": 3,
   "metadata": {},
   "outputs": [],
   "source": [
    "#Creating df with target to merge with provided DF\n",
    "qb_2019_target_df = qb_2019_base_df.loc[:,[\"PlayerID\",\"FantasyPoints\"]]\n",
    "qb_2019_target_names_df = qb_2019_base_df.loc[:,[\"PlayerID\",\"Name\"]]\n",
    "qb_2020_target_df = qb_2020_base_df.loc[:,[\"PlayerID\",\"FantasyPoints\"]]\n",
    "qb_2020_target_names_df = qb_2019_base_df.loc[:,[\"PlayerID\",\"Name\"]]"
   ]
  },
  {
   "cell_type": "code",
   "execution_count": 4,
   "metadata": {},
   "outputs": [],
   "source": [
    "#Create merged dataframe to prepare for model \n",
    "qb_2018_merged_df = pd.merge(qb_2018_base_df, qb_2018_extra_df, on=\"PlayerID\")\n",
    "qb_2018_merged_df = qb_2018_merged_df.drop([\"FantasyPoints\"], axis = 1)\n",
    "qb_2018_targetmerged_df = pd.merge(qb_2018_merged_df, qb_2019_target_df, on=\"PlayerID\").set_index(\"PlayerID\")\n",
    "qb_2019_merged_df = pd.merge(qb_2019_base_df, qb_2019_extra_df, on=\"PlayerID\")\n",
    "qb_2019_merged_df = qb_2019_merged_df.drop([\"FantasyPoints\"], axis = 1)\n",
    "qb_2019_targetmerged_df = pd.merge(qb_2019_merged_df, qb_2020_target_df, on=\"PlayerID\").set_index(\"PlayerID\")\n",
    "qb_2020_mergedtest_df = pd.merge(qb_2020_base_df, qb_2020_extra_df, on=\"PlayerID\")"
   ]
  },
  {
   "cell_type": "code",
   "execution_count": 5,
   "metadata": {},
   "outputs": [],
   "source": [
    "#Create target (next years Fantasy Point total)\n",
    "y = qb_2018_targetmerged_df[\"FantasyPoints\"]"
   ]
  },
  {
   "cell_type": "code",
   "execution_count": 6,
   "metadata": {},
   "outputs": [],
   "source": [
    "#Remove non-numerical columns and unwanted features.\n",
    "X = qb_2018_targetmerged_df.drop(columns = [\"Rank\",\"FantasyPoints\",\"Name\",\"Team\",\"Position\",\"PassingCompletions\",\"PassingYardsPerAttempt\",\"PassingRating\",\"FantasyPointsPerGame\",\"AirYardsPerAttempt\",\"AirYardsPerGame\",\"MoneyThrows\",\"PassingCompletionPercentage\",\"CompletionPercentage\",\"ProtectionRate\",\"TouchdownRate\",\"PassAttemptsPerGame\",\"AirYards\",\"PassingAttempts\",\"PassingInterceptions\",\"RushingYardsPerAttempt\",\"Played\"], axis = 1)\n",
    "\n",
    "#Scale data\n",
    "scaler = StandardScaler().fit(X)\n",
    "X_scaled = scaler.transform(X)\n",
    "\n"
   ]
  },
  {
   "cell_type": "code",
   "execution_count": 7,
   "metadata": {
    "scrolled": true
   },
   "outputs": [
    {
     "name": "stdout",
     "output_type": "stream",
     "text": [
      "PassingYards is associated with -66.92061545800192\n",
      "PassingTouchdowns is associated with 53.332822863833414\n",
      "RushingAttempts is associated with 38.4062098968159\n",
      "RushingYards is associated with -57.957167587090716\n",
      "RushingTouchdowns is associated with 38.58158889524103\n",
      "DeepBallAttempts is associated with 46.48148062489677\n",
      "DeepBallCompletionPercentage is associated with 42.00025979244419\n",
      "Interceptions is associated with -29.431950274007818\n",
      "PlayerAgeExact is associated with -23.980672311782886\n",
      "PressuredCompletionPercentage is associated with -26.990023219181086\n"
     ]
    },
    {
     "data": {
      "text/plain": [
       "192.87870967741932"
      ]
     },
     "execution_count": 7,
     "metadata": {},
     "output_type": "execute_result"
    }
   ],
   "source": [
    "#Perform linear regression on features from 2018 and fantasy football point totals from 2019 \n",
    "LinReg_model  = LinearRegression(fit_intercept=True).fit(X_scaled,y)\n",
    "\n",
    "#Print coefficients and associated features\n",
    "\n",
    "for i, col in enumerate(X.columns):\n",
    "    print('{} is associated with {}'.format(col,LinReg_model.coef_[i]))\n",
    "    \n",
    "#print intercept, in this case to remove negative values the intercept was removed.\n",
    "LinReg_model.intercept_"
   ]
  },
  {
   "cell_type": "code",
   "execution_count": 8,
   "metadata": {},
   "outputs": [],
   "source": [
    "#predict 2020 values using 2019 features\n",
    "X_2019 = qb_2019_merged_df.drop(columns = [\"PlayerID\",\"Rank\",\"Name\",\"Team\",\"Position\",\"PassingCompletions\",\"PassingYardsPerAttempt\",\"PassingRating\",\"FantasyPointsPerGame\",\"AirYardsPerAttempt\",\"AirYardsPerGame\",\"MoneyThrows\",\"PassingCompletionPercentage\",\"CompletionPercentage\",\"ProtectionRate\",\"TouchdownRate\",\"PassAttemptsPerGame\",\"AirYards\",\"PassingAttempts\",\"PassingInterceptions\",\"RushingYardsPerAttempt\",\"Played\"], axis = 1)\n",
    "scaler = StandardScaler().fit(X_2019)\n",
    "X_2019_scaled = scaler.transform(X_2019)\n",
    "\n",
    "QB_proj = LinReg_model.predict(X_2019_scaled)\n",
    "\n",
    "#values were 3 orders of magnitude larger than realistic values\n",
    "QB_proj = QB_proj"
   ]
  },
  {
   "cell_type": "code",
   "execution_count": 9,
   "metadata": {},
   "outputs": [],
   "source": [
    "#create df for a visual representation of effectiveness\n",
    "test_2019 = qb_2019_merged_df.loc[:,[\"Rank\",\"PlayerID\",\"Name\",\"Team\"]].rename(columns={'Rank': '2019 Rank','Team':'2019 Team'})\n",
    "test_2019[\"QB2020_proj\"] = QB_proj\n",
    "test_2020 = qb_2020_mergedtest_df.loc[:,[\"Rank\",\"PlayerID\",\"Team\",\"FantasyPoints\"]].rename(columns={'Rank': '2020 Actual Rank','Team':'2020 Team'})"
   ]
  },
  {
   "cell_type": "code",
   "execution_count": 10,
   "metadata": {},
   "outputs": [
    {
     "data": {
      "text/html": [
       "<div>\n",
       "<style scoped>\n",
       "    .dataframe tbody tr th:only-of-type {\n",
       "        vertical-align: middle;\n",
       "    }\n",
       "\n",
       "    .dataframe tbody tr th {\n",
       "        vertical-align: top;\n",
       "    }\n",
       "\n",
       "    .dataframe thead th {\n",
       "        text-align: right;\n",
       "    }\n",
       "</style>\n",
       "<table border=\"1\" class=\"dataframe\">\n",
       "  <thead>\n",
       "    <tr style=\"text-align: right;\">\n",
       "      <th></th>\n",
       "      <th>2019 Rank</th>\n",
       "      <th>PlayerID</th>\n",
       "      <th>Name</th>\n",
       "      <th>2019 Team</th>\n",
       "      <th>QB2020_proj</th>\n",
       "      <th>2020 Actual Rank</th>\n",
       "      <th>2020 Team</th>\n",
       "      <th>FantasyPoints</th>\n",
       "    </tr>\n",
       "  </thead>\n",
       "  <tbody>\n",
       "    <tr>\n",
       "      <th>3</th>\n",
       "      <td>6</td>\n",
       "      <td>19801</td>\n",
       "      <td>Josh Allen</td>\n",
       "      <td>BUF</td>\n",
       "      <td>383.864986</td>\n",
       "      <td>1</td>\n",
       "      <td>BUF</td>\n",
       "      <td>395.06</td>\n",
       "    </tr>\n",
       "    <tr>\n",
       "      <th>0</th>\n",
       "      <td>1</td>\n",
       "      <td>19781</td>\n",
       "      <td>Lamar Jackson</td>\n",
       "      <td>BAL</td>\n",
       "      <td>354.540688</td>\n",
       "      <td>10</td>\n",
       "      <td>BAL</td>\n",
       "      <td>332.78</td>\n",
       "    </tr>\n",
       "    <tr>\n",
       "      <th>1</th>\n",
       "      <td>3</td>\n",
       "      <td>14536</td>\n",
       "      <td>Russell Wilson</td>\n",
       "      <td>SEA</td>\n",
       "      <td>331.331346</td>\n",
       "      <td>6</td>\n",
       "      <td>SEA</td>\n",
       "      <td>359.78</td>\n",
       "    </tr>\n",
       "    <tr>\n",
       "      <th>2</th>\n",
       "      <td>4</td>\n",
       "      <td>18857</td>\n",
       "      <td>Deshaun Watson</td>\n",
       "      <td>HOU</td>\n",
       "      <td>328.332873</td>\n",
       "      <td>5</td>\n",
       "      <td>HOU</td>\n",
       "      <td>369.32</td>\n",
       "    </tr>\n",
       "    <tr>\n",
       "      <th>4</th>\n",
       "      <td>7</td>\n",
       "      <td>18890</td>\n",
       "      <td>Patrick Mahomes</td>\n",
       "      <td>KC</td>\n",
       "      <td>270.069987</td>\n",
       "      <td>4</td>\n",
       "      <td>KC</td>\n",
       "      <td>374.40</td>\n",
       "    </tr>\n",
       "    <tr>\n",
       "      <th>5</th>\n",
       "      <td>8</td>\n",
       "      <td>20889</td>\n",
       "      <td>Kyler Murray</td>\n",
       "      <td>ARI</td>\n",
       "      <td>260.825555</td>\n",
       "      <td>3</td>\n",
       "      <td>ARI</td>\n",
       "      <td>378.74</td>\n",
       "    </tr>\n",
       "    <tr>\n",
       "      <th>15</th>\n",
       "      <td>19</td>\n",
       "      <td>20880</td>\n",
       "      <td>Gardner Minshew</td>\n",
       "      <td>JAX</td>\n",
       "      <td>251.206975</td>\n",
       "      <td>26</td>\n",
       "      <td>JAX</td>\n",
       "      <td>159.66</td>\n",
       "    </tr>\n",
       "    <tr>\n",
       "      <th>6</th>\n",
       "      <td>9</td>\n",
       "      <td>2593</td>\n",
       "      <td>Aaron Rodgers</td>\n",
       "      <td>GB</td>\n",
       "      <td>248.155384</td>\n",
       "      <td>2</td>\n",
       "      <td>GB</td>\n",
       "      <td>382.26</td>\n",
       "    </tr>\n",
       "    <tr>\n",
       "      <th>23</th>\n",
       "      <td>29</td>\n",
       "      <td>9038</td>\n",
       "      <td>Matthew Stafford</td>\n",
       "      <td>DET</td>\n",
       "      <td>246.282844</td>\n",
       "      <td>15</td>\n",
       "      <td>DET</td>\n",
       "      <td>260.56</td>\n",
       "    </tr>\n",
       "    <tr>\n",
       "      <th>20</th>\n",
       "      <td>25</td>\n",
       "      <td>18811</td>\n",
       "      <td>Mitchell Trubisky</td>\n",
       "      <td>CHI</td>\n",
       "      <td>220.917047</td>\n",
       "      <td>27</td>\n",
       "      <td>CHI</td>\n",
       "      <td>153.70</td>\n",
       "    </tr>\n",
       "    <tr>\n",
       "      <th>11</th>\n",
       "      <td>15</td>\n",
       "      <td>14252</td>\n",
       "      <td>Kirk Cousins</td>\n",
       "      <td>MIN</td>\n",
       "      <td>218.301048</td>\n",
       "      <td>11</td>\n",
       "      <td>MIN</td>\n",
       "      <td>306.20</td>\n",
       "    </tr>\n",
       "    <tr>\n",
       "      <th>7</th>\n",
       "      <td>10</td>\n",
       "      <td>17920</td>\n",
       "      <td>Carson Wentz</td>\n",
       "      <td>PHI</td>\n",
       "      <td>207.338885</td>\n",
       "      <td>22</td>\n",
       "      <td>PHI</td>\n",
       "      <td>198.40</td>\n",
       "    </tr>\n",
       "    <tr>\n",
       "      <th>9</th>\n",
       "      <td>12</td>\n",
       "      <td>4314</td>\n",
       "      <td>Tom Brady</td>\n",
       "      <td>NE</td>\n",
       "      <td>206.519091</td>\n",
       "      <td>8</td>\n",
       "      <td>TB</td>\n",
       "      <td>337.92</td>\n",
       "    </tr>\n",
       "    <tr>\n",
       "      <th>18</th>\n",
       "      <td>22</td>\n",
       "      <td>13799</td>\n",
       "      <td>Ryan Tannehill</td>\n",
       "      <td>TEN</td>\n",
       "      <td>188.735766</td>\n",
       "      <td>7</td>\n",
       "      <td>TEN</td>\n",
       "      <td>343.36</td>\n",
       "    </tr>\n",
       "    <tr>\n",
       "      <th>19</th>\n",
       "      <td>24</td>\n",
       "      <td>20841</td>\n",
       "      <td>Daniel Jones</td>\n",
       "      <td>NYG</td>\n",
       "      <td>179.496067</td>\n",
       "      <td>24</td>\n",
       "      <td>NYG</td>\n",
       "      <td>180.02</td>\n",
       "    </tr>\n",
       "    <tr>\n",
       "      <th>17</th>\n",
       "      <td>21</td>\n",
       "      <td>7242</td>\n",
       "      <td>Drew Brees</td>\n",
       "      <td>NO</td>\n",
       "      <td>172.330451</td>\n",
       "      <td>21</td>\n",
       "      <td>NO</td>\n",
       "      <td>209.48</td>\n",
       "    </tr>\n",
       "    <tr>\n",
       "      <th>13</th>\n",
       "      <td>17</td>\n",
       "      <td>8283</td>\n",
       "      <td>Ryan Fitzpatrick</td>\n",
       "      <td>MIA</td>\n",
       "      <td>166.939381</td>\n",
       "      <td>28</td>\n",
       "      <td>MIA</td>\n",
       "      <td>152.74</td>\n",
       "    </tr>\n",
       "    <tr>\n",
       "      <th>16</th>\n",
       "      <td>20</td>\n",
       "      <td>19790</td>\n",
       "      <td>Baker Mayfield</td>\n",
       "      <td>CLE</td>\n",
       "      <td>163.816886</td>\n",
       "      <td>17</td>\n",
       "      <td>CLE</td>\n",
       "      <td>247.62</td>\n",
       "    </tr>\n",
       "    <tr>\n",
       "      <th>21</th>\n",
       "      <td>26</td>\n",
       "      <td>12841</td>\n",
       "      <td>Andy Dalton</td>\n",
       "      <td>CIN</td>\n",
       "      <td>158.021348</td>\n",
       "      <td>30</td>\n",
       "      <td>DAL</td>\n",
       "      <td>135.86</td>\n",
       "    </tr>\n",
       "    <tr>\n",
       "      <th>22</th>\n",
       "      <td>27</td>\n",
       "      <td>19812</td>\n",
       "      <td>Sam Darnold</td>\n",
       "      <td>NYJ</td>\n",
       "      <td>146.764881</td>\n",
       "      <td>33</td>\n",
       "      <td>NYJ</td>\n",
       "      <td>134.02</td>\n",
       "    </tr>\n",
       "    <tr>\n",
       "      <th>12</th>\n",
       "      <td>16</td>\n",
       "      <td>16311</td>\n",
       "      <td>Derek Carr</td>\n",
       "      <td>LV</td>\n",
       "      <td>122.049491</td>\n",
       "      <td>13</td>\n",
       "      <td>LV</td>\n",
       "      <td>272.12</td>\n",
       "    </tr>\n",
       "    <tr>\n",
       "      <th>8</th>\n",
       "      <td>11</td>\n",
       "      <td>732</td>\n",
       "      <td>Matt Ryan</td>\n",
       "      <td>ATL</td>\n",
       "      <td>97.366601</td>\n",
       "      <td>12</td>\n",
       "      <td>ATL</td>\n",
       "      <td>280.44</td>\n",
       "    </tr>\n",
       "    <tr>\n",
       "      <th>10</th>\n",
       "      <td>13</td>\n",
       "      <td>17922</td>\n",
       "      <td>Jared Goff</td>\n",
       "      <td>LAR</td>\n",
       "      <td>64.450177</td>\n",
       "      <td>19</td>\n",
       "      <td>LAR</td>\n",
       "      <td>239.98</td>\n",
       "    </tr>\n",
       "    <tr>\n",
       "      <th>14</th>\n",
       "      <td>18</td>\n",
       "      <td>8244</td>\n",
       "      <td>Philip Rivers</td>\n",
       "      <td>LAC</td>\n",
       "      <td>-21.322252</td>\n",
       "      <td>20</td>\n",
       "      <td>IND</td>\n",
       "      <td>239.96</td>\n",
       "    </tr>\n",
       "  </tbody>\n",
       "</table>\n",
       "</div>"
      ],
      "text/plain": [
       "    2019 Rank  PlayerID               Name 2019 Team  QB2020_proj  \\\n",
       "3           6     19801         Josh Allen       BUF   383.864986   \n",
       "0           1     19781      Lamar Jackson       BAL   354.540688   \n",
       "1           3     14536     Russell Wilson       SEA   331.331346   \n",
       "2           4     18857     Deshaun Watson       HOU   328.332873   \n",
       "4           7     18890    Patrick Mahomes        KC   270.069987   \n",
       "5           8     20889       Kyler Murray       ARI   260.825555   \n",
       "15         19     20880    Gardner Minshew       JAX   251.206975   \n",
       "6           9      2593      Aaron Rodgers        GB   248.155384   \n",
       "23         29      9038   Matthew Stafford       DET   246.282844   \n",
       "20         25     18811  Mitchell Trubisky       CHI   220.917047   \n",
       "11         15     14252       Kirk Cousins       MIN   218.301048   \n",
       "7          10     17920       Carson Wentz       PHI   207.338885   \n",
       "9          12      4314          Tom Brady        NE   206.519091   \n",
       "18         22     13799     Ryan Tannehill       TEN   188.735766   \n",
       "19         24     20841       Daniel Jones       NYG   179.496067   \n",
       "17         21      7242         Drew Brees        NO   172.330451   \n",
       "13         17      8283   Ryan Fitzpatrick       MIA   166.939381   \n",
       "16         20     19790     Baker Mayfield       CLE   163.816886   \n",
       "21         26     12841        Andy Dalton       CIN   158.021348   \n",
       "22         27     19812        Sam Darnold       NYJ   146.764881   \n",
       "12         16     16311         Derek Carr        LV   122.049491   \n",
       "8          11       732          Matt Ryan       ATL    97.366601   \n",
       "10         13     17922         Jared Goff       LAR    64.450177   \n",
       "14         18      8244      Philip Rivers       LAC   -21.322252   \n",
       "\n",
       "    2020 Actual Rank 2020 Team  FantasyPoints  \n",
       "3                  1       BUF         395.06  \n",
       "0                 10       BAL         332.78  \n",
       "1                  6       SEA         359.78  \n",
       "2                  5       HOU         369.32  \n",
       "4                  4        KC         374.40  \n",
       "5                  3       ARI         378.74  \n",
       "15                26       JAX         159.66  \n",
       "6                  2        GB         382.26  \n",
       "23                15       DET         260.56  \n",
       "20                27       CHI         153.70  \n",
       "11                11       MIN         306.20  \n",
       "7                 22       PHI         198.40  \n",
       "9                  8        TB         337.92  \n",
       "18                 7       TEN         343.36  \n",
       "19                24       NYG         180.02  \n",
       "17                21        NO         209.48  \n",
       "13                28       MIA         152.74  \n",
       "16                17       CLE         247.62  \n",
       "21                30       DAL         135.86  \n",
       "22                33       NYJ         134.02  \n",
       "12                13        LV         272.12  \n",
       "8                 12       ATL         280.44  \n",
       "10                19       LAR         239.98  \n",
       "14                20       IND         239.96  "
      ]
     },
     "execution_count": 10,
     "metadata": {},
     "output_type": "execute_result"
    }
   ],
   "source": [
    "test_2019_2020_df = pd.merge(test_2019,test_2020,on = \"PlayerID\")\n",
    "test_2019_2020_df.sort_values([\"QB2020_proj\"], ascending=False)"
   ]
  },
  {
   "cell_type": "code",
   "execution_count": 15,
   "metadata": {},
   "outputs": [
    {
     "data": {
      "application/vnd.plotly.v1+json": {
       "config": {
        "plotlyServerURL": "https://plot.ly"
       },
       "data": [
        {
         "hovertemplate": "Player Name=Lamar Jackson<br>2020 Actual=%{x}<br>2020 Projected=%{y}<extra></extra>",
         "legendgroup": "Lamar Jackson",
         "marker": {
          "color": "#636efa",
          "opacity": 0.65,
          "symbol": "circle"
         },
         "mode": "markers",
         "name": "Lamar Jackson",
         "orientation": "v",
         "showlegend": true,
         "type": "scatter",
         "x": [
          332.78
         ],
         "xaxis": "x",
         "y": [
          354.540688385762
         ],
         "yaxis": "y"
        },
        {
         "hovertemplate": "Player Name=Russell Wilson<br>2020 Actual=%{x}<br>2020 Projected=%{y}<extra></extra>",
         "legendgroup": "Russell Wilson",
         "marker": {
          "color": "#EF553B",
          "opacity": 0.65,
          "symbol": "circle"
         },
         "mode": "markers",
         "name": "Russell Wilson",
         "orientation": "v",
         "showlegend": true,
         "type": "scatter",
         "x": [
          359.78
         ],
         "xaxis": "x",
         "y": [
          331.33134552755536
         ],
         "yaxis": "y"
        },
        {
         "hovertemplate": "Player Name=Deshaun Watson<br>2020 Actual=%{x}<br>2020 Projected=%{y}<extra></extra>",
         "legendgroup": "Deshaun Watson",
         "marker": {
          "color": "#00cc96",
          "opacity": 0.65,
          "symbol": "circle"
         },
         "mode": "markers",
         "name": "Deshaun Watson",
         "orientation": "v",
         "showlegend": true,
         "type": "scatter",
         "x": [
          369.32
         ],
         "xaxis": "x",
         "y": [
          328.33287320137583
         ],
         "yaxis": "y"
        },
        {
         "hovertemplate": "Player Name=Josh Allen<br>2020 Actual=%{x}<br>2020 Projected=%{y}<extra></extra>",
         "legendgroup": "Josh Allen",
         "marker": {
          "color": "#ab63fa",
          "opacity": 0.65,
          "symbol": "circle"
         },
         "mode": "markers",
         "name": "Josh Allen",
         "orientation": "v",
         "showlegend": true,
         "type": "scatter",
         "x": [
          395.06
         ],
         "xaxis": "x",
         "y": [
          383.8649855515106
         ],
         "yaxis": "y"
        },
        {
         "hovertemplate": "Player Name=Patrick Mahomes<br>2020 Actual=%{x}<br>2020 Projected=%{y}<extra></extra>",
         "legendgroup": "Patrick Mahomes",
         "marker": {
          "color": "#FFA15A",
          "opacity": 0.65,
          "symbol": "circle"
         },
         "mode": "markers",
         "name": "Patrick Mahomes",
         "orientation": "v",
         "showlegend": true,
         "type": "scatter",
         "x": [
          374.4
         ],
         "xaxis": "x",
         "y": [
          270.06998675506156
         ],
         "yaxis": "y"
        },
        {
         "hovertemplate": "Player Name=Kyler Murray<br>2020 Actual=%{x}<br>2020 Projected=%{y}<extra></extra>",
         "legendgroup": "Kyler Murray",
         "marker": {
          "color": "#19d3f3",
          "opacity": 0.65,
          "symbol": "circle"
         },
         "mode": "markers",
         "name": "Kyler Murray",
         "orientation": "v",
         "showlegend": true,
         "type": "scatter",
         "x": [
          378.74
         ],
         "xaxis": "x",
         "y": [
          260.8255554238454
         ],
         "yaxis": "y"
        },
        {
         "hovertemplate": "Player Name=Aaron Rodgers<br>2020 Actual=%{x}<br>2020 Projected=%{y}<extra></extra>",
         "legendgroup": "Aaron Rodgers",
         "marker": {
          "color": "#FF6692",
          "opacity": 0.65,
          "symbol": "circle"
         },
         "mode": "markers",
         "name": "Aaron Rodgers",
         "orientation": "v",
         "showlegend": true,
         "type": "scatter",
         "x": [
          382.26
         ],
         "xaxis": "x",
         "y": [
          248.15538351858828
         ],
         "yaxis": "y"
        },
        {
         "hovertemplate": "Player Name=Carson Wentz<br>2020 Actual=%{x}<br>2020 Projected=%{y}<extra></extra>",
         "legendgroup": "Carson Wentz",
         "marker": {
          "color": "#B6E880",
          "opacity": 0.65,
          "symbol": "circle"
         },
         "mode": "markers",
         "name": "Carson Wentz",
         "orientation": "v",
         "showlegend": true,
         "type": "scatter",
         "x": [
          198.4
         ],
         "xaxis": "x",
         "y": [
          207.3388847205428
         ],
         "yaxis": "y"
        },
        {
         "hovertemplate": "Player Name=Matt Ryan<br>2020 Actual=%{x}<br>2020 Projected=%{y}<extra></extra>",
         "legendgroup": "Matt Ryan",
         "marker": {
          "color": "#FF97FF",
          "opacity": 0.65,
          "symbol": "circle"
         },
         "mode": "markers",
         "name": "Matt Ryan",
         "orientation": "v",
         "showlegend": true,
         "type": "scatter",
         "x": [
          280.44
         ],
         "xaxis": "x",
         "y": [
          97.36660070004031
         ],
         "yaxis": "y"
        },
        {
         "hovertemplate": "Player Name=Tom Brady<br>2020 Actual=%{x}<br>2020 Projected=%{y}<extra></extra>",
         "legendgroup": "Tom Brady",
         "marker": {
          "color": "#FECB52",
          "opacity": 0.65,
          "symbol": "circle"
         },
         "mode": "markers",
         "name": "Tom Brady",
         "orientation": "v",
         "showlegend": true,
         "type": "scatter",
         "x": [
          337.92
         ],
         "xaxis": "x",
         "y": [
          206.51909058441592
         ],
         "yaxis": "y"
        },
        {
         "hovertemplate": "Player Name=Jared Goff<br>2020 Actual=%{x}<br>2020 Projected=%{y}<extra></extra>",
         "legendgroup": "Jared Goff",
         "marker": {
          "color": "#636efa",
          "opacity": 0.65,
          "symbol": "circle"
         },
         "mode": "markers",
         "name": "Jared Goff",
         "orientation": "v",
         "showlegend": true,
         "type": "scatter",
         "x": [
          239.98
         ],
         "xaxis": "x",
         "y": [
          64.4501772371477
         ],
         "yaxis": "y"
        },
        {
         "hovertemplate": "Player Name=Kirk Cousins<br>2020 Actual=%{x}<br>2020 Projected=%{y}<extra></extra>",
         "legendgroup": "Kirk Cousins",
         "marker": {
          "color": "#EF553B",
          "opacity": 0.65,
          "symbol": "circle"
         },
         "mode": "markers",
         "name": "Kirk Cousins",
         "orientation": "v",
         "showlegend": true,
         "type": "scatter",
         "x": [
          306.2
         ],
         "xaxis": "x",
         "y": [
          218.301048459857
         ],
         "yaxis": "y"
        },
        {
         "hovertemplate": "Player Name=Derek Carr<br>2020 Actual=%{x}<br>2020 Projected=%{y}<extra></extra>",
         "legendgroup": "Derek Carr",
         "marker": {
          "color": "#00cc96",
          "opacity": 0.65,
          "symbol": "circle"
         },
         "mode": "markers",
         "name": "Derek Carr",
         "orientation": "v",
         "showlegend": true,
         "type": "scatter",
         "x": [
          272.12
         ],
         "xaxis": "x",
         "y": [
          122.04949127057911
         ],
         "yaxis": "y"
        },
        {
         "hovertemplate": "Player Name=Ryan Fitzpatrick<br>2020 Actual=%{x}<br>2020 Projected=%{y}<extra></extra>",
         "legendgroup": "Ryan Fitzpatrick",
         "marker": {
          "color": "#ab63fa",
          "opacity": 0.65,
          "symbol": "circle"
         },
         "mode": "markers",
         "name": "Ryan Fitzpatrick",
         "orientation": "v",
         "showlegend": true,
         "type": "scatter",
         "x": [
          152.74
         ],
         "xaxis": "x",
         "y": [
          166.93938074083093
         ],
         "yaxis": "y"
        },
        {
         "hovertemplate": "Player Name=Philip Rivers<br>2020 Actual=%{x}<br>2020 Projected=%{y}<extra></extra>",
         "legendgroup": "Philip Rivers",
         "marker": {
          "color": "#FFA15A",
          "opacity": 0.65,
          "symbol": "circle"
         },
         "mode": "markers",
         "name": "Philip Rivers",
         "orientation": "v",
         "showlegend": true,
         "type": "scatter",
         "x": [
          239.96
         ],
         "xaxis": "x",
         "y": [
          -21.32225206679044
         ],
         "yaxis": "y"
        },
        {
         "hovertemplate": "Player Name=Gardner Minshew<br>2020 Actual=%{x}<br>2020 Projected=%{y}<extra></extra>",
         "legendgroup": "Gardner Minshew",
         "marker": {
          "color": "#19d3f3",
          "opacity": 0.65,
          "symbol": "circle"
         },
         "mode": "markers",
         "name": "Gardner Minshew",
         "orientation": "v",
         "showlegend": true,
         "type": "scatter",
         "x": [
          159.66
         ],
         "xaxis": "x",
         "y": [
          251.20697517133556
         ],
         "yaxis": "y"
        },
        {
         "hovertemplate": "Player Name=Baker Mayfield<br>2020 Actual=%{x}<br>2020 Projected=%{y}<extra></extra>",
         "legendgroup": "Baker Mayfield",
         "marker": {
          "color": "#FF6692",
          "opacity": 0.65,
          "symbol": "circle"
         },
         "mode": "markers",
         "name": "Baker Mayfield",
         "orientation": "v",
         "showlegend": true,
         "type": "scatter",
         "x": [
          247.62
         ],
         "xaxis": "x",
         "y": [
          163.81688629310858
         ],
         "yaxis": "y"
        },
        {
         "hovertemplate": "Player Name=Drew Brees<br>2020 Actual=%{x}<br>2020 Projected=%{y}<extra></extra>",
         "legendgroup": "Drew Brees",
         "marker": {
          "color": "#B6E880",
          "opacity": 0.65,
          "symbol": "circle"
         },
         "mode": "markers",
         "name": "Drew Brees",
         "orientation": "v",
         "showlegend": true,
         "type": "scatter",
         "x": [
          209.48
         ],
         "xaxis": "x",
         "y": [
          172.33045149343454
         ],
         "yaxis": "y"
        },
        {
         "hovertemplate": "Player Name=Ryan Tannehill<br>2020 Actual=%{x}<br>2020 Projected=%{y}<extra></extra>",
         "legendgroup": "Ryan Tannehill",
         "marker": {
          "color": "#FF97FF",
          "opacity": 0.65,
          "symbol": "circle"
         },
         "mode": "markers",
         "name": "Ryan Tannehill",
         "orientation": "v",
         "showlegend": true,
         "type": "scatter",
         "x": [
          343.36
         ],
         "xaxis": "x",
         "y": [
          188.7357658250981
         ],
         "yaxis": "y"
        },
        {
         "hovertemplate": "Player Name=Daniel Jones<br>2020 Actual=%{x}<br>2020 Projected=%{y}<extra></extra>",
         "legendgroup": "Daniel Jones",
         "marker": {
          "color": "#FECB52",
          "opacity": 0.65,
          "symbol": "circle"
         },
         "mode": "markers",
         "name": "Daniel Jones",
         "orientation": "v",
         "showlegend": true,
         "type": "scatter",
         "x": [
          180.02
         ],
         "xaxis": "x",
         "y": [
          179.4960666811074
         ],
         "yaxis": "y"
        },
        {
         "hovertemplate": "Player Name=Mitchell Trubisky<br>2020 Actual=%{x}<br>2020 Projected=%{y}<extra></extra>",
         "legendgroup": "Mitchell Trubisky",
         "marker": {
          "color": "#636efa",
          "opacity": 0.65,
          "symbol": "circle"
         },
         "mode": "markers",
         "name": "Mitchell Trubisky",
         "orientation": "v",
         "showlegend": true,
         "type": "scatter",
         "x": [
          153.7
         ],
         "xaxis": "x",
         "y": [
          220.917046656446
         ],
         "yaxis": "y"
        },
        {
         "hovertemplate": "Player Name=Andy Dalton<br>2020 Actual=%{x}<br>2020 Projected=%{y}<extra></extra>",
         "legendgroup": "Andy Dalton",
         "marker": {
          "color": "#EF553B",
          "opacity": 0.65,
          "symbol": "circle"
         },
         "mode": "markers",
         "name": "Andy Dalton",
         "orientation": "v",
         "showlegend": true,
         "type": "scatter",
         "x": [
          135.86
         ],
         "xaxis": "x",
         "y": [
          158.02134814471918
         ],
         "yaxis": "y"
        },
        {
         "hovertemplate": "Player Name=Sam Darnold<br>2020 Actual=%{x}<br>2020 Projected=%{y}<extra></extra>",
         "legendgroup": "Sam Darnold",
         "marker": {
          "color": "#00cc96",
          "opacity": 0.65,
          "symbol": "circle"
         },
         "mode": "markers",
         "name": "Sam Darnold",
         "orientation": "v",
         "showlegend": true,
         "type": "scatter",
         "x": [
          134.02
         ],
         "xaxis": "x",
         "y": [
          146.76488058751892
         ],
         "yaxis": "y"
        },
        {
         "hovertemplate": "Player Name=Matthew Stafford<br>2020 Actual=%{x}<br>2020 Projected=%{y}<extra></extra>",
         "legendgroup": "Matthew Stafford",
         "marker": {
          "color": "#ab63fa",
          "opacity": 0.65,
          "symbol": "circle"
         },
         "mode": "markers",
         "name": "Matthew Stafford",
         "orientation": "v",
         "showlegend": true,
         "type": "scatter",
         "x": [
          260.56
         ],
         "xaxis": "x",
         "y": [
          246.28284378602694
         ],
         "yaxis": "y"
        },
        {
         "name": "Ideal Fit",
         "type": "scatter",
         "x": [
          134.02,
          136.65676767676769,
          139.29353535353536,
          141.93030303030304,
          144.5670707070707,
          147.2038383838384,
          149.84060606060606,
          152.47737373737374,
          155.11414141414141,
          157.7509090909091,
          160.38767676767677,
          163.02444444444444,
          165.66121212121212,
          168.2979797979798,
          170.9347474747475,
          173.57151515151514,
          176.20828282828285,
          178.8450505050505,
          181.4818181818182,
          184.11858585858585,
          186.75535353535355,
          189.39212121212122,
          192.0288888888889,
          194.66565656565658,
          197.30242424242425,
          199.93919191919193,
          202.5759595959596,
          205.21272727272728,
          207.84949494949495,
          210.48626262626263,
          213.1230303030303,
          215.75979797979798,
          218.39656565656566,
          221.03333333333333,
          223.670101010101,
          226.30686868686868,
          228.94363636363636,
          231.58040404040403,
          234.2171717171717,
          236.85393939393938,
          239.49070707070706,
          242.12747474747476,
          244.7642424242424,
          247.40101010101012,
          250.03777777777776,
          252.67454545454547,
          255.3113131313131,
          257.9480808080808,
          260.58484848484846,
          263.22161616161617,
          265.8583838383838,
          268.4951515151515,
          271.1319191919192,
          273.76868686868687,
          276.4054545454545,
          279.0422222222222,
          281.6789898989899,
          284.3157575757576,
          286.9525252525252,
          289.5892929292929,
          292.2260606060606,
          294.8628282828283,
          297.4995959595959,
          300.1363636363636,
          302.77313131313133,
          305.409898989899,
          308.0466666666666,
          310.6834343434343,
          313.32020202020203,
          315.9569696969697,
          318.5937373737373,
          321.23050505050503,
          323.86727272727273,
          326.5040404040404,
          329.14080808080803,
          331.77757575757573,
          334.41434343434344,
          337.0511111111111,
          339.68787878787873,
          342.32464646464643,
          344.96141414141414,
          347.59818181818184,
          350.2349494949495,
          352.87171717171714,
          355.50848484848484,
          358.14525252525254,
          360.7820202020202,
          363.41878787878784,
          366.05555555555554,
          368.69232323232325,
          371.3290909090909,
          373.96585858585854,
          376.60262626262625,
          379.23939393939395,
          381.8761616161616,
          384.51292929292924,
          387.14969696969695,
          389.78646464646465,
          392.42323232323236,
          395.06
         ],
         "y": [
          134.02,
          136.65676767676769,
          139.29353535353536,
          141.93030303030304,
          144.5670707070707,
          147.2038383838384,
          149.84060606060606,
          152.47737373737374,
          155.11414141414141,
          157.7509090909091,
          160.38767676767677,
          163.02444444444444,
          165.66121212121212,
          168.2979797979798,
          170.9347474747475,
          173.57151515151514,
          176.20828282828285,
          178.8450505050505,
          181.4818181818182,
          184.11858585858585,
          186.75535353535355,
          189.39212121212122,
          192.0288888888889,
          194.66565656565658,
          197.30242424242425,
          199.93919191919193,
          202.5759595959596,
          205.21272727272728,
          207.84949494949495,
          210.48626262626263,
          213.1230303030303,
          215.75979797979798,
          218.39656565656566,
          221.03333333333333,
          223.670101010101,
          226.30686868686868,
          228.94363636363636,
          231.58040404040403,
          234.2171717171717,
          236.85393939393938,
          239.49070707070706,
          242.12747474747476,
          244.7642424242424,
          247.40101010101012,
          250.03777777777776,
          252.67454545454547,
          255.3113131313131,
          257.9480808080808,
          260.58484848484846,
          263.22161616161617,
          265.8583838383838,
          268.4951515151515,
          271.1319191919192,
          273.76868686868687,
          276.4054545454545,
          279.0422222222222,
          281.6789898989899,
          284.3157575757576,
          286.9525252525252,
          289.5892929292929,
          292.2260606060606,
          294.8628282828283,
          297.4995959595959,
          300.1363636363636,
          302.77313131313133,
          305.409898989899,
          308.0466666666666,
          310.6834343434343,
          313.32020202020203,
          315.9569696969697,
          318.5937373737373,
          321.23050505050503,
          323.86727272727273,
          326.5040404040404,
          329.14080808080803,
          331.77757575757573,
          334.41434343434344,
          337.0511111111111,
          339.68787878787873,
          342.32464646464643,
          344.96141414141414,
          347.59818181818184,
          350.2349494949495,
          352.87171717171714,
          355.50848484848484,
          358.14525252525254,
          360.7820202020202,
          363.41878787878784,
          366.05555555555554,
          368.69232323232325,
          371.3290909090909,
          373.96585858585854,
          376.60262626262625,
          379.23939393939395,
          381.8761616161616,
          384.51292929292924,
          387.14969696969695,
          389.78646464646465,
          392.42323232323236,
          395.06
         ]
        }
       ],
       "layout": {
        "legend": {
         "title": {
          "text": "Player Name"
         },
         "tracegroupgap": 0,
         "traceorder": "reversed"
        },
        "margin": {
         "t": 60
        },
        "template": {
         "data": {
          "bar": [
           {
            "error_x": {
             "color": "#2a3f5f"
            },
            "error_y": {
             "color": "#2a3f5f"
            },
            "marker": {
             "line": {
              "color": "#E5ECF6",
              "width": 0.5
             },
             "pattern": {
              "fillmode": "overlay",
              "size": 10,
              "solidity": 0.2
             }
            },
            "type": "bar"
           }
          ],
          "barpolar": [
           {
            "marker": {
             "line": {
              "color": "#E5ECF6",
              "width": 0.5
             },
             "pattern": {
              "fillmode": "overlay",
              "size": 10,
              "solidity": 0.2
             }
            },
            "type": "barpolar"
           }
          ],
          "carpet": [
           {
            "aaxis": {
             "endlinecolor": "#2a3f5f",
             "gridcolor": "white",
             "linecolor": "white",
             "minorgridcolor": "white",
             "startlinecolor": "#2a3f5f"
            },
            "baxis": {
             "endlinecolor": "#2a3f5f",
             "gridcolor": "white",
             "linecolor": "white",
             "minorgridcolor": "white",
             "startlinecolor": "#2a3f5f"
            },
            "type": "carpet"
           }
          ],
          "choropleth": [
           {
            "colorbar": {
             "outlinewidth": 0,
             "ticks": ""
            },
            "type": "choropleth"
           }
          ],
          "contour": [
           {
            "colorbar": {
             "outlinewidth": 0,
             "ticks": ""
            },
            "colorscale": [
             [
              0,
              "#0d0887"
             ],
             [
              0.1111111111111111,
              "#46039f"
             ],
             [
              0.2222222222222222,
              "#7201a8"
             ],
             [
              0.3333333333333333,
              "#9c179e"
             ],
             [
              0.4444444444444444,
              "#bd3786"
             ],
             [
              0.5555555555555556,
              "#d8576b"
             ],
             [
              0.6666666666666666,
              "#ed7953"
             ],
             [
              0.7777777777777778,
              "#fb9f3a"
             ],
             [
              0.8888888888888888,
              "#fdca26"
             ],
             [
              1,
              "#f0f921"
             ]
            ],
            "type": "contour"
           }
          ],
          "contourcarpet": [
           {
            "colorbar": {
             "outlinewidth": 0,
             "ticks": ""
            },
            "type": "contourcarpet"
           }
          ],
          "heatmap": [
           {
            "colorbar": {
             "outlinewidth": 0,
             "ticks": ""
            },
            "colorscale": [
             [
              0,
              "#0d0887"
             ],
             [
              0.1111111111111111,
              "#46039f"
             ],
             [
              0.2222222222222222,
              "#7201a8"
             ],
             [
              0.3333333333333333,
              "#9c179e"
             ],
             [
              0.4444444444444444,
              "#bd3786"
             ],
             [
              0.5555555555555556,
              "#d8576b"
             ],
             [
              0.6666666666666666,
              "#ed7953"
             ],
             [
              0.7777777777777778,
              "#fb9f3a"
             ],
             [
              0.8888888888888888,
              "#fdca26"
             ],
             [
              1,
              "#f0f921"
             ]
            ],
            "type": "heatmap"
           }
          ],
          "heatmapgl": [
           {
            "colorbar": {
             "outlinewidth": 0,
             "ticks": ""
            },
            "colorscale": [
             [
              0,
              "#0d0887"
             ],
             [
              0.1111111111111111,
              "#46039f"
             ],
             [
              0.2222222222222222,
              "#7201a8"
             ],
             [
              0.3333333333333333,
              "#9c179e"
             ],
             [
              0.4444444444444444,
              "#bd3786"
             ],
             [
              0.5555555555555556,
              "#d8576b"
             ],
             [
              0.6666666666666666,
              "#ed7953"
             ],
             [
              0.7777777777777778,
              "#fb9f3a"
             ],
             [
              0.8888888888888888,
              "#fdca26"
             ],
             [
              1,
              "#f0f921"
             ]
            ],
            "type": "heatmapgl"
           }
          ],
          "histogram": [
           {
            "marker": {
             "pattern": {
              "fillmode": "overlay",
              "size": 10,
              "solidity": 0.2
             }
            },
            "type": "histogram"
           }
          ],
          "histogram2d": [
           {
            "colorbar": {
             "outlinewidth": 0,
             "ticks": ""
            },
            "colorscale": [
             [
              0,
              "#0d0887"
             ],
             [
              0.1111111111111111,
              "#46039f"
             ],
             [
              0.2222222222222222,
              "#7201a8"
             ],
             [
              0.3333333333333333,
              "#9c179e"
             ],
             [
              0.4444444444444444,
              "#bd3786"
             ],
             [
              0.5555555555555556,
              "#d8576b"
             ],
             [
              0.6666666666666666,
              "#ed7953"
             ],
             [
              0.7777777777777778,
              "#fb9f3a"
             ],
             [
              0.8888888888888888,
              "#fdca26"
             ],
             [
              1,
              "#f0f921"
             ]
            ],
            "type": "histogram2d"
           }
          ],
          "histogram2dcontour": [
           {
            "colorbar": {
             "outlinewidth": 0,
             "ticks": ""
            },
            "colorscale": [
             [
              0,
              "#0d0887"
             ],
             [
              0.1111111111111111,
              "#46039f"
             ],
             [
              0.2222222222222222,
              "#7201a8"
             ],
             [
              0.3333333333333333,
              "#9c179e"
             ],
             [
              0.4444444444444444,
              "#bd3786"
             ],
             [
              0.5555555555555556,
              "#d8576b"
             ],
             [
              0.6666666666666666,
              "#ed7953"
             ],
             [
              0.7777777777777778,
              "#fb9f3a"
             ],
             [
              0.8888888888888888,
              "#fdca26"
             ],
             [
              1,
              "#f0f921"
             ]
            ],
            "type": "histogram2dcontour"
           }
          ],
          "mesh3d": [
           {
            "colorbar": {
             "outlinewidth": 0,
             "ticks": ""
            },
            "type": "mesh3d"
           }
          ],
          "parcoords": [
           {
            "line": {
             "colorbar": {
              "outlinewidth": 0,
              "ticks": ""
             }
            },
            "type": "parcoords"
           }
          ],
          "pie": [
           {
            "automargin": true,
            "type": "pie"
           }
          ],
          "scatter": [
           {
            "fillpattern": {
             "fillmode": "overlay",
             "size": 10,
             "solidity": 0.2
            },
            "type": "scatter"
           }
          ],
          "scatter3d": [
           {
            "line": {
             "colorbar": {
              "outlinewidth": 0,
              "ticks": ""
             }
            },
            "marker": {
             "colorbar": {
              "outlinewidth": 0,
              "ticks": ""
             }
            },
            "type": "scatter3d"
           }
          ],
          "scattercarpet": [
           {
            "marker": {
             "colorbar": {
              "outlinewidth": 0,
              "ticks": ""
             }
            },
            "type": "scattercarpet"
           }
          ],
          "scattergeo": [
           {
            "marker": {
             "colorbar": {
              "outlinewidth": 0,
              "ticks": ""
             }
            },
            "type": "scattergeo"
           }
          ],
          "scattergl": [
           {
            "marker": {
             "colorbar": {
              "outlinewidth": 0,
              "ticks": ""
             }
            },
            "type": "scattergl"
           }
          ],
          "scattermapbox": [
           {
            "marker": {
             "colorbar": {
              "outlinewidth": 0,
              "ticks": ""
             }
            },
            "type": "scattermapbox"
           }
          ],
          "scatterpolar": [
           {
            "marker": {
             "colorbar": {
              "outlinewidth": 0,
              "ticks": ""
             }
            },
            "type": "scatterpolar"
           }
          ],
          "scatterpolargl": [
           {
            "marker": {
             "colorbar": {
              "outlinewidth": 0,
              "ticks": ""
             }
            },
            "type": "scatterpolargl"
           }
          ],
          "scatterternary": [
           {
            "marker": {
             "colorbar": {
              "outlinewidth": 0,
              "ticks": ""
             }
            },
            "type": "scatterternary"
           }
          ],
          "surface": [
           {
            "colorbar": {
             "outlinewidth": 0,
             "ticks": ""
            },
            "colorscale": [
             [
              0,
              "#0d0887"
             ],
             [
              0.1111111111111111,
              "#46039f"
             ],
             [
              0.2222222222222222,
              "#7201a8"
             ],
             [
              0.3333333333333333,
              "#9c179e"
             ],
             [
              0.4444444444444444,
              "#bd3786"
             ],
             [
              0.5555555555555556,
              "#d8576b"
             ],
             [
              0.6666666666666666,
              "#ed7953"
             ],
             [
              0.7777777777777778,
              "#fb9f3a"
             ],
             [
              0.8888888888888888,
              "#fdca26"
             ],
             [
              1,
              "#f0f921"
             ]
            ],
            "type": "surface"
           }
          ],
          "table": [
           {
            "cells": {
             "fill": {
              "color": "#EBF0F8"
             },
             "line": {
              "color": "white"
             }
            },
            "header": {
             "fill": {
              "color": "#C8D4E3"
             },
             "line": {
              "color": "white"
             }
            },
            "type": "table"
           }
          ]
         },
         "layout": {
          "annotationdefaults": {
           "arrowcolor": "#2a3f5f",
           "arrowhead": 0,
           "arrowwidth": 1
          },
          "autotypenumbers": "strict",
          "coloraxis": {
           "colorbar": {
            "outlinewidth": 0,
            "ticks": ""
           }
          },
          "colorscale": {
           "diverging": [
            [
             0,
             "#8e0152"
            ],
            [
             0.1,
             "#c51b7d"
            ],
            [
             0.2,
             "#de77ae"
            ],
            [
             0.3,
             "#f1b6da"
            ],
            [
             0.4,
             "#fde0ef"
            ],
            [
             0.5,
             "#f7f7f7"
            ],
            [
             0.6,
             "#e6f5d0"
            ],
            [
             0.7,
             "#b8e186"
            ],
            [
             0.8,
             "#7fbc41"
            ],
            [
             0.9,
             "#4d9221"
            ],
            [
             1,
             "#276419"
            ]
           ],
           "sequential": [
            [
             0,
             "#0d0887"
            ],
            [
             0.1111111111111111,
             "#46039f"
            ],
            [
             0.2222222222222222,
             "#7201a8"
            ],
            [
             0.3333333333333333,
             "#9c179e"
            ],
            [
             0.4444444444444444,
             "#bd3786"
            ],
            [
             0.5555555555555556,
             "#d8576b"
            ],
            [
             0.6666666666666666,
             "#ed7953"
            ],
            [
             0.7777777777777778,
             "#fb9f3a"
            ],
            [
             0.8888888888888888,
             "#fdca26"
            ],
            [
             1,
             "#f0f921"
            ]
           ],
           "sequentialminus": [
            [
             0,
             "#0d0887"
            ],
            [
             0.1111111111111111,
             "#46039f"
            ],
            [
             0.2222222222222222,
             "#7201a8"
            ],
            [
             0.3333333333333333,
             "#9c179e"
            ],
            [
             0.4444444444444444,
             "#bd3786"
            ],
            [
             0.5555555555555556,
             "#d8576b"
            ],
            [
             0.6666666666666666,
             "#ed7953"
            ],
            [
             0.7777777777777778,
             "#fb9f3a"
            ],
            [
             0.8888888888888888,
             "#fdca26"
            ],
            [
             1,
             "#f0f921"
            ]
           ]
          },
          "colorway": [
           "#636efa",
           "#EF553B",
           "#00cc96",
           "#ab63fa",
           "#FFA15A",
           "#19d3f3",
           "#FF6692",
           "#B6E880",
           "#FF97FF",
           "#FECB52"
          ],
          "font": {
           "color": "#2a3f5f"
          },
          "geo": {
           "bgcolor": "white",
           "lakecolor": "white",
           "landcolor": "#E5ECF6",
           "showlakes": true,
           "showland": true,
           "subunitcolor": "white"
          },
          "hoverlabel": {
           "align": "left"
          },
          "hovermode": "closest",
          "mapbox": {
           "style": "light"
          },
          "paper_bgcolor": "white",
          "plot_bgcolor": "#E5ECF6",
          "polar": {
           "angularaxis": {
            "gridcolor": "white",
            "linecolor": "white",
            "ticks": ""
           },
           "bgcolor": "#E5ECF6",
           "radialaxis": {
            "gridcolor": "white",
            "linecolor": "white",
            "ticks": ""
           }
          },
          "scene": {
           "xaxis": {
            "backgroundcolor": "#E5ECF6",
            "gridcolor": "white",
            "gridwidth": 2,
            "linecolor": "white",
            "showbackground": true,
            "ticks": "",
            "zerolinecolor": "white"
           },
           "yaxis": {
            "backgroundcolor": "#E5ECF6",
            "gridcolor": "white",
            "gridwidth": 2,
            "linecolor": "white",
            "showbackground": true,
            "ticks": "",
            "zerolinecolor": "white"
           },
           "zaxis": {
            "backgroundcolor": "#E5ECF6",
            "gridcolor": "white",
            "gridwidth": 2,
            "linecolor": "white",
            "showbackground": true,
            "ticks": "",
            "zerolinecolor": "white"
           }
          },
          "shapedefaults": {
           "line": {
            "color": "#2a3f5f"
           }
          },
          "ternary": {
           "aaxis": {
            "gridcolor": "white",
            "linecolor": "white",
            "ticks": ""
           },
           "baxis": {
            "gridcolor": "white",
            "linecolor": "white",
            "ticks": ""
           },
           "bgcolor": "#E5ECF6",
           "caxis": {
            "gridcolor": "white",
            "linecolor": "white",
            "ticks": ""
           }
          },
          "title": {
           "x": 0.05
          },
          "xaxis": {
           "automargin": true,
           "gridcolor": "white",
           "linecolor": "white",
           "ticks": "",
           "title": {
            "standoff": 15
           },
           "zerolinecolor": "white",
           "zerolinewidth": 2
          },
          "yaxis": {
           "automargin": true,
           "gridcolor": "white",
           "linecolor": "white",
           "ticks": "",
           "title": {
            "standoff": 15
           },
           "zerolinecolor": "white",
           "zerolinewidth": 2
          }
         }
        },
        "xaxis": {
         "anchor": "y",
         "domain": [
          0,
          1
         ],
         "title": {
          "text": "2020 Actual"
         }
        },
        "yaxis": {
         "anchor": "x",
         "domain": [
          0,
          1
         ],
         "title": {
          "text": "2020 Projected"
         }
        }
       }
      },
      "text/html": [
       "<div>                            <div id=\"be6da813-ecce-4d70-a2c4-760025286fed\" class=\"plotly-graph-div\" style=\"height:525px; width:100%;\"></div>            <script type=\"text/javascript\">                require([\"plotly\"], function(Plotly) {                    window.PLOTLYENV=window.PLOTLYENV || {};                                    if (document.getElementById(\"be6da813-ecce-4d70-a2c4-760025286fed\")) {                    Plotly.newPlot(                        \"be6da813-ecce-4d70-a2c4-760025286fed\",                        [{\"hovertemplate\":\"Player Name=Lamar Jackson<br>2020 Actual=%{x}<br>2020 Projected=%{y}<extra></extra>\",\"legendgroup\":\"Lamar Jackson\",\"marker\":{\"color\":\"#636efa\",\"opacity\":0.65,\"symbol\":\"circle\"},\"mode\":\"markers\",\"name\":\"Lamar Jackson\",\"orientation\":\"v\",\"showlegend\":true,\"x\":[332.78],\"xaxis\":\"x\",\"y\":[354.540688385762],\"yaxis\":\"y\",\"type\":\"scatter\"},{\"hovertemplate\":\"Player Name=Russell Wilson<br>2020 Actual=%{x}<br>2020 Projected=%{y}<extra></extra>\",\"legendgroup\":\"Russell Wilson\",\"marker\":{\"color\":\"#EF553B\",\"opacity\":0.65,\"symbol\":\"circle\"},\"mode\":\"markers\",\"name\":\"Russell Wilson\",\"orientation\":\"v\",\"showlegend\":true,\"x\":[359.78],\"xaxis\":\"x\",\"y\":[331.33134552755536],\"yaxis\":\"y\",\"type\":\"scatter\"},{\"hovertemplate\":\"Player Name=Deshaun Watson<br>2020 Actual=%{x}<br>2020 Projected=%{y}<extra></extra>\",\"legendgroup\":\"Deshaun Watson\",\"marker\":{\"color\":\"#00cc96\",\"opacity\":0.65,\"symbol\":\"circle\"},\"mode\":\"markers\",\"name\":\"Deshaun Watson\",\"orientation\":\"v\",\"showlegend\":true,\"x\":[369.32],\"xaxis\":\"x\",\"y\":[328.33287320137583],\"yaxis\":\"y\",\"type\":\"scatter\"},{\"hovertemplate\":\"Player Name=Josh Allen<br>2020 Actual=%{x}<br>2020 Projected=%{y}<extra></extra>\",\"legendgroup\":\"Josh Allen\",\"marker\":{\"color\":\"#ab63fa\",\"opacity\":0.65,\"symbol\":\"circle\"},\"mode\":\"markers\",\"name\":\"Josh Allen\",\"orientation\":\"v\",\"showlegend\":true,\"x\":[395.06],\"xaxis\":\"x\",\"y\":[383.8649855515106],\"yaxis\":\"y\",\"type\":\"scatter\"},{\"hovertemplate\":\"Player Name=Patrick Mahomes<br>2020 Actual=%{x}<br>2020 Projected=%{y}<extra></extra>\",\"legendgroup\":\"Patrick Mahomes\",\"marker\":{\"color\":\"#FFA15A\",\"opacity\":0.65,\"symbol\":\"circle\"},\"mode\":\"markers\",\"name\":\"Patrick Mahomes\",\"orientation\":\"v\",\"showlegend\":true,\"x\":[374.4],\"xaxis\":\"x\",\"y\":[270.06998675506156],\"yaxis\":\"y\",\"type\":\"scatter\"},{\"hovertemplate\":\"Player Name=Kyler Murray<br>2020 Actual=%{x}<br>2020 Projected=%{y}<extra></extra>\",\"legendgroup\":\"Kyler Murray\",\"marker\":{\"color\":\"#19d3f3\",\"opacity\":0.65,\"symbol\":\"circle\"},\"mode\":\"markers\",\"name\":\"Kyler Murray\",\"orientation\":\"v\",\"showlegend\":true,\"x\":[378.74],\"xaxis\":\"x\",\"y\":[260.8255554238454],\"yaxis\":\"y\",\"type\":\"scatter\"},{\"hovertemplate\":\"Player Name=Aaron Rodgers<br>2020 Actual=%{x}<br>2020 Projected=%{y}<extra></extra>\",\"legendgroup\":\"Aaron Rodgers\",\"marker\":{\"color\":\"#FF6692\",\"opacity\":0.65,\"symbol\":\"circle\"},\"mode\":\"markers\",\"name\":\"Aaron Rodgers\",\"orientation\":\"v\",\"showlegend\":true,\"x\":[382.26],\"xaxis\":\"x\",\"y\":[248.15538351858828],\"yaxis\":\"y\",\"type\":\"scatter\"},{\"hovertemplate\":\"Player Name=Carson Wentz<br>2020 Actual=%{x}<br>2020 Projected=%{y}<extra></extra>\",\"legendgroup\":\"Carson Wentz\",\"marker\":{\"color\":\"#B6E880\",\"opacity\":0.65,\"symbol\":\"circle\"},\"mode\":\"markers\",\"name\":\"Carson Wentz\",\"orientation\":\"v\",\"showlegend\":true,\"x\":[198.4],\"xaxis\":\"x\",\"y\":[207.3388847205428],\"yaxis\":\"y\",\"type\":\"scatter\"},{\"hovertemplate\":\"Player Name=Matt Ryan<br>2020 Actual=%{x}<br>2020 Projected=%{y}<extra></extra>\",\"legendgroup\":\"Matt Ryan\",\"marker\":{\"color\":\"#FF97FF\",\"opacity\":0.65,\"symbol\":\"circle\"},\"mode\":\"markers\",\"name\":\"Matt Ryan\",\"orientation\":\"v\",\"showlegend\":true,\"x\":[280.44],\"xaxis\":\"x\",\"y\":[97.36660070004031],\"yaxis\":\"y\",\"type\":\"scatter\"},{\"hovertemplate\":\"Player Name=Tom Brady<br>2020 Actual=%{x}<br>2020 Projected=%{y}<extra></extra>\",\"legendgroup\":\"Tom Brady\",\"marker\":{\"color\":\"#FECB52\",\"opacity\":0.65,\"symbol\":\"circle\"},\"mode\":\"markers\",\"name\":\"Tom Brady\",\"orientation\":\"v\",\"showlegend\":true,\"x\":[337.92],\"xaxis\":\"x\",\"y\":[206.51909058441592],\"yaxis\":\"y\",\"type\":\"scatter\"},{\"hovertemplate\":\"Player Name=Jared Goff<br>2020 Actual=%{x}<br>2020 Projected=%{y}<extra></extra>\",\"legendgroup\":\"Jared Goff\",\"marker\":{\"color\":\"#636efa\",\"opacity\":0.65,\"symbol\":\"circle\"},\"mode\":\"markers\",\"name\":\"Jared Goff\",\"orientation\":\"v\",\"showlegend\":true,\"x\":[239.98],\"xaxis\":\"x\",\"y\":[64.4501772371477],\"yaxis\":\"y\",\"type\":\"scatter\"},{\"hovertemplate\":\"Player Name=Kirk Cousins<br>2020 Actual=%{x}<br>2020 Projected=%{y}<extra></extra>\",\"legendgroup\":\"Kirk Cousins\",\"marker\":{\"color\":\"#EF553B\",\"opacity\":0.65,\"symbol\":\"circle\"},\"mode\":\"markers\",\"name\":\"Kirk Cousins\",\"orientation\":\"v\",\"showlegend\":true,\"x\":[306.2],\"xaxis\":\"x\",\"y\":[218.301048459857],\"yaxis\":\"y\",\"type\":\"scatter\"},{\"hovertemplate\":\"Player Name=Derek Carr<br>2020 Actual=%{x}<br>2020 Projected=%{y}<extra></extra>\",\"legendgroup\":\"Derek Carr\",\"marker\":{\"color\":\"#00cc96\",\"opacity\":0.65,\"symbol\":\"circle\"},\"mode\":\"markers\",\"name\":\"Derek Carr\",\"orientation\":\"v\",\"showlegend\":true,\"x\":[272.12],\"xaxis\":\"x\",\"y\":[122.04949127057911],\"yaxis\":\"y\",\"type\":\"scatter\"},{\"hovertemplate\":\"Player Name=Ryan Fitzpatrick<br>2020 Actual=%{x}<br>2020 Projected=%{y}<extra></extra>\",\"legendgroup\":\"Ryan Fitzpatrick\",\"marker\":{\"color\":\"#ab63fa\",\"opacity\":0.65,\"symbol\":\"circle\"},\"mode\":\"markers\",\"name\":\"Ryan Fitzpatrick\",\"orientation\":\"v\",\"showlegend\":true,\"x\":[152.74],\"xaxis\":\"x\",\"y\":[166.93938074083093],\"yaxis\":\"y\",\"type\":\"scatter\"},{\"hovertemplate\":\"Player Name=Philip Rivers<br>2020 Actual=%{x}<br>2020 Projected=%{y}<extra></extra>\",\"legendgroup\":\"Philip Rivers\",\"marker\":{\"color\":\"#FFA15A\",\"opacity\":0.65,\"symbol\":\"circle\"},\"mode\":\"markers\",\"name\":\"Philip Rivers\",\"orientation\":\"v\",\"showlegend\":true,\"x\":[239.96],\"xaxis\":\"x\",\"y\":[-21.32225206679044],\"yaxis\":\"y\",\"type\":\"scatter\"},{\"hovertemplate\":\"Player Name=Gardner Minshew<br>2020 Actual=%{x}<br>2020 Projected=%{y}<extra></extra>\",\"legendgroup\":\"Gardner Minshew\",\"marker\":{\"color\":\"#19d3f3\",\"opacity\":0.65,\"symbol\":\"circle\"},\"mode\":\"markers\",\"name\":\"Gardner Minshew\",\"orientation\":\"v\",\"showlegend\":true,\"x\":[159.66],\"xaxis\":\"x\",\"y\":[251.20697517133556],\"yaxis\":\"y\",\"type\":\"scatter\"},{\"hovertemplate\":\"Player Name=Baker Mayfield<br>2020 Actual=%{x}<br>2020 Projected=%{y}<extra></extra>\",\"legendgroup\":\"Baker Mayfield\",\"marker\":{\"color\":\"#FF6692\",\"opacity\":0.65,\"symbol\":\"circle\"},\"mode\":\"markers\",\"name\":\"Baker Mayfield\",\"orientation\":\"v\",\"showlegend\":true,\"x\":[247.62],\"xaxis\":\"x\",\"y\":[163.81688629310858],\"yaxis\":\"y\",\"type\":\"scatter\"},{\"hovertemplate\":\"Player Name=Drew Brees<br>2020 Actual=%{x}<br>2020 Projected=%{y}<extra></extra>\",\"legendgroup\":\"Drew Brees\",\"marker\":{\"color\":\"#B6E880\",\"opacity\":0.65,\"symbol\":\"circle\"},\"mode\":\"markers\",\"name\":\"Drew Brees\",\"orientation\":\"v\",\"showlegend\":true,\"x\":[209.48],\"xaxis\":\"x\",\"y\":[172.33045149343454],\"yaxis\":\"y\",\"type\":\"scatter\"},{\"hovertemplate\":\"Player Name=Ryan Tannehill<br>2020 Actual=%{x}<br>2020 Projected=%{y}<extra></extra>\",\"legendgroup\":\"Ryan Tannehill\",\"marker\":{\"color\":\"#FF97FF\",\"opacity\":0.65,\"symbol\":\"circle\"},\"mode\":\"markers\",\"name\":\"Ryan Tannehill\",\"orientation\":\"v\",\"showlegend\":true,\"x\":[343.36],\"xaxis\":\"x\",\"y\":[188.7357658250981],\"yaxis\":\"y\",\"type\":\"scatter\"},{\"hovertemplate\":\"Player Name=Daniel Jones<br>2020 Actual=%{x}<br>2020 Projected=%{y}<extra></extra>\",\"legendgroup\":\"Daniel Jones\",\"marker\":{\"color\":\"#FECB52\",\"opacity\":0.65,\"symbol\":\"circle\"},\"mode\":\"markers\",\"name\":\"Daniel Jones\",\"orientation\":\"v\",\"showlegend\":true,\"x\":[180.02],\"xaxis\":\"x\",\"y\":[179.4960666811074],\"yaxis\":\"y\",\"type\":\"scatter\"},{\"hovertemplate\":\"Player Name=Mitchell Trubisky<br>2020 Actual=%{x}<br>2020 Projected=%{y}<extra></extra>\",\"legendgroup\":\"Mitchell Trubisky\",\"marker\":{\"color\":\"#636efa\",\"opacity\":0.65,\"symbol\":\"circle\"},\"mode\":\"markers\",\"name\":\"Mitchell Trubisky\",\"orientation\":\"v\",\"showlegend\":true,\"x\":[153.7],\"xaxis\":\"x\",\"y\":[220.917046656446],\"yaxis\":\"y\",\"type\":\"scatter\"},{\"hovertemplate\":\"Player Name=Andy Dalton<br>2020 Actual=%{x}<br>2020 Projected=%{y}<extra></extra>\",\"legendgroup\":\"Andy Dalton\",\"marker\":{\"color\":\"#EF553B\",\"opacity\":0.65,\"symbol\":\"circle\"},\"mode\":\"markers\",\"name\":\"Andy Dalton\",\"orientation\":\"v\",\"showlegend\":true,\"x\":[135.86],\"xaxis\":\"x\",\"y\":[158.02134814471918],\"yaxis\":\"y\",\"type\":\"scatter\"},{\"hovertemplate\":\"Player Name=Sam Darnold<br>2020 Actual=%{x}<br>2020 Projected=%{y}<extra></extra>\",\"legendgroup\":\"Sam Darnold\",\"marker\":{\"color\":\"#00cc96\",\"opacity\":0.65,\"symbol\":\"circle\"},\"mode\":\"markers\",\"name\":\"Sam Darnold\",\"orientation\":\"v\",\"showlegend\":true,\"x\":[134.02],\"xaxis\":\"x\",\"y\":[146.76488058751892],\"yaxis\":\"y\",\"type\":\"scatter\"},{\"hovertemplate\":\"Player Name=Matthew Stafford<br>2020 Actual=%{x}<br>2020 Projected=%{y}<extra></extra>\",\"legendgroup\":\"Matthew Stafford\",\"marker\":{\"color\":\"#ab63fa\",\"opacity\":0.65,\"symbol\":\"circle\"},\"mode\":\"markers\",\"name\":\"Matthew Stafford\",\"orientation\":\"v\",\"showlegend\":true,\"x\":[260.56],\"xaxis\":\"x\",\"y\":[246.28284378602694],\"yaxis\":\"y\",\"type\":\"scatter\"},{\"name\":\"Ideal Fit\",\"x\":[134.02,136.65676767676769,139.29353535353536,141.93030303030304,144.5670707070707,147.2038383838384,149.84060606060606,152.47737373737374,155.11414141414141,157.7509090909091,160.38767676767677,163.02444444444444,165.66121212121212,168.2979797979798,170.9347474747475,173.57151515151514,176.20828282828285,178.8450505050505,181.4818181818182,184.11858585858585,186.75535353535355,189.39212121212122,192.0288888888889,194.66565656565658,197.30242424242425,199.93919191919193,202.5759595959596,205.21272727272728,207.84949494949495,210.48626262626263,213.1230303030303,215.75979797979798,218.39656565656566,221.03333333333333,223.670101010101,226.30686868686868,228.94363636363636,231.58040404040403,234.2171717171717,236.85393939393938,239.49070707070706,242.12747474747476,244.7642424242424,247.40101010101012,250.03777777777776,252.67454545454547,255.3113131313131,257.9480808080808,260.58484848484846,263.22161616161617,265.8583838383838,268.4951515151515,271.1319191919192,273.76868686868687,276.4054545454545,279.0422222222222,281.6789898989899,284.3157575757576,286.9525252525252,289.5892929292929,292.2260606060606,294.8628282828283,297.4995959595959,300.1363636363636,302.77313131313133,305.409898989899,308.0466666666666,310.6834343434343,313.32020202020203,315.9569696969697,318.5937373737373,321.23050505050503,323.86727272727273,326.5040404040404,329.14080808080803,331.77757575757573,334.41434343434344,337.0511111111111,339.68787878787873,342.32464646464643,344.96141414141414,347.59818181818184,350.2349494949495,352.87171717171714,355.50848484848484,358.14525252525254,360.7820202020202,363.41878787878784,366.05555555555554,368.69232323232325,371.3290909090909,373.96585858585854,376.60262626262625,379.23939393939395,381.8761616161616,384.51292929292924,387.14969696969695,389.78646464646465,392.42323232323236,395.06],\"y\":[134.02,136.65676767676769,139.29353535353536,141.93030303030304,144.5670707070707,147.2038383838384,149.84060606060606,152.47737373737374,155.11414141414141,157.7509090909091,160.38767676767677,163.02444444444444,165.66121212121212,168.2979797979798,170.9347474747475,173.57151515151514,176.20828282828285,178.8450505050505,181.4818181818182,184.11858585858585,186.75535353535355,189.39212121212122,192.0288888888889,194.66565656565658,197.30242424242425,199.93919191919193,202.5759595959596,205.21272727272728,207.84949494949495,210.48626262626263,213.1230303030303,215.75979797979798,218.39656565656566,221.03333333333333,223.670101010101,226.30686868686868,228.94363636363636,231.58040404040403,234.2171717171717,236.85393939393938,239.49070707070706,242.12747474747476,244.7642424242424,247.40101010101012,250.03777777777776,252.67454545454547,255.3113131313131,257.9480808080808,260.58484848484846,263.22161616161617,265.8583838383838,268.4951515151515,271.1319191919192,273.76868686868687,276.4054545454545,279.0422222222222,281.6789898989899,284.3157575757576,286.9525252525252,289.5892929292929,292.2260606060606,294.8628282828283,297.4995959595959,300.1363636363636,302.77313131313133,305.409898989899,308.0466666666666,310.6834343434343,313.32020202020203,315.9569696969697,318.5937373737373,321.23050505050503,323.86727272727273,326.5040404040404,329.14080808080803,331.77757575757573,334.41434343434344,337.0511111111111,339.68787878787873,342.32464646464643,344.96141414141414,347.59818181818184,350.2349494949495,352.87171717171714,355.50848484848484,358.14525252525254,360.7820202020202,363.41878787878784,366.05555555555554,368.69232323232325,371.3290909090909,373.96585858585854,376.60262626262625,379.23939393939395,381.8761616161616,384.51292929292924,387.14969696969695,389.78646464646465,392.42323232323236,395.06],\"type\":\"scatter\"}],                        {\"template\":{\"data\":{\"histogram2dcontour\":[{\"type\":\"histogram2dcontour\",\"colorbar\":{\"outlinewidth\":0,\"ticks\":\"\"},\"colorscale\":[[0.0,\"#0d0887\"],[0.1111111111111111,\"#46039f\"],[0.2222222222222222,\"#7201a8\"],[0.3333333333333333,\"#9c179e\"],[0.4444444444444444,\"#bd3786\"],[0.5555555555555556,\"#d8576b\"],[0.6666666666666666,\"#ed7953\"],[0.7777777777777778,\"#fb9f3a\"],[0.8888888888888888,\"#fdca26\"],[1.0,\"#f0f921\"]]}],\"choropleth\":[{\"type\":\"choropleth\",\"colorbar\":{\"outlinewidth\":0,\"ticks\":\"\"}}],\"histogram2d\":[{\"type\":\"histogram2d\",\"colorbar\":{\"outlinewidth\":0,\"ticks\":\"\"},\"colorscale\":[[0.0,\"#0d0887\"],[0.1111111111111111,\"#46039f\"],[0.2222222222222222,\"#7201a8\"],[0.3333333333333333,\"#9c179e\"],[0.4444444444444444,\"#bd3786\"],[0.5555555555555556,\"#d8576b\"],[0.6666666666666666,\"#ed7953\"],[0.7777777777777778,\"#fb9f3a\"],[0.8888888888888888,\"#fdca26\"],[1.0,\"#f0f921\"]]}],\"heatmap\":[{\"type\":\"heatmap\",\"colorbar\":{\"outlinewidth\":0,\"ticks\":\"\"},\"colorscale\":[[0.0,\"#0d0887\"],[0.1111111111111111,\"#46039f\"],[0.2222222222222222,\"#7201a8\"],[0.3333333333333333,\"#9c179e\"],[0.4444444444444444,\"#bd3786\"],[0.5555555555555556,\"#d8576b\"],[0.6666666666666666,\"#ed7953\"],[0.7777777777777778,\"#fb9f3a\"],[0.8888888888888888,\"#fdca26\"],[1.0,\"#f0f921\"]]}],\"heatmapgl\":[{\"type\":\"heatmapgl\",\"colorbar\":{\"outlinewidth\":0,\"ticks\":\"\"},\"colorscale\":[[0.0,\"#0d0887\"],[0.1111111111111111,\"#46039f\"],[0.2222222222222222,\"#7201a8\"],[0.3333333333333333,\"#9c179e\"],[0.4444444444444444,\"#bd3786\"],[0.5555555555555556,\"#d8576b\"],[0.6666666666666666,\"#ed7953\"],[0.7777777777777778,\"#fb9f3a\"],[0.8888888888888888,\"#fdca26\"],[1.0,\"#f0f921\"]]}],\"contourcarpet\":[{\"type\":\"contourcarpet\",\"colorbar\":{\"outlinewidth\":0,\"ticks\":\"\"}}],\"contour\":[{\"type\":\"contour\",\"colorbar\":{\"outlinewidth\":0,\"ticks\":\"\"},\"colorscale\":[[0.0,\"#0d0887\"],[0.1111111111111111,\"#46039f\"],[0.2222222222222222,\"#7201a8\"],[0.3333333333333333,\"#9c179e\"],[0.4444444444444444,\"#bd3786\"],[0.5555555555555556,\"#d8576b\"],[0.6666666666666666,\"#ed7953\"],[0.7777777777777778,\"#fb9f3a\"],[0.8888888888888888,\"#fdca26\"],[1.0,\"#f0f921\"]]}],\"surface\":[{\"type\":\"surface\",\"colorbar\":{\"outlinewidth\":0,\"ticks\":\"\"},\"colorscale\":[[0.0,\"#0d0887\"],[0.1111111111111111,\"#46039f\"],[0.2222222222222222,\"#7201a8\"],[0.3333333333333333,\"#9c179e\"],[0.4444444444444444,\"#bd3786\"],[0.5555555555555556,\"#d8576b\"],[0.6666666666666666,\"#ed7953\"],[0.7777777777777778,\"#fb9f3a\"],[0.8888888888888888,\"#fdca26\"],[1.0,\"#f0f921\"]]}],\"mesh3d\":[{\"type\":\"mesh3d\",\"colorbar\":{\"outlinewidth\":0,\"ticks\":\"\"}}],\"scatter\":[{\"fillpattern\":{\"fillmode\":\"overlay\",\"size\":10,\"solidity\":0.2},\"type\":\"scatter\"}],\"parcoords\":[{\"type\":\"parcoords\",\"line\":{\"colorbar\":{\"outlinewidth\":0,\"ticks\":\"\"}}}],\"scatterpolargl\":[{\"type\":\"scatterpolargl\",\"marker\":{\"colorbar\":{\"outlinewidth\":0,\"ticks\":\"\"}}}],\"bar\":[{\"error_x\":{\"color\":\"#2a3f5f\"},\"error_y\":{\"color\":\"#2a3f5f\"},\"marker\":{\"line\":{\"color\":\"#E5ECF6\",\"width\":0.5},\"pattern\":{\"fillmode\":\"overlay\",\"size\":10,\"solidity\":0.2}},\"type\":\"bar\"}],\"scattergeo\":[{\"type\":\"scattergeo\",\"marker\":{\"colorbar\":{\"outlinewidth\":0,\"ticks\":\"\"}}}],\"scatterpolar\":[{\"type\":\"scatterpolar\",\"marker\":{\"colorbar\":{\"outlinewidth\":0,\"ticks\":\"\"}}}],\"histogram\":[{\"marker\":{\"pattern\":{\"fillmode\":\"overlay\",\"size\":10,\"solidity\":0.2}},\"type\":\"histogram\"}],\"scattergl\":[{\"type\":\"scattergl\",\"marker\":{\"colorbar\":{\"outlinewidth\":0,\"ticks\":\"\"}}}],\"scatter3d\":[{\"type\":\"scatter3d\",\"line\":{\"colorbar\":{\"outlinewidth\":0,\"ticks\":\"\"}},\"marker\":{\"colorbar\":{\"outlinewidth\":0,\"ticks\":\"\"}}}],\"scattermapbox\":[{\"type\":\"scattermapbox\",\"marker\":{\"colorbar\":{\"outlinewidth\":0,\"ticks\":\"\"}}}],\"scatterternary\":[{\"type\":\"scatterternary\",\"marker\":{\"colorbar\":{\"outlinewidth\":0,\"ticks\":\"\"}}}],\"scattercarpet\":[{\"type\":\"scattercarpet\",\"marker\":{\"colorbar\":{\"outlinewidth\":0,\"ticks\":\"\"}}}],\"carpet\":[{\"aaxis\":{\"endlinecolor\":\"#2a3f5f\",\"gridcolor\":\"white\",\"linecolor\":\"white\",\"minorgridcolor\":\"white\",\"startlinecolor\":\"#2a3f5f\"},\"baxis\":{\"endlinecolor\":\"#2a3f5f\",\"gridcolor\":\"white\",\"linecolor\":\"white\",\"minorgridcolor\":\"white\",\"startlinecolor\":\"#2a3f5f\"},\"type\":\"carpet\"}],\"table\":[{\"cells\":{\"fill\":{\"color\":\"#EBF0F8\"},\"line\":{\"color\":\"white\"}},\"header\":{\"fill\":{\"color\":\"#C8D4E3\"},\"line\":{\"color\":\"white\"}},\"type\":\"table\"}],\"barpolar\":[{\"marker\":{\"line\":{\"color\":\"#E5ECF6\",\"width\":0.5},\"pattern\":{\"fillmode\":\"overlay\",\"size\":10,\"solidity\":0.2}},\"type\":\"barpolar\"}],\"pie\":[{\"automargin\":true,\"type\":\"pie\"}]},\"layout\":{\"autotypenumbers\":\"strict\",\"colorway\":[\"#636efa\",\"#EF553B\",\"#00cc96\",\"#ab63fa\",\"#FFA15A\",\"#19d3f3\",\"#FF6692\",\"#B6E880\",\"#FF97FF\",\"#FECB52\"],\"font\":{\"color\":\"#2a3f5f\"},\"hovermode\":\"closest\",\"hoverlabel\":{\"align\":\"left\"},\"paper_bgcolor\":\"white\",\"plot_bgcolor\":\"#E5ECF6\",\"polar\":{\"bgcolor\":\"#E5ECF6\",\"angularaxis\":{\"gridcolor\":\"white\",\"linecolor\":\"white\",\"ticks\":\"\"},\"radialaxis\":{\"gridcolor\":\"white\",\"linecolor\":\"white\",\"ticks\":\"\"}},\"ternary\":{\"bgcolor\":\"#E5ECF6\",\"aaxis\":{\"gridcolor\":\"white\",\"linecolor\":\"white\",\"ticks\":\"\"},\"baxis\":{\"gridcolor\":\"white\",\"linecolor\":\"white\",\"ticks\":\"\"},\"caxis\":{\"gridcolor\":\"white\",\"linecolor\":\"white\",\"ticks\":\"\"}},\"coloraxis\":{\"colorbar\":{\"outlinewidth\":0,\"ticks\":\"\"}},\"colorscale\":{\"sequential\":[[0.0,\"#0d0887\"],[0.1111111111111111,\"#46039f\"],[0.2222222222222222,\"#7201a8\"],[0.3333333333333333,\"#9c179e\"],[0.4444444444444444,\"#bd3786\"],[0.5555555555555556,\"#d8576b\"],[0.6666666666666666,\"#ed7953\"],[0.7777777777777778,\"#fb9f3a\"],[0.8888888888888888,\"#fdca26\"],[1.0,\"#f0f921\"]],\"sequentialminus\":[[0.0,\"#0d0887\"],[0.1111111111111111,\"#46039f\"],[0.2222222222222222,\"#7201a8\"],[0.3333333333333333,\"#9c179e\"],[0.4444444444444444,\"#bd3786\"],[0.5555555555555556,\"#d8576b\"],[0.6666666666666666,\"#ed7953\"],[0.7777777777777778,\"#fb9f3a\"],[0.8888888888888888,\"#fdca26\"],[1.0,\"#f0f921\"]],\"diverging\":[[0,\"#8e0152\"],[0.1,\"#c51b7d\"],[0.2,\"#de77ae\"],[0.3,\"#f1b6da\"],[0.4,\"#fde0ef\"],[0.5,\"#f7f7f7\"],[0.6,\"#e6f5d0\"],[0.7,\"#b8e186\"],[0.8,\"#7fbc41\"],[0.9,\"#4d9221\"],[1,\"#276419\"]]},\"xaxis\":{\"gridcolor\":\"white\",\"linecolor\":\"white\",\"ticks\":\"\",\"title\":{\"standoff\":15},\"zerolinecolor\":\"white\",\"automargin\":true,\"zerolinewidth\":2},\"yaxis\":{\"gridcolor\":\"white\",\"linecolor\":\"white\",\"ticks\":\"\",\"title\":{\"standoff\":15},\"zerolinecolor\":\"white\",\"automargin\":true,\"zerolinewidth\":2},\"scene\":{\"xaxis\":{\"backgroundcolor\":\"#E5ECF6\",\"gridcolor\":\"white\",\"linecolor\":\"white\",\"showbackground\":true,\"ticks\":\"\",\"zerolinecolor\":\"white\",\"gridwidth\":2},\"yaxis\":{\"backgroundcolor\":\"#E5ECF6\",\"gridcolor\":\"white\",\"linecolor\":\"white\",\"showbackground\":true,\"ticks\":\"\",\"zerolinecolor\":\"white\",\"gridwidth\":2},\"zaxis\":{\"backgroundcolor\":\"#E5ECF6\",\"gridcolor\":\"white\",\"linecolor\":\"white\",\"showbackground\":true,\"ticks\":\"\",\"zerolinecolor\":\"white\",\"gridwidth\":2}},\"shapedefaults\":{\"line\":{\"color\":\"#2a3f5f\"}},\"annotationdefaults\":{\"arrowcolor\":\"#2a3f5f\",\"arrowhead\":0,\"arrowwidth\":1},\"geo\":{\"bgcolor\":\"white\",\"landcolor\":\"#E5ECF6\",\"subunitcolor\":\"white\",\"showland\":true,\"showlakes\":true,\"lakecolor\":\"white\"},\"title\":{\"x\":0.05},\"mapbox\":{\"style\":\"light\"}}},\"xaxis\":{\"anchor\":\"y\",\"domain\":[0.0,1.0],\"title\":{\"text\":\"2020 Actual\"}},\"yaxis\":{\"anchor\":\"x\",\"domain\":[0.0,1.0],\"title\":{\"text\":\"2020 Projected\"}},\"legend\":{\"title\":{\"text\":\"Player Name\"},\"tracegroupgap\":0,\"traceorder\":\"reversed\"},\"margin\":{\"t\":60}},                        {\"responsive\": true}                    ).then(function(){\n",
       "                            \n",
       "var gd = document.getElementById('be6da813-ecce-4d70-a2c4-760025286fed');\n",
       "var x = new MutationObserver(function (mutations, observer) {{\n",
       "        var display = window.getComputedStyle(gd).display;\n",
       "        if (!display || display === 'none') {{\n",
       "            console.log([gd, 'removed!']);\n",
       "            Plotly.purge(gd);\n",
       "            observer.disconnect();\n",
       "        }}\n",
       "}});\n",
       "\n",
       "// Listen for the removal of the full notebook cells\n",
       "var notebookContainer = gd.closest('#notebook-container');\n",
       "if (notebookContainer) {{\n",
       "    x.observe(notebookContainer, {childList: true});\n",
       "}}\n",
       "\n",
       "// Listen for the clearing of the current output cell\n",
       "var outputEl = gd.closest('.output');\n",
       "if (outputEl) {{\n",
       "    x.observe(outputEl, {childList: true});\n",
       "}}\n",
       "\n",
       "                        })                };                });            </script>        </div>"
      ]
     },
     "metadata": {},
     "output_type": "display_data"
    }
   ],
   "source": [
    "x_range = np.linspace(test_2019_2020_df[\"FantasyPoints\"].min(), test_2019_2020_df[\"FantasyPoints\"].max(), 100)\n",
    "y_range = x_range\n",
    "fig = px.scatter(x = test_2019_2020_df[\"FantasyPoints\"], y = test_2019_2020_df[\"QB2020_proj\"], color = test_2019_2020_df[\"Name\"], opacity=0.65, labels = dict(x=\"2020 Actual\", y= \"2020 Projected\",color = \"Player Name\"))\n",
    "fig.add_traces(go.Scatter(x=x_range, y=y_range, name='Ideal Fit'))\n",
    "fig.update_layout(legend_traceorder=\"reversed\")\n",
    "fig.show()"
   ]
  },
  {
   "cell_type": "code",
   "execution_count": null,
   "metadata": {},
   "outputs": [],
   "source": []
  },
  {
   "cell_type": "code",
   "execution_count": null,
   "metadata": {},
   "outputs": [],
   "source": []
  }
 ],
 "metadata": {
  "kernelspec": {
   "display_name": "Python 3",
   "language": "python",
   "name": "python3"
  },
  "language_info": {
   "codemirror_mode": {
    "name": "ipython",
    "version": 3
   },
   "file_extension": ".py",
   "mimetype": "text/x-python",
   "name": "python",
   "nbconvert_exporter": "python",
   "pygments_lexer": "ipython3",
   "version": "3.8.5"
  }
 },
 "nbformat": 4,
 "nbformat_minor": 4
}
