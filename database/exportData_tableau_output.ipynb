{
 "cells": [
  {
   "cell_type": "code",
   "execution_count": 3,
   "metadata": {},
   "outputs": [],
   "source": [
    "#Import Dependencies\n",
    "import psycopg2\n",
    "import sqlalchemy\n",
    "from sqlalchemy import create_engine\n",
    "import pandas as pd \n",
    "from config import password\n",
    "\n",
    "\n",
    "#Create connection to AWS database\n",
    "ENDPOINT=\"fantasyfootball.ckswyhqaro8q.us-east-2.rds.amazonaws.com\"\n",
    "PORT=\"5432\"\n",
    "USR=\"DreamTeam\"\n",
    "PSSWD=password\n",
    "DBNAME=\"postgres\"\n",
    "\n"
   ]
  },
  {
   "cell_type": "code",
   "execution_count": 4,
   "metadata": {},
   "outputs": [],
   "source": [
    "#create connection and open engine \n",
    "#con = \"host='localhost' dbname='my_database' user='postgres' password='secret'\n",
    "con= \"postgresql://{}:{}@{}:{}/{}\".format(USR, PSSWD, ENDPOINT, PORT, DBNAME)\n",
    "db = create_engine(con)\n"
   ]
  },
  {
   "cell_type": "code",
   "execution_count": 5,
   "metadata": {},
   "outputs": [],
   "source": [
    "#dataframe holder\n",
    "df_list = []\n",
    "\n",
    "# set up list to pull tables\n",
    "positions = ['qb', 'rb', 'te', 'wr']\n",
    "table_list = []\n",
    "for x in positions:\n",
    "    table = f'{x}_full_stats'\n",
    "    table_list.append(table)\n",
    "\n",
    "#add player bios\n",
    "table_list.append('player_bios')\n",
    "\n",
    "#store sql queries in list to print to csv\n",
    "for table in table_list:\n",
    "    df = pd.DataFrame(pd.read_sql(f'select * from {table}', db))\n",
    "    df_list.append(df)"
   ]
  },
  {
   "cell_type": "code",
   "execution_count": 6,
   "metadata": {},
   "outputs": [
    {
     "name": "stdout",
     "output_type": "stream",
     "text": [
      "5\n",
      "<class 'pandas.core.frame.DataFrame'>\n"
     ]
    }
   ],
   "source": [
    "#Check for-loop output\n",
    "print(len(df_list))\n",
    "print(type(df_list[1]))"
   ]
  },
  {
   "cell_type": "code",
   "execution_count": 65,
   "metadata": {},
   "outputs": [],
   "source": [
    "#Uploading full stats to AWS database\n",
    "for i in range(0, len(df_list)):\n",
    "    df = df_list[i]\n",
    "    df.to_csv(f'../Resources/TableauSheets/{table_list[i]}.csv')\n",
    "\n"
   ]
  },
  {
   "cell_type": "code",
   "execution_count": null,
   "metadata": {},
   "outputs": [],
   "source": []
  }
 ],
 "metadata": {
  "kernelspec": {
   "display_name": "Python 3.7.11 ('PythonData')",
   "language": "python",
   "name": "python3"
  },
  "language_info": {
   "codemirror_mode": {
    "name": "ipython",
    "version": 3
   },
   "file_extension": ".py",
   "mimetype": "text/x-python",
   "name": "python",
   "nbconvert_exporter": "python",
   "pygments_lexer": "ipython3",
   "version": "3.7.11"
  },
  "orig_nbformat": 4,
  "vscode": {
   "interpreter": {
    "hash": "62ad272cb85a3a5abcd8841e9872b0b5e6b3f9a902fd78a31052f93593234f89"
   }
  }
 },
 "nbformat": 4,
 "nbformat_minor": 2
}
