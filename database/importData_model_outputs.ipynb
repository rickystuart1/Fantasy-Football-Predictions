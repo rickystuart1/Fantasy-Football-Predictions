{
 "cells": [
  {
   "cell_type": "code",
   "execution_count": 1,
   "metadata": {},
   "outputs": [],
   "source": [
    "#Import Dependencies\n",
    "import psycopg2\n",
    "import sqlalchemy\n",
    "from sqlalchemy import create_engine\n",
    "import pandas as pd \n",
    "from config import password\n",
    "\n",
    "\n",
    "#Create connection to AWS database\n",
    "ENDPOINT=\"fantasyfootball.ckswyhqaro8q.us-east-2.rds.amazonaws.com\"\n",
    "PORT=\"5432\"\n",
    "USR=\"DreamTeam\"\n",
    "PSSWD=password\n",
    "DBNAME=\"postgres\"\n"
   ]
  },
  {
   "cell_type": "code",
   "execution_count": 5,
   "metadata": {},
   "outputs": [
    {
     "data": {
      "text/html": [
       "<div>\n",
       "<style scoped>\n",
       "    .dataframe tbody tr th:only-of-type {\n",
       "        vertical-align: middle;\n",
       "    }\n",
       "\n",
       "    .dataframe tbody tr th {\n",
       "        vertical-align: top;\n",
       "    }\n",
       "\n",
       "    .dataframe thead th {\n",
       "        text-align: right;\n",
       "    }\n",
       "</style>\n",
       "<table border=\"1\" class=\"dataframe\">\n",
       "  <thead>\n",
       "    <tr style=\"text-align: right;\">\n",
       "      <th></th>\n",
       "      <th>Unnamed: 0</th>\n",
       "      <th>PlayerID</th>\n",
       "      <th>Name</th>\n",
       "      <th>Position</th>\n",
       "      <th>2021_Overall_Rank</th>\n",
       "    </tr>\n",
       "  </thead>\n",
       "  <tbody>\n",
       "    <tr>\n",
       "      <th>0</th>\n",
       "      <td>0</td>\n",
       "      <td>17959</td>\n",
       "      <td>Derrick Henry</td>\n",
       "      <td>RB</td>\n",
       "      <td>1</td>\n",
       "    </tr>\n",
       "    <tr>\n",
       "      <th>1</th>\n",
       "      <td>1</td>\n",
       "      <td>18872</td>\n",
       "      <td>Dalvin Cook</td>\n",
       "      <td>RB</td>\n",
       "      <td>2</td>\n",
       "    </tr>\n",
       "    <tr>\n",
       "      <th>2</th>\n",
       "      <td>2</td>\n",
       "      <td>2593</td>\n",
       "      <td>Aaron Rodgers</td>\n",
       "      <td>QB</td>\n",
       "      <td>3</td>\n",
       "    </tr>\n",
       "    <tr>\n",
       "      <th>3</th>\n",
       "      <td>3</td>\n",
       "      <td>21682</td>\n",
       "      <td>Jonathan Taylor</td>\n",
       "      <td>RB</td>\n",
       "      <td>4</td>\n",
       "    </tr>\n",
       "    <tr>\n",
       "      <th>4</th>\n",
       "      <td>4</td>\n",
       "      <td>16776</td>\n",
       "      <td>Melvin Gordon III</td>\n",
       "      <td>RB</td>\n",
       "      <td>5</td>\n",
       "    </tr>\n",
       "  </tbody>\n",
       "</table>\n",
       "</div>"
      ],
      "text/plain": [
       "   Unnamed: 0  PlayerID               Name Position  2021_Overall_Rank\n",
       "0           0     17959      Derrick Henry       RB                  1\n",
       "1           1     18872        Dalvin Cook       RB                  2\n",
       "2           2      2593      Aaron Rodgers       QB                  3\n",
       "3           3     21682    Jonathan Taylor       RB                  4\n",
       "4           4     16776  Melvin Gordon III       RB                  5"
      ]
     },
     "execution_count": 5,
     "metadata": {},
     "output_type": "execute_result"
    }
   ],
   "source": [
    "#import csv \n",
    "file_path = '../Resources/TableauSheets/'\n",
    "file = 'top200.csv'\n",
    "top200_df = pd.read_csv(f'{file_path}{file}')\n",
    "top200_df.head()\n"
   ]
  },
  {
   "cell_type": "code",
   "execution_count": null,
   "metadata": {},
   "outputs": [],
   "source": []
  },
  {
   "cell_type": "code",
   "execution_count": 2,
   "metadata": {},
   "outputs": [],
   "source": [
    "#create connection and open engine \n",
    "#con = \"host='localhost' dbname='my_database' user='postgres' password='secret'\n",
    "con= \"postgresql://{}:{}@{}:{}/{}\".format(USR, PSSWD, ENDPOINT, PORT, DBNAME)\n",
    "db = create_engine(con)\n"
   ]
  },
  {
   "cell_type": "code",
   "execution_count": 3,
   "metadata": {},
   "outputs": [],
   "source": [
    "#grab depth table and put into dataframe\n",
    "depth_df = pd.DataFrame(pd.read_sql_query(f\"select * from DepthCharts\", con))"
   ]
  },
  {
   "cell_type": "code",
   "execution_count": 4,
   "metadata": {},
   "outputs": [
    {
     "data": {
      "text/html": [
       "<div>\n",
       "<style scoped>\n",
       "    .dataframe tbody tr th:only-of-type {\n",
       "        vertical-align: middle;\n",
       "    }\n",
       "\n",
       "    .dataframe tbody tr th {\n",
       "        vertical-align: top;\n",
       "    }\n",
       "\n",
       "    .dataframe thead th {\n",
       "        text-align: right;\n",
       "    }\n",
       "</style>\n",
       "<table border=\"1\" class=\"dataframe\">\n",
       "  <thead>\n",
       "    <tr style=\"text-align: right;\">\n",
       "      <th></th>\n",
       "      <th>index</th>\n",
       "      <th>team</th>\n",
       "      <th>year</th>\n",
       "      <th>position</th>\n",
       "      <th>depth</th>\n",
       "      <th>name</th>\n",
       "    </tr>\n",
       "  </thead>\n",
       "  <tbody>\n",
       "    <tr>\n",
       "      <th>0</th>\n",
       "      <td>0</td>\n",
       "      <td>ARZ</td>\n",
       "      <td>2018</td>\n",
       "      <td>LWR</td>\n",
       "      <td>1</td>\n",
       "      <td>LARRY FITZGERALD</td>\n",
       "    </tr>\n",
       "    <tr>\n",
       "      <th>1</th>\n",
       "      <td>2</td>\n",
       "      <td>ARZ</td>\n",
       "      <td>2018</td>\n",
       "      <td>TE</td>\n",
       "      <td>1</td>\n",
       "      <td>Ricky Seals-Jones</td>\n",
       "    </tr>\n",
       "    <tr>\n",
       "      <th>2</th>\n",
       "      <td>3</td>\n",
       "      <td>ARZ</td>\n",
       "      <td>2018</td>\n",
       "      <td>QB</td>\n",
       "      <td>1</td>\n",
       "      <td>SAM BRADFORD</td>\n",
       "    </tr>\n",
       "    <tr>\n",
       "      <th>3</th>\n",
       "      <td>4</td>\n",
       "      <td>ARZ</td>\n",
       "      <td>2018</td>\n",
       "      <td>FB</td>\n",
       "      <td>1</td>\n",
       "      <td>Derrick Coleman</td>\n",
       "    </tr>\n",
       "    <tr>\n",
       "      <th>4</th>\n",
       "      <td>5</td>\n",
       "      <td>ARZ</td>\n",
       "      <td>2018</td>\n",
       "      <td>RWR</td>\n",
       "      <td>1</td>\n",
       "      <td>Brice Butler</td>\n",
       "    </tr>\n",
       "  </tbody>\n",
       "</table>\n",
       "</div>"
      ],
      "text/plain": [
       "   index team  year position  depth               name\n",
       "0      0  ARZ  2018      LWR      1   LARRY FITZGERALD\n",
       "1      2  ARZ  2018       TE      1  Ricky Seals-Jones\n",
       "2      3  ARZ  2018       QB      1       SAM BRADFORD\n",
       "3      4  ARZ  2018       FB      1    Derrick Coleman\n",
       "4      5  ARZ  2018      RWR      1       Brice Butler"
      ]
     },
     "execution_count": 4,
     "metadata": {},
     "output_type": "execute_result"
    }
   ],
   "source": [
    "#check dataframe\n",
    "depth_df.head()"
   ]
  },
  {
   "cell_type": "code",
   "execution_count": 5,
   "metadata": {},
   "outputs": [],
   "source": [
    "#close connection w/ sqlite and start engine for postgres\n",
    "con.close()\n",
    "\n",
    "#Create connection to AWS database\n",
    "ENDPOINT=\"fantasyfootball.ckswyhqaro8q.us-east-2.rds.amazonaws.com\"\n",
    "PORT=\"5432\"\n",
    "USR=\"DreamTeam\"\n",
    "PSSWD=password\n",
    "DBNAME=\"postgres\"\n",
    "\n",
    "#conn_string = \"host='localhost' dbname='my_database' user='postgres' password='secret'\n",
    "conp= create_engine(\"postgresql://{}:{}@{}:{}/{}\".format(USR, PSSWD, ENDPOINT, PORT, DBNAME))"
   ]
  },
  {
   "cell_type": "code",
   "execution_count": 6,
   "metadata": {},
   "outputs": [],
   "source": [
    "#format columns to lower case for db\n",
    "depth_df.columns = depth_df.columns.str.lower()"
   ]
  },
  {
   "cell_type": "code",
   "execution_count": 7,
   "metadata": {},
   "outputs": [],
   "source": [
    "#Write table to AWS\n",
    "depth_df.to_sql(\"depth_chart\", conp, if_exists=\"replace\")"
   ]
  },
  {
   "cell_type": "code",
   "execution_count": null,
   "metadata": {},
   "outputs": [],
   "source": []
  }
 ],
 "metadata": {
  "kernelspec": {
   "display_name": "Python 3.7.11 ('PythonData')",
   "language": "python",
   "name": "python3"
  },
  "language_info": {
   "codemirror_mode": {
    "name": "ipython",
    "version": 3
   },
   "file_extension": ".py",
   "mimetype": "text/x-python",
   "name": "python",
   "nbconvert_exporter": "python",
   "pygments_lexer": "ipython3",
   "version": "3.7.11"
  },
  "orig_nbformat": 4,
  "vscode": {
   "interpreter": {
    "hash": "62ad272cb85a3a5abcd8841e9872b0b5e6b3f9a902fd78a31052f93593234f89"
   }
  }
 },
 "nbformat": 4,
 "nbformat_minor": 2
}
