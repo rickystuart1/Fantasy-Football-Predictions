{
 "cells": [
  {
   "cell_type": "code",
   "execution_count": 1,
   "metadata": {},
   "outputs": [],
   "source": [
    "#Import Dependencies\n",
    "import pandas as pd\n",
    "import sqlite3\n",
    "from sqlite3 import Error\n"
   ]
  },
  {
   "cell_type": "code",
   "execution_count": 3,
   "metadata": {},
   "outputs": [],
   "source": [
    "# Read in CSVs\n",
    "\n",
    "filename = \"PlayerBios.csv\"\n",
    "filepath = \"../../DataBase/Resources/\"\n",
    "player_df = pd.read_csv(f\"{filepath}{filename}\")\n",
    "\n",
    "      "
   ]
  },
  {
   "cell_type": "code",
   "execution_count": 4,
   "metadata": {},
   "outputs": [
    {
     "data": {
      "text/html": [
       "<div>\n",
       "<style scoped>\n",
       "    .dataframe tbody tr th:only-of-type {\n",
       "        vertical-align: middle;\n",
       "    }\n",
       "\n",
       "    .dataframe tbody tr th {\n",
       "        vertical-align: top;\n",
       "    }\n",
       "\n",
       "    .dataframe thead th {\n",
       "        text-align: right;\n",
       "    }\n",
       "</style>\n",
       "<table border=\"1\" class=\"dataframe\">\n",
       "  <thead>\n",
       "    <tr style=\"text-align: right;\">\n",
       "      <th></th>\n",
       "      <th>Player_ID</th>\n",
       "      <th>Name</th>\n",
       "      <th>rel_link</th>\n",
       "      <th>Position</th>\n",
       "      <th>height</th>\n",
       "      <th>weight (lbs)</th>\n",
       "      <th>dob_age</th>\n",
       "      <th>experience</th>\n",
       "      <th>college</th>\n",
       "      <th>height.1</th>\n",
       "      <th>weight_lbs</th>\n",
       "      <th>dob</th>\n",
       "      <th>exp(y)</th>\n",
       "      <th>draft_year</th>\n",
       "      <th>draft_round</th>\n",
       "      <th>draft_pick</th>\n",
       "      <th>draft_team</th>\n",
       "    </tr>\n",
       "  </thead>\n",
       "  <tbody>\n",
       "    <tr>\n",
       "      <th>0</th>\n",
       "      <td>21042</td>\n",
       "      <td>A.J. Brown</td>\n",
       "      <td>/nfl/aj-brown-fantasy/21042</td>\n",
       "      <td>WR</td>\n",
       "      <td>6'0\"</td>\n",
       "      <td>226</td>\n",
       "      <td>June 30, 1997 (25)</td>\n",
       "      <td>4th Season</td>\n",
       "      <td>Mississippi</td>\n",
       "      <td>6'0\"</td>\n",
       "      <td>226</td>\n",
       "      <td>6/30/1997</td>\n",
       "      <td>4</td>\n",
       "      <td>2019</td>\n",
       "      <td>2.0</td>\n",
       "      <td>51.0</td>\n",
       "      <td>TEN</td>\n",
       "    </tr>\n",
       "    <tr>\n",
       "      <th>1</th>\n",
       "      <td>12845</td>\n",
       "      <td>A.J. Green</td>\n",
       "      <td>/nfl/aj-green-fantasy/12845</td>\n",
       "      <td>WR</td>\n",
       "      <td>6'4\"</td>\n",
       "      <td>207</td>\n",
       "      <td>July 31, 1988 (33)</td>\n",
       "      <td>12th Season</td>\n",
       "      <td>Georgia</td>\n",
       "      <td>6'4\"</td>\n",
       "      <td>207</td>\n",
       "      <td>7/31/1988</td>\n",
       "      <td>12</td>\n",
       "      <td>2011</td>\n",
       "      <td>1.0</td>\n",
       "      <td>4.0</td>\n",
       "      <td>CIN</td>\n",
       "    </tr>\n",
       "    <tr>\n",
       "      <th>2</th>\n",
       "      <td>16962</td>\n",
       "      <td>AJ Derby</td>\n",
       "      <td>/nfl/aj-derby-fantasy/16962</td>\n",
       "      <td>TE</td>\n",
       "      <td>6'5\"</td>\n",
       "      <td>245</td>\n",
       "      <td>September 20, 1991 (30)</td>\n",
       "      <td>5th Season</td>\n",
       "      <td>Arkansas</td>\n",
       "      <td>6'5\"</td>\n",
       "      <td>245</td>\n",
       "      <td>9/20/1991</td>\n",
       "      <td>5</td>\n",
       "      <td>2015</td>\n",
       "      <td>6.0</td>\n",
       "      <td>202.0</td>\n",
       "      <td>NE</td>\n",
       "    </tr>\n",
       "    <tr>\n",
       "      <th>3</th>\n",
       "      <td>21802</td>\n",
       "      <td>AJ Dillon</td>\n",
       "      <td>/nfl/aj-dillon-fantasy/21802</td>\n",
       "      <td>RB</td>\n",
       "      <td>6'0\"</td>\n",
       "      <td>247</td>\n",
       "      <td>May 2, 1998 (24)</td>\n",
       "      <td>3rd Season</td>\n",
       "      <td>Boston College</td>\n",
       "      <td>6'0\"</td>\n",
       "      <td>247</td>\n",
       "      <td>5/2/1998</td>\n",
       "      <td>3</td>\n",
       "      <td>2020</td>\n",
       "      <td>2.0</td>\n",
       "      <td>62.0</td>\n",
       "      <td>GB</td>\n",
       "    </tr>\n",
       "    <tr>\n",
       "      <th>4</th>\n",
       "      <td>16116</td>\n",
       "      <td>AJ McCarron</td>\n",
       "      <td>/nfl/aj-mccarron-fantasy/16116</td>\n",
       "      <td>QB</td>\n",
       "      <td>6'3\"</td>\n",
       "      <td>215</td>\n",
       "      <td>September 13, 1990 (31)</td>\n",
       "      <td>8th Season</td>\n",
       "      <td>Alabama</td>\n",
       "      <td>6'3\"</td>\n",
       "      <td>215</td>\n",
       "      <td>9/13/1990</td>\n",
       "      <td>8</td>\n",
       "      <td>2014</td>\n",
       "      <td>5.0</td>\n",
       "      <td>164.0</td>\n",
       "      <td>CIN</td>\n",
       "    </tr>\n",
       "  </tbody>\n",
       "</table>\n",
       "</div>"
      ],
      "text/plain": [
       "   Player_ID         Name                        rel_link Position height  \\\n",
       "0      21042   A.J. Brown     /nfl/aj-brown-fantasy/21042       WR  6'0\"    \n",
       "1      12845   A.J. Green     /nfl/aj-green-fantasy/12845       WR  6'4\"    \n",
       "2      16962     AJ Derby     /nfl/aj-derby-fantasy/16962       TE  6'5\"    \n",
       "3      21802    AJ Dillon    /nfl/aj-dillon-fantasy/21802       RB  6'0\"    \n",
       "4      16116  AJ McCarron  /nfl/aj-mccarron-fantasy/16116       QB  6'3\"    \n",
       "\n",
       "   weight (lbs)                  dob_age   experience         college  \\\n",
       "0           226       June 30, 1997 (25)   4th Season     Mississippi   \n",
       "1           207       July 31, 1988 (33)  12th Season         Georgia   \n",
       "2           245  September 20, 1991 (30)   5th Season        Arkansas   \n",
       "3           247         May 2, 1998 (24)   3rd Season  Boston College   \n",
       "4           215  September 13, 1990 (31)   8th Season         Alabama   \n",
       "\n",
       "  height.1  weight_lbs        dob  exp(y)  draft_year  draft_round  \\\n",
       "0     6'0\"         226  6/30/1997       4        2019          2.0   \n",
       "1     6'4\"         207  7/31/1988      12        2011          1.0   \n",
       "2     6'5\"         245  9/20/1991       5        2015          6.0   \n",
       "3     6'0\"         247   5/2/1998       3        2020          2.0   \n",
       "4     6'3\"         215  9/13/1990       8        2014          5.0   \n",
       "\n",
       "   draft_pick draft_team  \n",
       "0        51.0        TEN  \n",
       "1         4.0        CIN  \n",
       "2       202.0         NE  \n",
       "3        62.0         GB  \n",
       "4       164.0        CIN  "
      ]
     },
     "execution_count": 4,
     "metadata": {},
     "output_type": "execute_result"
    }
   ],
   "source": [
    "#Check df names\n",
    "player_df.head()"
   ]
  },
  {
   "cell_type": "code",
   "execution_count": 5,
   "metadata": {},
   "outputs": [],
   "source": [
    "player_df.drop(columns=\"height.1\", inplace = True)"
   ]
  },
  {
   "cell_type": "markdown",
   "metadata": {},
   "source": [
    "Start SQL Imports"
   ]
  },
  {
   "cell_type": "code",
   "execution_count": 6,
   "metadata": {},
   "outputs": [],
   "source": [
    "#Start SQL connections\n",
    "con = sqlite3.connect(\"./sqlite_db.sqlite\")"
   ]
  },
  {
   "cell_type": "code",
   "execution_count": 7,
   "metadata": {},
   "outputs": [
    {
     "name": "stderr",
     "output_type": "stream",
     "text": [
      "c:\\Users\\camke\\anaconda3\\envs\\PythonData\\lib\\site-packages\\pandas\\core\\generic.py:2882: UserWarning: The spaces in these column names will not be changed. In pandas versions < 0.14, spaces were converted to underscores.\n",
      "  method=method,\n"
     ]
    }
   ],
   "source": [
    "player_df.to_sql(\"PlayerBios\", con, if_exists=\"replace\")"
   ]
  },
  {
   "cell_type": "code",
   "execution_count": 8,
   "metadata": {},
   "outputs": [],
   "source": [
    "cursor = con.cursor()"
   ]
  },
  {
   "cell_type": "code",
   "execution_count": 9,
   "metadata": {},
   "outputs": [],
   "source": [
    "# Getting all tables from sqlite_master\n",
    "sql_query = \"\"\"SELECT name FROM sqlite_master WHERE type='table';\"\"\""
   ]
  },
  {
   "cell_type": "code",
   "execution_count": 10,
   "metadata": {},
   "outputs": [
    {
     "name": "stdout",
     "output_type": "stream",
     "text": [
      "List of tables\n",
      "\n",
      "[('Teams',), ('QB_Stats',), ('QB_Extra_Stats',), ('WR_Stats',), ('WR_Extra_Stats',), ('RB_Stats',), ('RB_Extra_Stats',), ('TE_Stats',), ('TE_Extra_Stats',), ('QB_Full_Stats',), ('WR_Full_Stats',), ('RB_Full_Stats',), ('TE_Full_Stats',), ('PlayerBios',)]\n"
     ]
    }
   ],
   "source": [
    "# executing our sql query\n",
    "cursor.execute(sql_query)\n",
    "print(\"List of tables\\n\")\n",
    "    \n",
    "# printing all tables list\n",
    "print(cursor.fetchall())"
   ]
  }
 ],
 "metadata": {
  "kernelspec": {
   "display_name": "Python 3.7.11 ('PythonData')",
   "language": "python",
   "name": "python3"
  },
  "language_info": {
   "codemirror_mode": {
    "name": "ipython",
    "version": 3
   },
   "file_extension": ".py",
   "mimetype": "text/x-python",
   "name": "python",
   "nbconvert_exporter": "python",
   "pygments_lexer": "ipython3",
   "version": "3.7.11"
  },
  "orig_nbformat": 4,
  "vscode": {
   "interpreter": {
    "hash": "62ad272cb85a3a5abcd8841e9872b0b5e6b3f9a902fd78a31052f93593234f89"
   }
  }
 },
 "nbformat": 4,
 "nbformat_minor": 2
}
