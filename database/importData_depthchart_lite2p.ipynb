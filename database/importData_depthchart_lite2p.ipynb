{
 "cells": [
  {
   "cell_type": "code",
   "execution_count": 1,
   "metadata": {},
   "outputs": [],
   "source": [
    "#Import Dependencies\n",
    "import sqlite3\n",
    "import psycopg2\n",
    "import sqlalchemy\n",
    "import pandas as pd \n",
    "from sqlalchemy import create_engine\n",
    "from config import password \n"
   ]
  },
  {
   "cell_type": "code",
   "execution_count": 2,
   "metadata": {},
   "outputs": [],
   "source": [
    "#Connection to sqlite db\n",
    "con = sqlite3.connect('./sqlite_db.sqlite')\n",
    "cursor = con.cursor()"
   ]
  },
  {
   "cell_type": "code",
   "execution_count": 3,
   "metadata": {},
   "outputs": [],
   "source": [
    "#grab depth table and put into dataframe\n",
    "depth_df = pd.DataFrame(pd.read_sql_query(f\"select * from DepthCharts\", con))"
   ]
  },
  {
   "cell_type": "code",
   "execution_count": 4,
   "metadata": {},
   "outputs": [
    {
     "data": {
      "text/html": [
       "<div>\n",
       "<style scoped>\n",
       "    .dataframe tbody tr th:only-of-type {\n",
       "        vertical-align: middle;\n",
       "    }\n",
       "\n",
       "    .dataframe tbody tr th {\n",
       "        vertical-align: top;\n",
       "    }\n",
       "\n",
       "    .dataframe thead th {\n",
       "        text-align: right;\n",
       "    }\n",
       "</style>\n",
       "<table border=\"1\" class=\"dataframe\">\n",
       "  <thead>\n",
       "    <tr style=\"text-align: right;\">\n",
       "      <th></th>\n",
       "      <th>index</th>\n",
       "      <th>team</th>\n",
       "      <th>year</th>\n",
       "      <th>position</th>\n",
       "      <th>depth</th>\n",
       "      <th>name</th>\n",
       "    </tr>\n",
       "  </thead>\n",
       "  <tbody>\n",
       "    <tr>\n",
       "      <th>0</th>\n",
       "      <td>0</td>\n",
       "      <td>ARZ</td>\n",
       "      <td>2018</td>\n",
       "      <td>LWR</td>\n",
       "      <td>1</td>\n",
       "      <td>LARRY FITZGERALD</td>\n",
       "    </tr>\n",
       "    <tr>\n",
       "      <th>1</th>\n",
       "      <td>2</td>\n",
       "      <td>ARZ</td>\n",
       "      <td>2018</td>\n",
       "      <td>TE</td>\n",
       "      <td>1</td>\n",
       "      <td>Ricky Seals-Jones</td>\n",
       "    </tr>\n",
       "    <tr>\n",
       "      <th>2</th>\n",
       "      <td>3</td>\n",
       "      <td>ARZ</td>\n",
       "      <td>2018</td>\n",
       "      <td>QB</td>\n",
       "      <td>1</td>\n",
       "      <td>SAM BRADFORD</td>\n",
       "    </tr>\n",
       "    <tr>\n",
       "      <th>3</th>\n",
       "      <td>4</td>\n",
       "      <td>ARZ</td>\n",
       "      <td>2018</td>\n",
       "      <td>FB</td>\n",
       "      <td>1</td>\n",
       "      <td>Derrick Coleman</td>\n",
       "    </tr>\n",
       "    <tr>\n",
       "      <th>4</th>\n",
       "      <td>5</td>\n",
       "      <td>ARZ</td>\n",
       "      <td>2018</td>\n",
       "      <td>RWR</td>\n",
       "      <td>1</td>\n",
       "      <td>Brice Butler</td>\n",
       "    </tr>\n",
       "  </tbody>\n",
       "</table>\n",
       "</div>"
      ],
      "text/plain": [
       "   index team  year position  depth               name\n",
       "0      0  ARZ  2018      LWR      1   LARRY FITZGERALD\n",
       "1      2  ARZ  2018       TE      1  Ricky Seals-Jones\n",
       "2      3  ARZ  2018       QB      1       SAM BRADFORD\n",
       "3      4  ARZ  2018       FB      1    Derrick Coleman\n",
       "4      5  ARZ  2018      RWR      1       Brice Butler"
      ]
     },
     "execution_count": 4,
     "metadata": {},
     "output_type": "execute_result"
    }
   ],
   "source": [
    "#check dataframe\n",
    "depth_df.head()"
   ]
  },
  {
   "cell_type": "code",
   "execution_count": 5,
   "metadata": {},
   "outputs": [],
   "source": [
    "#close connection w/ sqlite and start engine for postgres\n",
    "con.close()\n",
    "\n",
    "#Create connection to AWS database\n",
    "ENDPOINT=\"fantasyfootball.ckswyhqaro8q.us-east-2.rds.amazonaws.com\"\n",
    "PORT=\"5432\"\n",
    "USR=\"DreamTeam\"\n",
    "PSSWD=password\n",
    "DBNAME=\"postgres\"\n",
    "\n",
    "#conn_string = \"host='localhost' dbname='my_database' user='postgres' password='secret'\n",
    "conp= create_engine(\"postgresql://{}:{}@{}:{}/{}\".format(USR, PSSWD, ENDPOINT, PORT, DBNAME))"
   ]
  },
  {
   "cell_type": "code",
   "execution_count": null,
   "metadata": {},
   "outputs": [],
   "source": [
    "#format columns to lower case for db\n",
    "depth_df.columns = depth_df.columns.str.lower()"
   ]
  },
  {
   "cell_type": "code",
   "execution_count": null,
   "metadata": {},
   "outputs": [],
   "source": [
    "#Write table to AWS\n",
    "depth_df.to_sql(\"depth_chart\", conp, if_exists=\"replace\")"
   ]
  },
  {
   "cell_type": "code",
   "execution_count": null,
   "metadata": {},
   "outputs": [],
   "source": []
  }
 ],
 "metadata": {
  "kernelspec": {
   "display_name": "Python 3.7.11 ('PythonData')",
   "language": "python",
   "name": "python3"
  },
  "language_info": {
   "codemirror_mode": {
    "name": "ipython",
    "version": 3
   },
   "file_extension": ".py",
   "mimetype": "text/x-python",
   "name": "python",
   "nbconvert_exporter": "python",
   "pygments_lexer": "ipython3",
   "version": "3.7.11"
  },
  "orig_nbformat": 4,
  "vscode": {
   "interpreter": {
    "hash": "62ad272cb85a3a5abcd8841e9872b0b5e6b3f9a902fd78a31052f93593234f89"
   }
  }
 },
 "nbformat": 4,
 "nbformat_minor": 2
}
