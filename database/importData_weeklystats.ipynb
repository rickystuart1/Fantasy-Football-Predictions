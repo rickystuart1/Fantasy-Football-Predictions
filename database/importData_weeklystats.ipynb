{
 "cells": [
  {
   "cell_type": "code",
   "execution_count": 1,
   "metadata": {},
   "outputs": [],
   "source": [
    "#Import Dependencies\n",
    "import psycopg2\n",
    "import sqlalchemy\n",
    "import pandas as pd \n",
    "from sqlalchemy import create_engine\n",
    "from config import password "
   ]
  },
  {
   "cell_type": "code",
   "execution_count": 2,
   "metadata": {},
   "outputs": [],
   "source": [
    "# Read in CSVs\n",
    "year = [2018, 2019, 2020, 2021]\n",
    "df_names =[]\n",
    "df_list = []\n",
    "\n",
    "\n",
    "for y in year:\n",
    "    filename = f\"weekly{y}_playerid.csv\"\n",
    "    filepath = f\"../../DataBase/Resources/weekly_stats/\"\n",
    "    df = f\"{y}_weekly_df\"\n",
    "    df_names.append(df)\n",
    "    read_df = pd.read_csv(f\"{filepath}{filename}\")\n",
    "    df_list.append(read_df)\n",
    "\n",
    "      "
   ]
  },
  {
   "cell_type": "code",
   "execution_count": 3,
   "metadata": {},
   "outputs": [
    {
     "data": {
      "text/plain": [
       "['2018_weekly_df', '2019_weekly_df', '2020_weekly_df', '2021_weekly_df']"
      ]
     },
     "execution_count": 3,
     "metadata": {},
     "output_type": "execute_result"
    }
   ],
   "source": [
    "#Check df names\n",
    "df_names"
   ]
  },
  {
   "cell_type": "code",
   "execution_count": 4,
   "metadata": {},
   "outputs": [
    {
     "data": {
      "text/plain": [
       "4"
      ]
     },
     "execution_count": 4,
     "metadata": {},
     "output_type": "execute_result"
    }
   ],
   "source": [
    "#check data list \n",
    "len(df_list)"
   ]
  },
  {
   "cell_type": "code",
   "execution_count": 5,
   "metadata": {},
   "outputs": [],
   "source": [
    "#Add year to each dataframe\n",
    "for i in range(0,len(df_list)):\n",
    "    yr = df_names[i][:4]\n",
    "    df_list[i][\"Year\"] = yr"
   ]
  },
  {
   "cell_type": "code",
   "execution_count": 6,
   "metadata": {},
   "outputs": [
    {
     "name": "stdout",
     "output_type": "stream",
     "text": [
      "<class 'pandas.core.frame.DataFrame'>\n",
      "RangeIndex: 2500 entries, 0 to 2499\n",
      "Data columns (total 19 columns):\n",
      " #   Column                Non-Null Count  Dtype  \n",
      "---  ------                --------------  -----  \n",
      " 0   Rank                  2500 non-null   int64  \n",
      " 1   PlayerID              2500 non-null   int64  \n",
      " 2   Name                  2500 non-null   object \n",
      " 3   Team                  2500 non-null   object \n",
      " 4   Position              2500 non-null   object \n",
      " 5   Week                  2500 non-null   int64  \n",
      " 6   Opponent              2500 non-null   object \n",
      " 7   PassingYards          2500 non-null   int64  \n",
      " 8   PassingTouchdowns     2500 non-null   int64  \n",
      " 9   PassingInterceptions  2500 non-null   int64  \n",
      " 10  RushingYards          2500 non-null   int64  \n",
      " 11  RushingTouchdowns     2500 non-null   int64  \n",
      " 12  Receptions            2500 non-null   int64  \n",
      " 13  ReceivingYards        2500 non-null   int64  \n",
      " 14  ReceivingTouchdowns   2500 non-null   int64  \n",
      " 15  FumblesLost           2500 non-null   int64  \n",
      " 16  FantasyPointsPerGame  2500 non-null   float64\n",
      " 17  FantasyPoints         2500 non-null   float64\n",
      " 18  Year                  2500 non-null   object \n",
      "dtypes: float64(2), int64(12), object(5)\n",
      "memory usage: 371.2+ KB\n",
      "None\n",
      "<class 'pandas.core.frame.DataFrame'>\n",
      "RangeIndex: 2500 entries, 0 to 2499\n",
      "Data columns (total 19 columns):\n",
      " #   Column                Non-Null Count  Dtype  \n",
      "---  ------                --------------  -----  \n",
      " 0   Rank                  2500 non-null   int64  \n",
      " 1   PlayerID              2500 non-null   int64  \n",
      " 2   Name                  2500 non-null   object \n",
      " 3   Team                  2500 non-null   object \n",
      " 4   Position              2500 non-null   object \n",
      " 5   Week                  2500 non-null   int64  \n",
      " 6   Opponent              2500 non-null   object \n",
      " 7   PassingYards          2500 non-null   int64  \n",
      " 8   PassingTouchdowns     2500 non-null   int64  \n",
      " 9   PassingInterceptions  2500 non-null   int64  \n",
      " 10  RushingYards          2500 non-null   int64  \n",
      " 11  RushingTouchdowns     2500 non-null   int64  \n",
      " 12  Receptions            2500 non-null   int64  \n",
      " 13  ReceivingYards        2500 non-null   int64  \n",
      " 14  ReceivingTouchdowns   2500 non-null   int64  \n",
      " 15  FumblesLost           2500 non-null   int64  \n",
      " 16  FantasyPointsPerGame  2500 non-null   float64\n",
      " 17  FantasyPoints         2500 non-null   float64\n",
      " 18  Year                  2500 non-null   object \n",
      "dtypes: float64(2), int64(12), object(5)\n",
      "memory usage: 371.2+ KB\n",
      "None\n",
      "<class 'pandas.core.frame.DataFrame'>\n",
      "RangeIndex: 2500 entries, 0 to 2499\n",
      "Data columns (total 19 columns):\n",
      " #   Column                Non-Null Count  Dtype  \n",
      "---  ------                --------------  -----  \n",
      " 0   Rank                  2500 non-null   int64  \n",
      " 1   PlayerID              2500 non-null   int64  \n",
      " 2   Name                  2500 non-null   object \n",
      " 3   Team                  2500 non-null   object \n",
      " 4   Position              2500 non-null   object \n",
      " 5   Week                  2500 non-null   int64  \n",
      " 6   Opponent              2500 non-null   object \n",
      " 7   PassingYards          2500 non-null   int64  \n",
      " 8   PassingTouchdowns     2500 non-null   int64  \n",
      " 9   PassingInterceptions  2500 non-null   int64  \n",
      " 10  RushingYards          2500 non-null   int64  \n",
      " 11  RushingTouchdowns     2500 non-null   int64  \n",
      " 12  Receptions            2500 non-null   int64  \n",
      " 13  ReceivingYards        2500 non-null   int64  \n",
      " 14  ReceivingTouchdowns   2500 non-null   int64  \n",
      " 15  FumblesLost           2500 non-null   int64  \n",
      " 16  FantasyPointsPerGame  2500 non-null   float64\n",
      " 17  FantasyPoints         2500 non-null   float64\n",
      " 18  Year                  2500 non-null   object \n",
      "dtypes: float64(2), int64(12), object(5)\n",
      "memory usage: 371.2+ KB\n",
      "None\n",
      "<class 'pandas.core.frame.DataFrame'>\n",
      "RangeIndex: 2500 entries, 0 to 2499\n",
      "Data columns (total 19 columns):\n",
      " #   Column                Non-Null Count  Dtype  \n",
      "---  ------                --------------  -----  \n",
      " 0   Rank                  2500 non-null   int64  \n",
      " 1   PlayerID              2500 non-null   int64  \n",
      " 2   Name                  2500 non-null   object \n",
      " 3   Team                  2500 non-null   object \n",
      " 4   Position              2500 non-null   object \n",
      " 5   Week                  2500 non-null   int64  \n",
      " 6   Opponent              2500 non-null   object \n",
      " 7   PassingYards          2500 non-null   int64  \n",
      " 8   PassingTouchdowns     2500 non-null   int64  \n",
      " 9   PassingInterceptions  2500 non-null   int64  \n",
      " 10  RushingYards          2500 non-null   int64  \n",
      " 11  RushingTouchdowns     2500 non-null   int64  \n",
      " 12  Receptions            2500 non-null   int64  \n",
      " 13  ReceivingYards        2500 non-null   int64  \n",
      " 14  ReceivingTouchdowns   2500 non-null   int64  \n",
      " 15  FumblesLost           2500 non-null   int64  \n",
      " 16  FantasyPointsPerGame  2500 non-null   float64\n",
      " 17  FantasyPoints         2500 non-null   float64\n",
      " 18  Year                  2500 non-null   object \n",
      "dtypes: float64(2), int64(12), object(5)\n",
      "memory usage: 371.2+ KB\n",
      "None\n"
     ]
    }
   ],
   "source": [
    "#Check year was added\n",
    "for i in range(0,len(df_list)):\n",
    "    print(df_list[i].info())"
   ]
  },
  {
   "cell_type": "code",
   "execution_count": 7,
   "metadata": {},
   "outputs": [],
   "source": [
    "#Create empty DF to concatenate position\n",
    "weekly_stats_df = pd.DataFrame()"
   ]
  },
  {
   "cell_type": "code",
   "execution_count": 8,
   "metadata": {},
   "outputs": [
    {
     "name": "stdout",
     "output_type": "stream",
     "text": [
      "index 0 was added to df\n",
      "index 1 was added to df\n",
      "index 2 was added to df\n",
      "index 3 was added to df\n"
     ]
    }
   ],
   "source": [
    "#Use coniditionals to concat dataframs\n",
    "for i in range(0,len(df_list)):\n",
    "    weekly_stats_df = pd.concat([df_list[i], weekly_stats_df], ignore_index=True)\n",
    "    print(f\"index {i} was added to df\")\n"
   ]
  },
  {
   "cell_type": "code",
   "execution_count": 9,
   "metadata": {},
   "outputs": [
    {
     "name": "stdout",
     "output_type": "stream",
     "text": [
      "<class 'pandas.core.frame.DataFrame'>\n",
      "RangeIndex: 10000 entries, 0 to 9999\n",
      "Data columns (total 19 columns):\n",
      " #   Column                Non-Null Count  Dtype  \n",
      "---  ------                --------------  -----  \n",
      " 0   Rank                  10000 non-null  int64  \n",
      " 1   PlayerID              10000 non-null  int64  \n",
      " 2   Name                  10000 non-null  object \n",
      " 3   Team                  10000 non-null  object \n",
      " 4   Position              10000 non-null  object \n",
      " 5   Week                  10000 non-null  int64  \n",
      " 6   Opponent              10000 non-null  object \n",
      " 7   PassingYards          10000 non-null  int64  \n",
      " 8   PassingTouchdowns     10000 non-null  int64  \n",
      " 9   PassingInterceptions  10000 non-null  int64  \n",
      " 10  RushingYards          10000 non-null  int64  \n",
      " 11  RushingTouchdowns     10000 non-null  int64  \n",
      " 12  Receptions            10000 non-null  int64  \n",
      " 13  ReceivingYards        10000 non-null  int64  \n",
      " 14  ReceivingTouchdowns   10000 non-null  int64  \n",
      " 15  FumblesLost           10000 non-null  int64  \n",
      " 16  FantasyPointsPerGame  10000 non-null  float64\n",
      " 17  FantasyPoints         10000 non-null  float64\n",
      " 18  Year                  10000 non-null  object \n",
      "dtypes: float64(2), int64(12), object(5)\n",
      "memory usage: 1.4+ MB\n"
     ]
    }
   ],
   "source": [
    "#Quick Check on QBs\n",
    "weekly_stats_df.info()"
   ]
  },
  {
   "cell_type": "code",
   "execution_count": 10,
   "metadata": {},
   "outputs": [],
   "source": [
    "#format columns to lower case for db\n",
    "weekly_stats_df.columns = weekly_stats_df.columns.str.lower()"
   ]
  },
  {
   "cell_type": "markdown",
   "metadata": {},
   "source": [
    "Start SQL Imports"
   ]
  },
  {
   "cell_type": "code",
   "execution_count": 11,
   "metadata": {},
   "outputs": [],
   "source": [
    "#Create connection to AWS database\n",
    "ENDPOINT=\"fantasyfootball.ckswyhqaro8q.us-east-2.rds.amazonaws.com\"\n",
    "PORT=\"5432\"\n",
    "USR=\"DreamTeam\"\n",
    "PSSWD=password\n",
    "DBNAME=\"postgres\"\n",
    "\n",
    "#conn_string = \"host='localhost' dbname='my_database' user='postgres' password='secret'\n",
    "con= create_engine(\"postgresql://{}:{}@{}:{}/{}\".format(USR, PSSWD, ENDPOINT, PORT, DBNAME))"
   ]
  },
  {
   "cell_type": "code",
   "execution_count": 12,
   "metadata": {},
   "outputs": [],
   "source": [
    "#Push table to AWS \n",
    "weekly_stats_df.to_sql(\"weekly_stats\", con, if_exists=\"replace\")"
   ]
  }
 ],
 "metadata": {
  "kernelspec": {
   "display_name": "Python 3.7.11 ('PythonData')",
   "language": "python",
   "name": "python3"
  },
  "language_info": {
   "codemirror_mode": {
    "name": "ipython",
    "version": 3
   },
   "file_extension": ".py",
   "mimetype": "text/x-python",
   "name": "python",
   "nbconvert_exporter": "python",
   "pygments_lexer": "ipython3",
   "version": "3.7.11"
  },
  "orig_nbformat": 4,
  "vscode": {
   "interpreter": {
    "hash": "62ad272cb85a3a5abcd8841e9872b0b5e6b3f9a902fd78a31052f93593234f89"
   }
  }
 },
 "nbformat": 4,
 "nbformat_minor": 2
}
