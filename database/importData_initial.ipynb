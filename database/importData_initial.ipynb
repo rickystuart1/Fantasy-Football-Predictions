{
 "cells": [
  {
   "cell_type": "code",
   "execution_count": 1,
   "metadata": {},
   "outputs": [],
   "source": [
    "#Import Dependencies\n",
    "import psycopg2\n",
    "import sqlalchemy\n",
    "import pandas as pd \n",
    "from config import password"
   ]
  },
  {
   "cell_type": "code",
   "execution_count": 2,
   "metadata": {},
   "outputs": [],
   "source": [
    "# Read in CSVs\n",
    "position = ['QB', 'RB', 'TE', 'WR']\n",
    "year = [2018, 2019, 2020, 2021]\n",
    "df_names =[]\n",
    "df_list = []\n",
    "\n",
    "for x in position: \n",
    "    pos= x.lower()\n",
    "    for y in year:\n",
    "        filename = f\"advanced-{pos}-metrics{y}.csv\"\n",
    "        filepath = f\"../Resources/{x}_stats/\"\n",
    "        df = f\"{pos}_{y}_df\"\n",
    "        df_names.append(df)\n",
    "        read_df = pd.read_csv(f\"{filepath}{filename}\")\n",
    "        df_list.append(read_df)\n",
    "\n",
    "      "
   ]
  },
  {
   "cell_type": "code",
   "execution_count": 3,
   "metadata": {},
   "outputs": [
    {
     "data": {
      "text/plain": [
       "['qb_2018_df',\n",
       " 'qb_2019_df',\n",
       " 'qb_2020_df',\n",
       " 'qb_2021_df',\n",
       " 'rb_2018_df',\n",
       " 'rb_2019_df',\n",
       " 'rb_2020_df',\n",
       " 'rb_2021_df',\n",
       " 'te_2018_df',\n",
       " 'te_2019_df',\n",
       " 'te_2020_df',\n",
       " 'te_2021_df',\n",
       " 'wr_2018_df',\n",
       " 'wr_2019_df',\n",
       " 'wr_2020_df',\n",
       " 'wr_2021_df']"
      ]
     },
     "execution_count": 3,
     "metadata": {},
     "output_type": "execute_result"
    }
   ],
   "source": [
    "#Check df names\n",
    "df_names"
   ]
  },
  {
   "cell_type": "code",
   "execution_count": 4,
   "metadata": {},
   "outputs": [
    {
     "data": {
      "text/plain": [
       "16"
      ]
     },
     "execution_count": 4,
     "metadata": {},
     "output_type": "execute_result"
    }
   ],
   "source": [
    "#check data list \n",
    "len(df_list)"
   ]
  },
  {
   "cell_type": "code",
   "execution_count": 5,
   "metadata": {},
   "outputs": [],
   "source": [
    "#Add year to each dataframe\n",
    "for i in range(0,len(df_list)):\n",
    "    yr = df_names[i][3:7]\n",
    "    df_list[i][\"Year\"] = yr"
   ]
  },
  {
   "cell_type": "code",
   "execution_count": 6,
   "metadata": {},
   "outputs": [
    {
     "data": {
      "text/html": [
       "<div>\n",
       "<style scoped>\n",
       "    .dataframe tbody tr th:only-of-type {\n",
       "        vertical-align: middle;\n",
       "    }\n",
       "\n",
       "    .dataframe tbody tr th {\n",
       "        vertical-align: top;\n",
       "    }\n",
       "\n",
       "    .dataframe thead th {\n",
       "        text-align: right;\n",
       "    }\n",
       "</style>\n",
       "<table border=\"1\" class=\"dataframe\">\n",
       "  <thead>\n",
       "    <tr style=\"text-align: right;\">\n",
       "      <th></th>\n",
       "      <th>Rank</th>\n",
       "      <th>PlayerPlayerId</th>\n",
       "      <th>PlayerShortName</th>\n",
       "      <th>PlayerAgeExact</th>\n",
       "      <th>PassAttemptsPerGame</th>\n",
       "      <th>PassingYards</th>\n",
       "      <th>CompletionPercentage</th>\n",
       "      <th>PassingTouchdowns</th>\n",
       "      <th>Interceptions</th>\n",
       "      <th>MoneyThrows</th>\n",
       "      <th>TouchdownRate</th>\n",
       "      <th>ProtectionRate</th>\n",
       "      <th>PressuredCompletionPercentage</th>\n",
       "      <th>AirYards</th>\n",
       "      <th>AirYardsPerGame</th>\n",
       "      <th>AirYardsPerAttempt</th>\n",
       "      <th>DeepBallAttempts</th>\n",
       "      <th>DeepBallCompletionPercentage</th>\n",
       "      <th>Year</th>\n",
       "    </tr>\n",
       "  </thead>\n",
       "  <tbody>\n",
       "    <tr>\n",
       "      <th>0</th>\n",
       "      <td>1</td>\n",
       "      <td>19781</td>\n",
       "      <td>L. Jackson</td>\n",
       "      <td>25.5</td>\n",
       "      <td>26.7</td>\n",
       "      <td>3127</td>\n",
       "      <td>66.1</td>\n",
       "      <td>36</td>\n",
       "      <td>6</td>\n",
       "      <td>19</td>\n",
       "      <td>9.0</td>\n",
       "      <td>87.3</td>\n",
       "      <td>34.7</td>\n",
       "      <td>1883.0</td>\n",
       "      <td>125.5</td>\n",
       "      <td>4.7</td>\n",
       "      <td>60</td>\n",
       "      <td>33.3</td>\n",
       "      <td>2019</td>\n",
       "    </tr>\n",
       "    <tr>\n",
       "      <th>1</th>\n",
       "      <td>2</td>\n",
       "      <td>18055</td>\n",
       "      <td>D. Prescott</td>\n",
       "      <td>28.9</td>\n",
       "      <td>37.2</td>\n",
       "      <td>4901</td>\n",
       "      <td>65.1</td>\n",
       "      <td>30</td>\n",
       "      <td>11</td>\n",
       "      <td>23</td>\n",
       "      <td>5.0</td>\n",
       "      <td>85.8</td>\n",
       "      <td>33.1</td>\n",
       "      <td>3098.0</td>\n",
       "      <td>193.6</td>\n",
       "      <td>5.2</td>\n",
       "      <td>78</td>\n",
       "      <td>48.7</td>\n",
       "      <td>2019</td>\n",
       "    </tr>\n",
       "    <tr>\n",
       "      <th>2</th>\n",
       "      <td>3</td>\n",
       "      <td>14536</td>\n",
       "      <td>R. Wilson</td>\n",
       "      <td>33.6</td>\n",
       "      <td>32.2</td>\n",
       "      <td>4111</td>\n",
       "      <td>66.1</td>\n",
       "      <td>31</td>\n",
       "      <td>5</td>\n",
       "      <td>33</td>\n",
       "      <td>6.0</td>\n",
       "      <td>78.2</td>\n",
       "      <td>33.3</td>\n",
       "      <td>2521.0</td>\n",
       "      <td>157.6</td>\n",
       "      <td>4.9</td>\n",
       "      <td>83</td>\n",
       "      <td>39.8</td>\n",
       "      <td>2019</td>\n",
       "    </tr>\n",
       "    <tr>\n",
       "      <th>3</th>\n",
       "      <td>4</td>\n",
       "      <td>18857</td>\n",
       "      <td>D. Watson</td>\n",
       "      <td>26.8</td>\n",
       "      <td>33.0</td>\n",
       "      <td>3852</td>\n",
       "      <td>67.3</td>\n",
       "      <td>26</td>\n",
       "      <td>12</td>\n",
       "      <td>24</td>\n",
       "      <td>5.3</td>\n",
       "      <td>84.8</td>\n",
       "      <td>44.8</td>\n",
       "      <td>2284.0</td>\n",
       "      <td>152.3</td>\n",
       "      <td>4.6</td>\n",
       "      <td>81</td>\n",
       "      <td>42.0</td>\n",
       "      <td>2019</td>\n",
       "    </tr>\n",
       "    <tr>\n",
       "      <th>4</th>\n",
       "      <td>5</td>\n",
       "      <td>16762</td>\n",
       "      <td>J. Winston</td>\n",
       "      <td>28.5</td>\n",
       "      <td>39.1</td>\n",
       "      <td>5109</td>\n",
       "      <td>60.7</td>\n",
       "      <td>33</td>\n",
       "      <td>30</td>\n",
       "      <td>19</td>\n",
       "      <td>5.3</td>\n",
       "      <td>82.8</td>\n",
       "      <td>37.2</td>\n",
       "      <td>3248.0</td>\n",
       "      <td>203.0</td>\n",
       "      <td>5.2</td>\n",
       "      <td>113</td>\n",
       "      <td>36.3</td>\n",
       "      <td>2019</td>\n",
       "    </tr>\n",
       "  </tbody>\n",
       "</table>\n",
       "</div>"
      ],
      "text/plain": [
       "   Rank  PlayerPlayerId PlayerShortName  PlayerAgeExact  PassAttemptsPerGame  \\\n",
       "0     1           19781      L. Jackson            25.5                 26.7   \n",
       "1     2           18055     D. Prescott            28.9                 37.2   \n",
       "2     3           14536       R. Wilson            33.6                 32.2   \n",
       "3     4           18857       D. Watson            26.8                 33.0   \n",
       "4     5           16762      J. Winston            28.5                 39.1   \n",
       "\n",
       "   PassingYards  CompletionPercentage  PassingTouchdowns  Interceptions  \\\n",
       "0          3127                  66.1                 36              6   \n",
       "1          4901                  65.1                 30             11   \n",
       "2          4111                  66.1                 31              5   \n",
       "3          3852                  67.3                 26             12   \n",
       "4          5109                  60.7                 33             30   \n",
       "\n",
       "   MoneyThrows  TouchdownRate  ProtectionRate  PressuredCompletionPercentage  \\\n",
       "0           19            9.0            87.3                           34.7   \n",
       "1           23            5.0            85.8                           33.1   \n",
       "2           33            6.0            78.2                           33.3   \n",
       "3           24            5.3            84.8                           44.8   \n",
       "4           19            5.3            82.8                           37.2   \n",
       "\n",
       "   AirYards  AirYardsPerGame  AirYardsPerAttempt  DeepBallAttempts  \\\n",
       "0    1883.0            125.5                 4.7                60   \n",
       "1    3098.0            193.6                 5.2                78   \n",
       "2    2521.0            157.6                 4.9                83   \n",
       "3    2284.0            152.3                 4.6                81   \n",
       "4    3248.0            203.0                 5.2               113   \n",
       "\n",
       "   DeepBallCompletionPercentage  Year  \n",
       "0                          33.3  2019  \n",
       "1                          48.7  2019  \n",
       "2                          39.8  2019  \n",
       "3                          42.0  2019  \n",
       "4                          36.3  2019  "
      ]
     },
     "execution_count": 6,
     "metadata": {},
     "output_type": "execute_result"
    }
   ],
   "source": [
    "#Check year was ed\n",
    "df_list[1].head()"
   ]
  },
  {
   "cell_type": "code",
   "execution_count": 7,
   "metadata": {},
   "outputs": [],
   "source": [
    "#Create empty DF to concatenate position\n",
    "qb_df = pd.DataFrame()\n",
    "rb_df = pd.DataFrame()\n",
    "te_df = pd.DataFrame()\n",
    "wr_df = pd.DataFrame()"
   ]
  },
  {
   "cell_type": "code",
   "execution_count": 8,
   "metadata": {},
   "outputs": [
    {
     "name": "stdout",
     "output_type": "stream",
     "text": [
      "index 0 was ed to qb\n",
      "index 1 was ed to qb\n",
      "index 2 was ed to qb\n",
      "index 3 was ed to qb\n",
      "index 4 was added to rb\n",
      "index 5 was added to rb\n",
      "index 6 was added to rb\n",
      "index 7 was added to rb\n",
      "index 8 was added to te\n",
      "index 9 was added to te\n",
      "index 10 was added to te\n",
      "index 11 was added to te\n",
      "index 12 was added to wr\n",
      "index 13 was added to wr\n",
      "index 14 was added to wr\n",
      "index 15 was added to wr\n"
     ]
    }
   ],
   "source": [
    "#Use coniditionals to concat dataframs\n",
    "for i in range(0,len(df_list)):\n",
    "    #Check for QB name\n",
    "    if df_names[i][:2] == 'qb': \n",
    "        qb_df = pd.concat([df_list[i], qb_df], ignore_index=True)\n",
    "        print(f\"index {i} was ed to qb\")\n",
    "    #Check for RB name / Add to DF\n",
    "    elif df_names[i][:2] == 'rb':\n",
    "        rb_df = pd.concat([df_list[i], rb_df], ignore_index=True)\n",
    "        print(f\"index {i} was added to rb\")\n",
    "    #Check for TE name / Add to DF\n",
    "    elif df_names[i][:2] == 'te': \n",
    "        te_df = pd.concat([df_list[i], te_df], ignore_index=True)\n",
    "        print(f\"index {i} was added to te\")\n",
    "    #Check for WR name / Add to DF\n",
    "    elif df_names[i][:2] == 'wr': \n",
    "        wr_df = pd.concat([df_list[i], wr_df], ignore_index=True)\n",
    "        print(f\"index {i} was added to wr\")\n",
    "    #Check for mistakes\n",
    "    else:\n",
    "        print(\"Uh Oh!\")\n"
   ]
  },
  {
   "cell_type": "code",
   "execution_count": 9,
   "metadata": {},
   "outputs": [
    {
     "name": "stdout",
     "output_type": "stream",
     "text": [
      "<class 'pandas.core.frame.DataFrame'>\n",
      "RangeIndex: 131 entries, 0 to 130\n",
      "Data columns (total 19 columns):\n",
      " #   Column                         Non-Null Count  Dtype  \n",
      "---  ------                         --------------  -----  \n",
      " 0   Rank                           131 non-null    int64  \n",
      " 1   PlayerPlayerId                 131 non-null    int64  \n",
      " 2   PlayerShortName                131 non-null    object \n",
      " 3   PlayerAgeExact                 131 non-null    float64\n",
      " 4   PassAttemptsPerGame            131 non-null    float64\n",
      " 5   PassingYards                   131 non-null    int64  \n",
      " 6   CompletionPercentage           131 non-null    float64\n",
      " 7   PassingTouchdowns              131 non-null    int64  \n",
      " 8   Interceptions                  131 non-null    int64  \n",
      " 9   MoneyThrows                    131 non-null    int64  \n",
      " 10  TouchdownRate                  131 non-null    float64\n",
      " 11  ProtectionRate                 131 non-null    float64\n",
      " 12  PressuredCompletionPercentage  131 non-null    float64\n",
      " 13  AirYards                       131 non-null    float64\n",
      " 14  AirYardsPerGame                131 non-null    float64\n",
      " 15  AirYardsPerAttempt             131 non-null    float64\n",
      " 16  DeepBallAttempts               131 non-null    int64  \n",
      " 17  DeepBallCompletionPercentage   131 non-null    float64\n",
      " 18  Year                           131 non-null    object \n",
      "dtypes: float64(10), int64(7), object(2)\n",
      "memory usage: 19.6+ KB\n"
     ]
    }
   ],
   "source": [
    "#Quick Check on QBs\n",
    "qb_df.info()"
   ]
  },
  {
   "cell_type": "code",
   "execution_count": 10,
   "metadata": {},
   "outputs": [
    {
     "name": "stdout",
     "output_type": "stream",
     "text": [
      "<class 'pandas.core.frame.DataFrame'>\n",
      "RangeIndex: 116 entries, 0 to 115\n",
      "Data columns (total 20 columns):\n",
      " #   Column                  Non-Null Count  Dtype  \n",
      "---  ------                  --------------  -----  \n",
      " 0   Rank                    116 non-null    int64  \n",
      " 1   PlayerPlayerId          116 non-null    int64  \n",
      " 2   PlayerShortName         116 non-null    object \n",
      " 3   Targets                 116 non-null    int64  \n",
      " 4   Receptions              116 non-null    int64  \n",
      " 5   ReceivingYards          116 non-null    int64  \n",
      " 6   ReceivingTDs            116 non-null    int64  \n",
      " 7   HogRate                 2 non-null      float64\n",
      " 8   SnapShare               116 non-null    float64\n",
      " 9   AverageTargetDistance   116 non-null    float64\n",
      " 10  AirYards                116 non-null    float64\n",
      " 11  AirYardsPerGame         116 non-null    float64\n",
      " 12  AirYardsPerReception    116 non-null    float64\n",
      " 13  Targets.1               116 non-null    int64  \n",
      " 14  RedZoneTargets          116 non-null    int64  \n",
      " 15  EndzoneTargets          116 non-null    int64  \n",
      " 16  TargetAccuracy          116 non-null    float64\n",
      " 17  TargetShare             116 non-null    float64\n",
      " 18  FantasyPointsPerTarget  116 non-null    float64\n",
      " 19  Year                    116 non-null    object \n",
      "dtypes: float64(9), int64(9), object(2)\n",
      "memory usage: 18.2+ KB\n"
     ]
    }
   ],
   "source": [
    "#Quick Check on TEs\n",
    "te_df.info()"
   ]
  },
  {
   "cell_type": "code",
   "execution_count": 11,
   "metadata": {},
   "outputs": [
    {
     "name": "stdout",
     "output_type": "stream",
     "text": [
      "<class 'pandas.core.frame.DataFrame'>\n",
      "RangeIndex: 340 entries, 0 to 339\n",
      "Data columns (total 20 columns):\n",
      " #   Column                  Non-Null Count  Dtype  \n",
      "---  ------                  --------------  -----  \n",
      " 0   Rank                    340 non-null    int64  \n",
      " 1   PlayerPlayerId          340 non-null    int64  \n",
      " 2   PlayerShortName         340 non-null    object \n",
      " 3   Targets                 340 non-null    int64  \n",
      " 4   Receptions              340 non-null    int64  \n",
      " 5   ReceivingYards          340 non-null    int64  \n",
      " 6   ReceivingTDs            340 non-null    int64  \n",
      " 7   HogRate                 14 non-null     float64\n",
      " 8   SnapShare               340 non-null    float64\n",
      " 9   AverageTargetDistance   340 non-null    float64\n",
      " 10  AirYards                340 non-null    float64\n",
      " 11  AirYardsPerGame         340 non-null    float64\n",
      " 12  AirYardsPerReception    340 non-null    float64\n",
      " 13  Targets.1               340 non-null    int64  \n",
      " 14  RedZoneTargets          340 non-null    int64  \n",
      " 15  EndzoneTargets          340 non-null    int64  \n",
      " 16  TargetAccuracy          340 non-null    float64\n",
      " 17  TargetShare             340 non-null    float64\n",
      " 18  FantasyPointsPerTarget  340 non-null    float64\n",
      " 19  Year                    340 non-null    object \n",
      "dtypes: float64(9), int64(9), object(2)\n",
      "memory usage: 53.2+ KB\n"
     ]
    }
   ],
   "source": [
    "#Quick Check on WR\n",
    "wr_df.info()"
   ]
  },
  {
   "cell_type": "code",
   "execution_count": 12,
   "metadata": {},
   "outputs": [
    {
     "name": "stdout",
     "output_type": "stream",
     "text": [
      "<class 'pandas.core.frame.DataFrame'>\n",
      "RangeIndex: 649 entries, 0 to 648\n",
      "Data columns (total 23 columns):\n",
      " #   Column                    Non-Null Count  Dtype  \n",
      "---  ------                    --------------  -----  \n",
      " 0   Rank                      649 non-null    int64  \n",
      " 1   PlayerPlayerId            649 non-null    int64  \n",
      " 2   PlayerShortName           649 non-null    object \n",
      " 3   PlayerAgeExact            649 non-null    float64\n",
      " 4   Carries                   649 non-null    int64  \n",
      " 5   RushingYards              649 non-null    int64  \n",
      " 6   YardsPerCarry             613 non-null    float64\n",
      " 7   RushingTouchdowns         649 non-null    int64  \n",
      " 8   Targets                   649 non-null    int64  \n",
      " 9   Receptions                649 non-null    int64  \n",
      " 10  ReceivingYards            649 non-null    int64  \n",
      " 11  ReceivingTDs              649 non-null    int64  \n",
      " 12  SnapShare                 649 non-null    float64\n",
      " 13  OpportunityShare          637 non-null    float64\n",
      " 14  ShotgunCarryRate          585 non-null    float64\n",
      " 15  ShotgunYardsPerCarry      576 non-null    float64\n",
      " 16  UnderCenterCarryRate      585 non-null    float64\n",
      " 17  UnderCenterYardsPerCarry  603 non-null    float64\n",
      " 18  AverageDefendersInTheBox  585 non-null    float64\n",
      " 19  StackedFrontCarryRate     585 non-null    float64\n",
      " 20  BaseFrontCarryRate        585 non-null    float64\n",
      " 21  LightFrontCarryRate       585 non-null    float64\n",
      " 22  Year                      649 non-null    object \n",
      "dtypes: float64(12), int64(9), object(2)\n",
      "memory usage: 116.7+ KB\n"
     ]
    }
   ],
   "source": [
    "#Quick Check on RBs\n",
    "rb_df.info()"
   ]
  },
  {
   "cell_type": "code",
   "execution_count": 13,
   "metadata": {},
   "outputs": [],
   "source": [
    "#Add position column to each DF\n",
    "rb_df[\"Position\"] = \"RB\"\n",
    "qb_df[\"Position\"] = \"QB\"\n",
    "wr_df[\"Position\"] = \"WR\"\n",
    "te_df[\"Position\"] = \"TE\""
   ]
  },
  {
   "cell_type": "code",
   "execution_count": 14,
   "metadata": {},
   "outputs": [],
   "source": [
    "#format columns for psql to lowercase\n",
    "qb_df.columns= qb_df.columns.str.lower()\n",
    "rb_df.columns= rb_df.columns.str.lower()\n",
    "wr_df.columns= wr_df.columns.str.lower()\n",
    "te_df.columns= te_df.columns.str.lower()"
   ]
  },
  {
   "cell_type": "markdown",
   "metadata": {},
   "source": [
    "Start SQL Imports"
   ]
  },
  {
   "cell_type": "code",
   "execution_count": 15,
   "metadata": {},
   "outputs": [],
   "source": [
    "#Start SQL connections\n",
    "ENDPOINT=\"fantasyfootball.ckswyhqaro8q.us-east-2.rds.amazonaws.com\"\n",
    "PORT=\"5432\"\n",
    "USR=\"DreamTeam\"\n",
    "PSSWD=password\n",
    "DBNAME=\"postgres\"\n",
    "\n",
    "#conn_string = \"host='localhost' dbname='my_database' user='postgres' password='secret'\n",
    "con= \"postgresql://{}:{}@{}:{}/{}\".format(USR, PSSWD, ENDPOINT, PORT, DBNAME)"
   ]
  },
  {
   "cell_type": "code",
   "execution_count": null,
   "metadata": {},
   "outputs": [],
   "source": [
    "#Write dfs to AWS\n",
    "qb_df.to_sql(\"qb_stats\", con, if_exists=\"replace\")\n",
    "wr_df.to_sql(\"wr_stats\", con, if_exists=\"replace\")\n",
    "rb_df.to_sql(\"rb_stats\", con, if_exists=\"replace\")\n",
    "te_df.to_sql(\"te_stats\", con, if_exists=\"replace\")"
   ]
  },
  {
   "cell_type": "code",
   "execution_count": null,
   "metadata": {},
   "outputs": [],
   "source": []
  }
 ],
 "metadata": {
  "kernelspec": {
   "display_name": "Python 3.7.11 ('PythonData')",
   "language": "python",
   "name": "python3"
  },
  "language_info": {
   "codemirror_mode": {
    "name": "ipython",
    "version": 3
   },
   "file_extension": ".py",
   "mimetype": "text/x-python",
   "name": "python",
   "nbconvert_exporter": "python",
   "pygments_lexer": "ipython3",
   "version": "3.7.11"
  },
  "orig_nbformat": 4,
  "vscode": {
   "interpreter": {
    "hash": "62ad272cb85a3a5abcd8841e9872b0b5e6b3f9a902fd78a31052f93593234f89"
   }
  }
 },
 "nbformat": 4,
 "nbformat_minor": 2
}
