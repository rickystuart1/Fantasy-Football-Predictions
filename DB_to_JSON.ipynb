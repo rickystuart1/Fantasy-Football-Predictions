{
 "cells": [
  {
   "cell_type": "code",
   "execution_count": 1,
   "id": "89005283",
   "metadata": {},
   "outputs": [],
   "source": [
    "# Import Dependencies\n",
    "import json\n",
    "import pandas as pd\n",
    "import psycopg2\n",
    "import sqlalchemy\n",
    "from sqlalchemy import create_engine\n",
    "from getpass import getpass"
   ]
  },
  {
   "cell_type": "code",
   "execution_count": 2,
   "id": "47652dc7",
   "metadata": {},
   "outputs": [],
   "source": [
    "#Create connection to AWS database\n",
    "ENDPOINT=\"fantasyfootball.ckswyhqaro8q.us-east-2.rds.amazonaws.com\"\n",
    "PORT=\"5432\"\n",
    "USR=\"DreamTeam\"\n",
    "PSSWD= getpass('Enter Database Password: ')\n",
    "DBNAME=\"postgres\"\n",
    "#conn_string = \"host='localhost' dbname='my_database' user='postgres' password='secret'\n",
    "c = create_engine(\"postgresql://{}:{}@{}:{}/{}\".format(USR, PSSWD, ENDPOINT, PORT, DBNAME))\n",
    "\n",
    "#c = conn.cursor()"
   ]
  },
  {
   "cell_type": "code",
   "execution_count": 3,
   "id": "14ccaed1",
   "metadata": {},
   "outputs": [
    {
     "data": {
      "text/html": [
       "<div>\n",
       "<style scoped>\n",
       "    .dataframe tbody tr th:only-of-type {\n",
       "        vertical-align: middle;\n",
       "    }\n",
       "\n",
       "    .dataframe tbody tr th {\n",
       "        vertical-align: top;\n",
       "    }\n",
       "\n",
       "    .dataframe thead th {\n",
       "        text-align: right;\n",
       "    }\n",
       "</style>\n",
       "<table border=\"1\" class=\"dataframe\">\n",
       "  <thead>\n",
       "    <tr style=\"text-align: right;\">\n",
       "      <th></th>\n",
       "      <th>fantasy_rank</th>\n",
       "      <th>playerid</th>\n",
       "      <th>name</th>\n",
       "      <th>position</th>\n",
       "      <th>ft_points21</th>\n",
       "      <th>ft_points22</th>\n",
       "      <th>rank22</th>\n",
       "    </tr>\n",
       "  </thead>\n",
       "  <tbody>\n",
       "    <tr>\n",
       "      <th>0</th>\n",
       "      <td>1</td>\n",
       "      <td>21682</td>\n",
       "      <td>Jonathan Taylor</td>\n",
       "      <td>RB</td>\n",
       "      <td>333.1</td>\n",
       "      <td>283.519532</td>\n",
       "      <td>1</td>\n",
       "    </tr>\n",
       "    <tr>\n",
       "      <th>1</th>\n",
       "      <td>1</td>\n",
       "      <td>18882</td>\n",
       "      <td>Cooper Kupp</td>\n",
       "      <td>WR</td>\n",
       "      <td>294.5</td>\n",
       "      <td>191.497055</td>\n",
       "      <td>2</td>\n",
       "    </tr>\n",
       "    <tr>\n",
       "      <th>2</th>\n",
       "      <td>7</td>\n",
       "      <td>19798</td>\n",
       "      <td>Nick Chubb</td>\n",
       "      <td>RB</td>\n",
       "      <td>195.3</td>\n",
       "      <td>173.205043</td>\n",
       "      <td>3</td>\n",
       "    </tr>\n",
       "    <tr>\n",
       "      <th>3</th>\n",
       "      <td>8</td>\n",
       "      <td>20790</td>\n",
       "      <td>Damien Harris</td>\n",
       "      <td>RB</td>\n",
       "      <td>192.1</td>\n",
       "      <td>168.636440</td>\n",
       "      <td>4</td>\n",
       "    </tr>\n",
       "    <tr>\n",
       "      <th>4</th>\n",
       "      <td>3</td>\n",
       "      <td>22564</td>\n",
       "      <td>Ja'Marr Chase</td>\n",
       "      <td>WR</td>\n",
       "      <td>223.6</td>\n",
       "      <td>164.282881</td>\n",
       "      <td>5</td>\n",
       "    </tr>\n",
       "  </tbody>\n",
       "</table>\n",
       "</div>"
      ],
      "text/plain": [
       "   fantasy_rank  playerid             name position  ft_points21  ft_points22  \\\n",
       "0             1     21682  Jonathan Taylor       RB        333.1   283.519532   \n",
       "1             1     18882      Cooper Kupp       WR        294.5   191.497055   \n",
       "2             7     19798       Nick Chubb       RB        195.3   173.205043   \n",
       "3             8     20790    Damien Harris       RB        192.1   168.636440   \n",
       "4             3     22564    Ja'Marr Chase       WR        223.6   164.282881   \n",
       "\n",
       "   rank22  \n",
       "0       1  \n",
       "1       2  \n",
       "2       3  \n",
       "3       4  \n",
       "4       5  "
      ]
     },
     "execution_count": 3,
     "metadata": {},
     "output_type": "execute_result"
    }
   ],
   "source": [
    "# delcaring the table and bringing it in as a pandas DataFrame\n",
    "table = input('What is the table that you would like to import? ')\n",
    "query = f'SELECT * FROM {table}'\n",
    "\n",
    "df = pd.read_sql(query, c)\n",
    "df.head()"
   ]
  },
  {
   "cell_type": "code",
   "execution_count": 4,
   "id": "f5e2c5b5",
   "metadata": {},
   "outputs": [],
   "source": [
    "# saving table as a data.js file for the javascript file to utilize\n",
    "file_title = input('What would you like to name the file? ')\n",
    "file_location = f'dashboard/static/js/{file_title}.js'\n",
    "df.to_json(file_location, orient='records')"
   ]
  },
  {
   "cell_type": "code",
   "execution_count": 5,
   "id": "687e7da0",
   "metadata": {},
   "outputs": [],
   "source": [
    "# import os in in order to write to file\n",
    "import os\n",
    "# creating a function in order to write and declare javascript variable at beginning of file\n",
    "def prepend_line(file_name, line):\n",
    "    \n",
    "    # define name of temporary dummy file\n",
    "    dummy_file = file_name + '.bak'\n",
    "    # open original file in read mode and dummy file in write mode\n",
    "    with open(file_name, 'r') as read_obj, open(dummy_file, 'w') as write_obj:\n",
    "        # Write given line to the dummy file\n",
    "        write_obj.write(line)\n",
    "        # Read lines from original file one by one and append them to the dummy file\n",
    "        for line in read_obj:\n",
    "            write_obj.write(line)\n",
    "    # remove original file\n",
    "    os.remove(file_name)\n",
    "    # Rename dummy file as the original file\n",
    "    os.rename(dummy_file, file_name)"
   ]
  },
  {
   "cell_type": "code",
   "execution_count": 6,
   "id": "944ef159",
   "metadata": {},
   "outputs": [],
   "source": [
    "# feeding the string to the function and executing the function\n",
    "line = 'var data = '\n",
    "prepend_line(file_location, line)"
   ]
  },
  {
   "cell_type": "code",
   "execution_count": null,
   "id": "991865e3",
   "metadata": {},
   "outputs": [],
   "source": []
  }
 ],
 "metadata": {
  "kernelspec": {
   "display_name": "Python 3.9.12 ('PythonData')",
   "language": "python",
   "name": "python3"
  },
  "language_info": {
   "codemirror_mode": {
    "name": "ipython",
    "version": 3
   },
   "file_extension": ".py",
   "mimetype": "text/x-python",
   "name": "python",
   "nbconvert_exporter": "python",
   "pygments_lexer": "ipython3",
   "version": "3.9.12"
  },
  "vscode": {
   "interpreter": {
    "hash": "628437239de5ae33e6a06f3a00de13f8b0052ddaf045aae57ef46788e8698440"
   }
  }
 },
 "nbformat": 4,
 "nbformat_minor": 5
}
