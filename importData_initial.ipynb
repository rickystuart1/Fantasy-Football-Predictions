{
 "cells": [
  {
   "cell_type": "code",
   "execution_count": 1,
   "metadata": {},
   "outputs": [],
   "source": [
    "#Import Dependencies\n",
    "import pandas as pd\n",
    "import sqlite3\n",
    "from sqlite3 import Error\n"
   ]
  },
  {
   "cell_type": "code",
   "execution_count": 2,
   "metadata": {},
   "outputs": [],
   "source": [
    "# Read in CSVs\n",
    "position = ['QB', 'RB', 'TE', 'WR']\n",
    "year = [2018, 2019, 2020, 2021]\n",
    "df_names =[]\n",
    "df_list = []\n",
    "\n",
    "for x in position: \n",
    "    pos= x.lower()\n",
    "    for y in year:\n",
    "        filename1 = f\"advanced-{pos}-metrics{y}.csv\"\n",
    "        filename2 = f\"fantasy-{pos}-leaders{y}.csv\"\n",
    "        filepath = f\"Resources/{x}_stats/\"\n",
    "        df = f\"{pos}_{y}_df\"\n",
    "        df_names.append(f\"{df}_extra\")\n",
    "        read_df = pd.read_csv(f\"{filepath}{filename1}\")\n",
    "        df_list.append(read_df)\n",
    "        df_names.append(df)\n",
    "        read_df = pd.read_csv(f\"{filepath}{filename2}\")\n",
    "        df_list.append(read_df)\n",
    "\n"
   ]
  },
  {
   "cell_type": "code",
   "execution_count": 3,
   "metadata": {},
   "outputs": [
    {
     "data": {
      "text/plain": [
       "['qb_2018_df_extra',\n",
       " 'qb_2018_df',\n",
       " 'qb_2019_df_extra',\n",
       " 'qb_2019_df',\n",
       " 'qb_2020_df_extra',\n",
       " 'qb_2020_df',\n",
       " 'qb_2021_df_extra',\n",
       " 'qb_2021_df',\n",
       " 'rb_2018_df_extra',\n",
       " 'rb_2018_df',\n",
       " 'rb_2019_df_extra',\n",
       " 'rb_2019_df',\n",
       " 'rb_2020_df_extra',\n",
       " 'rb_2020_df',\n",
       " 'rb_2021_df_extra',\n",
       " 'rb_2021_df',\n",
       " 'te_2018_df_extra',\n",
       " 'te_2018_df',\n",
       " 'te_2019_df_extra',\n",
       " 'te_2019_df',\n",
       " 'te_2020_df_extra',\n",
       " 'te_2020_df',\n",
       " 'te_2021_df_extra',\n",
       " 'te_2021_df',\n",
       " 'wr_2018_df_extra',\n",
       " 'wr_2018_df',\n",
       " 'wr_2019_df_extra',\n",
       " 'wr_2019_df',\n",
       " 'wr_2020_df_extra',\n",
       " 'wr_2020_df',\n",
       " 'wr_2021_df_extra',\n",
       " 'wr_2021_df']"
      ]
     },
     "execution_count": 3,
     "metadata": {},
     "output_type": "execute_result"
    }
   ],
   "source": [
    "#Check df names\n",
    "df_names"
   ]
  },
  {
   "cell_type": "code",
   "execution_count": 4,
   "metadata": {},
   "outputs": [
    {
     "data": {
      "text/plain": [
       "32"
      ]
     },
     "execution_count": 4,
     "metadata": {},
     "output_type": "execute_result"
    }
   ],
   "source": [
    "#check data list \n",
    "len(df_list)"
   ]
  },
  {
   "cell_type": "code",
   "execution_count": 5,
   "metadata": {},
   "outputs": [],
   "source": [
    "#Add year to each dataframe\n",
    "for i in range(0,len(df_list)):\n",
    "    yr = df_names[i][3:7]\n",
    "    df_list[i][\"Year\"] = yr"
   ]
  },
  {
   "cell_type": "code",
   "execution_count": 35,
   "metadata": {},
   "outputs": [
    {
     "data": {
      "text/html": [
       "<div>\n",
       "<style scoped>\n",
       "    .dataframe tbody tr th:only-of-type {\n",
       "        vertical-align: middle;\n",
       "    }\n",
       "\n",
       "    .dataframe tbody tr th {\n",
       "        vertical-align: top;\n",
       "    }\n",
       "\n",
       "    .dataframe thead th {\n",
       "        text-align: right;\n",
       "    }\n",
       "</style>\n",
       "<table border=\"1\" class=\"dataframe\">\n",
       "  <thead>\n",
       "    <tr style=\"text-align: right;\">\n",
       "      <th></th>\n",
       "      <th>Rank</th>\n",
       "      <th>PlayerID</th>\n",
       "      <th>Name</th>\n",
       "      <th>Team</th>\n",
       "      <th>Position</th>\n",
       "      <th>Played</th>\n",
       "      <th>PassingCompletions</th>\n",
       "      <th>PassingAttempts</th>\n",
       "      <th>PassingCompletionPercentage</th>\n",
       "      <th>PassingYards</th>\n",
       "      <th>...</th>\n",
       "      <th>PassingTouchdowns</th>\n",
       "      <th>PassingInterceptions</th>\n",
       "      <th>PassingRating</th>\n",
       "      <th>RushingAttempts</th>\n",
       "      <th>RushingYards</th>\n",
       "      <th>RushingYardsPerAttempt</th>\n",
       "      <th>RushingTouchdowns</th>\n",
       "      <th>FantasyPointsPerGame</th>\n",
       "      <th>FantasyPoints</th>\n",
       "      <th>Year</th>\n",
       "    </tr>\n",
       "  </thead>\n",
       "  <tbody>\n",
       "    <tr>\n",
       "      <th>0</th>\n",
       "      <td>1</td>\n",
       "      <td>18890</td>\n",
       "      <td>Patrick Mahomes</td>\n",
       "      <td>KC</td>\n",
       "      <td>QB</td>\n",
       "      <td>16</td>\n",
       "      <td>383</td>\n",
       "      <td>580</td>\n",
       "      <td>66.0</td>\n",
       "      <td>5097</td>\n",
       "      <td>...</td>\n",
       "      <td>50</td>\n",
       "      <td>12</td>\n",
       "      <td>113.84</td>\n",
       "      <td>60</td>\n",
       "      <td>272</td>\n",
       "      <td>4.5</td>\n",
       "      <td>2</td>\n",
       "      <td>26.1</td>\n",
       "      <td>417.08</td>\n",
       "      <td>2018</td>\n",
       "    </tr>\n",
       "    <tr>\n",
       "      <th>1</th>\n",
       "      <td>2</td>\n",
       "      <td>732</td>\n",
       "      <td>Matt Ryan</td>\n",
       "      <td>ATL</td>\n",
       "      <td>QB</td>\n",
       "      <td>16</td>\n",
       "      <td>422</td>\n",
       "      <td>608</td>\n",
       "      <td>69.4</td>\n",
       "      <td>4924</td>\n",
       "      <td>...</td>\n",
       "      <td>35</td>\n",
       "      <td>7</td>\n",
       "      <td>108.06</td>\n",
       "      <td>33</td>\n",
       "      <td>125</td>\n",
       "      <td>3.8</td>\n",
       "      <td>3</td>\n",
       "      <td>22.1</td>\n",
       "      <td>353.96</td>\n",
       "      <td>2018</td>\n",
       "    </tr>\n",
       "    <tr>\n",
       "      <th>2</th>\n",
       "      <td>3</td>\n",
       "      <td>3807</td>\n",
       "      <td>Ben Roethlisberger</td>\n",
       "      <td>PIT</td>\n",
       "      <td>QB</td>\n",
       "      <td>16</td>\n",
       "      <td>452</td>\n",
       "      <td>675</td>\n",
       "      <td>67.0</td>\n",
       "      <td>5129</td>\n",
       "      <td>...</td>\n",
       "      <td>34</td>\n",
       "      <td>16</td>\n",
       "      <td>96.46</td>\n",
       "      <td>31</td>\n",
       "      <td>98</td>\n",
       "      <td>3.2</td>\n",
       "      <td>3</td>\n",
       "      <td>21.3</td>\n",
       "      <td>340.86</td>\n",
       "      <td>2018</td>\n",
       "    </tr>\n",
       "    <tr>\n",
       "      <th>3</th>\n",
       "      <td>4</td>\n",
       "      <td>18857</td>\n",
       "      <td>Deshaun Watson</td>\n",
       "      <td>HOU</td>\n",
       "      <td>QB</td>\n",
       "      <td>16</td>\n",
       "      <td>345</td>\n",
       "      <td>505</td>\n",
       "      <td>68.3</td>\n",
       "      <td>4165</td>\n",
       "      <td>...</td>\n",
       "      <td>26</td>\n",
       "      <td>9</td>\n",
       "      <td>103.11</td>\n",
       "      <td>99</td>\n",
       "      <td>551</td>\n",
       "      <td>5.6</td>\n",
       "      <td>5</td>\n",
       "      <td>20.7</td>\n",
       "      <td>331.70</td>\n",
       "      <td>2018</td>\n",
       "    </tr>\n",
       "    <tr>\n",
       "      <th>4</th>\n",
       "      <td>5</td>\n",
       "      <td>14008</td>\n",
       "      <td>Andrew Luck</td>\n",
       "      <td>IND</td>\n",
       "      <td>QB</td>\n",
       "      <td>16</td>\n",
       "      <td>430</td>\n",
       "      <td>639</td>\n",
       "      <td>67.3</td>\n",
       "      <td>4593</td>\n",
       "      <td>...</td>\n",
       "      <td>39</td>\n",
       "      <td>15</td>\n",
       "      <td>98.67</td>\n",
       "      <td>46</td>\n",
       "      <td>148</td>\n",
       "      <td>3.2</td>\n",
       "      <td>0</td>\n",
       "      <td>20.4</td>\n",
       "      <td>326.92</td>\n",
       "      <td>2018</td>\n",
       "    </tr>\n",
       "  </tbody>\n",
       "</table>\n",
       "<p>5 rows × 21 columns</p>\n",
       "</div>"
      ],
      "text/plain": [
       "   Rank  PlayerID                Name Team Position  Played  \\\n",
       "0     1     18890     Patrick Mahomes   KC       QB      16   \n",
       "1     2       732           Matt Ryan  ATL       QB      16   \n",
       "2     3      3807  Ben Roethlisberger  PIT       QB      16   \n",
       "3     4     18857      Deshaun Watson  HOU       QB      16   \n",
       "4     5     14008         Andrew Luck  IND       QB      16   \n",
       "\n",
       "   PassingCompletions  PassingAttempts  PassingCompletionPercentage  \\\n",
       "0                 383              580                         66.0   \n",
       "1                 422              608                         69.4   \n",
       "2                 452              675                         67.0   \n",
       "3                 345              505                         68.3   \n",
       "4                 430              639                         67.3   \n",
       "\n",
       "   PassingYards  ...  PassingTouchdowns  PassingInterceptions  PassingRating  \\\n",
       "0          5097  ...                 50                    12         113.84   \n",
       "1          4924  ...                 35                     7         108.06   \n",
       "2          5129  ...                 34                    16          96.46   \n",
       "3          4165  ...                 26                     9         103.11   \n",
       "4          4593  ...                 39                    15          98.67   \n",
       "\n",
       "   RushingAttempts  RushingYards  RushingYardsPerAttempt  RushingTouchdowns  \\\n",
       "0               60           272                     4.5                  2   \n",
       "1               33           125                     3.8                  3   \n",
       "2               31            98                     3.2                  3   \n",
       "3               99           551                     5.6                  5   \n",
       "4               46           148                     3.2                  0   \n",
       "\n",
       "   FantasyPointsPerGame  FantasyPoints  Year  \n",
       "0                  26.1         417.08  2018  \n",
       "1                  22.1         353.96  2018  \n",
       "2                  21.3         340.86  2018  \n",
       "3                  20.7         331.70  2018  \n",
       "4                  20.4         326.92  2018  \n",
       "\n",
       "[5 rows x 21 columns]"
      ]
     },
     "execution_count": 35,
     "metadata": {},
     "output_type": "execute_result"
    }
   ],
   "source": [
    "#Check year was added\n",
    "df_list[1].head()"
   ]
  },
  {
   "cell_type": "code",
   "execution_count": 7,
   "metadata": {},
   "outputs": [],
   "source": [
    "#Create empty DF to concatenate position\n",
    "qb_df = pd.DataFrame()\n",
    "qb_extra_df = pd.DataFrame()\n",
    "rb_df = pd.DataFrame()\n",
    "rb_extra_df = pd.DataFrame()\n",
    "te_df = pd.DataFrame()\n",
    "te_extra_df = pd.DataFrame()\n",
    "wr_df = pd.DataFrame()\n",
    "wr_extra_df = pd.DataFrame()"
   ]
  },
  {
   "cell_type": "code",
   "execution_count": 8,
   "metadata": {
    "scrolled": true
   },
   "outputs": [
    {
     "name": "stdout",
     "output_type": "stream",
     "text": [
      "index 0 was added to qb extra\n",
      "index 1 was added to qb\n",
      "index 2 was added to qb extra\n",
      "index 3 was added to qb\n",
      "index 4 was added to qb extra\n",
      "index 5 was added to qb\n",
      "index 6 was added to qb extra\n",
      "index 7 was added to qb\n",
      "index 8 was added to rb extra\n",
      "index 9 was added to rb\n",
      "index 10 was added to rb extra\n",
      "index 11 was added to rb\n",
      "index 12 was added to rb extra\n",
      "index 13 was added to rb\n",
      "index 14 was added to rb extra\n",
      "index 15 was added to rb\n",
      "index 16 was added to te extra\n",
      "index 17 was added to te\n",
      "index 18 was added to te extra\n",
      "index 19 was added to te\n",
      "index 20 was added to te extra\n",
      "index 21 was added to te\n",
      "index 22 was added to te extra\n",
      "index 23 was added to te\n",
      "index 24 was added to wr extra\n",
      "index 25 was added to wr\n",
      "index 26 was added to wr extra\n",
      "index 27 was added to wr\n",
      "index 28 was added to wr extra\n",
      "index 29 was added to wr\n",
      "index 30 was added to wr extra\n",
      "index 31 was added to wr\n"
     ]
    }
   ],
   "source": [
    "#Use coniditionals to concat dataframs\n",
    "for i in range(0,len(df_list)):\n",
    "    #Check for QB name\n",
    "    if df_names[i][:2] == 'qb' and df_names[i][11:] != \"extra\": \n",
    "        qb_df = pd.concat([df_list[i], qb_df], ignore_index=True)\n",
    "        print(f\"index {i} was added to qb\")\n",
    "    elif df_names[i][:2] == 'qb' and df_names[i][11:] == \"extra\": \n",
    "        qb_extra_df = pd.concat([df_list[i], qb_extra_df], ignore_index=True)\n",
    "        print(f\"index {i} was added to qb extra\")\n",
    "    #Check for RB name / Add to DF\n",
    "    elif df_names[i][:2] == 'rb'and df_names[i][11:] != \"extra\":\n",
    "        rb_df = pd.concat([df_list[i], rb_df], ignore_index=True)\n",
    "        print(f\"index {i} was added to rb\")\n",
    "    elif df_names[i][:2] == 'rb' and df_names[i][11:] == \"extra\": \n",
    "        rb_extra_df = pd.concat([df_list[i], rb_extra_df], ignore_index=True)\n",
    "        print(f\"index {i} was added to rb extra\")\n",
    "    #Check for TE name / Add to DF\n",
    "    elif df_names[i][:2] == 'te' and df_names[i][11:] != \"extra\": \n",
    "        te_df = pd.concat([df_list[i], te_df], ignore_index=True)\n",
    "        print(f\"index {i} was added to te\")\n",
    "    elif df_names[i][:2] == 'te' and df_names[i][11:] == \"extra\": \n",
    "        te_extra_df = pd.concat([df_list[i], te_extra_df], ignore_index=True)\n",
    "        print(f\"index {i} was added to te extra\")\n",
    "    #Check for WR name / Add to DF\n",
    "    elif df_names[i][:2] == 'wr' and df_names[i][11:] != \"extra\": \n",
    "        wr_df = pd.concat([df_list[i], wr_df], ignore_index=True)\n",
    "        print(f\"index {i} was added to wr\")\n",
    "    elif df_names[i][:2] == 'wr' and df_names[i][11:] == \"extra\": \n",
    "        wr_extra_df = pd.concat([df_list[i], wr_extra_df], ignore_index=True)\n",
    "        print(f\"index {i} was added to wr extra\")\n",
    "    #Check for mistakes\n",
    "    else:\n",
    "        print(\"Uh Oh!\")\n"
   ]
  },
  {
   "cell_type": "code",
   "execution_count": 9,
   "metadata": {},
   "outputs": [
    {
     "name": "stdout",
     "output_type": "stream",
     "text": [
      "<class 'pandas.core.frame.DataFrame'>\n",
      "RangeIndex: 314 entries, 0 to 313\n",
      "Data columns (total 21 columns):\n",
      " #   Column                       Non-Null Count  Dtype  \n",
      "---  ------                       --------------  -----  \n",
      " 0   Rank                         314 non-null    int64  \n",
      " 1   PlayerID                     314 non-null    int64  \n",
      " 2   Name                         314 non-null    object \n",
      " 3   Team                         314 non-null    object \n",
      " 4   Position                     314 non-null    object \n",
      " 5   Played                       314 non-null    int64  \n",
      " 6   PassingCompletions           314 non-null    int64  \n",
      " 7   PassingAttempts              314 non-null    int64  \n",
      " 8   PassingCompletionPercentage  314 non-null    float64\n",
      " 9   PassingYards                 314 non-null    int64  \n",
      " 10  PassingYardsPerAttempt       314 non-null    float64\n",
      " 11  PassingTouchdowns            314 non-null    int64  \n",
      " 12  PassingInterceptions         314 non-null    int64  \n",
      " 13  PassingRating                314 non-null    float64\n",
      " 14  RushingAttempts              314 non-null    int64  \n",
      " 15  RushingYards                 314 non-null    int64  \n",
      " 16  RushingYardsPerAttempt       314 non-null    float64\n",
      " 17  RushingTouchdowns            314 non-null    int64  \n",
      " 18  FantasyPointsPerGame         314 non-null    float64\n",
      " 19  FantasyPoints                314 non-null    float64\n",
      " 20  Year                         314 non-null    object \n",
      "dtypes: float64(6), int64(11), object(4)\n",
      "memory usage: 51.6+ KB\n"
     ]
    }
   ],
   "source": [
    "#Quick Check on QBs\n",
    "qb_df.info()"
   ]
  },
  {
   "cell_type": "code",
   "execution_count": 10,
   "metadata": {},
   "outputs": [
    {
     "name": "stdout",
     "output_type": "stream",
     "text": [
      "<class 'pandas.core.frame.DataFrame'>\n",
      "RangeIndex: 566 entries, 0 to 565\n",
      "Data columns (total 23 columns):\n",
      " #   Column                      Non-Null Count  Dtype  \n",
      "---  ------                      --------------  -----  \n",
      " 0   Rank                        566 non-null    int64  \n",
      " 1   PlayerID                    566 non-null    int64  \n",
      " 2   Name                        566 non-null    object \n",
      " 3   Team                        566 non-null    object \n",
      " 4   Position                    566 non-null    object \n",
      " 5   Played                      566 non-null    int64  \n",
      " 6   ReceivingTargets            566 non-null    int64  \n",
      " 7   Receptions                  566 non-null    int64  \n",
      " 8   ReceptionPercentage         566 non-null    float64\n",
      " 9   ReceivingYards              566 non-null    int64  \n",
      " 10  ReceivingTouchdowns         566 non-null    int64  \n",
      " 11  ReceivingLong               566 non-null    int64  \n",
      " 12  ReceivingYardsPerTarget     566 non-null    float64\n",
      " 13  ReceivingYardsPerReception  566 non-null    float64\n",
      " 14  RushingAttempts             566 non-null    int64  \n",
      " 15  RushingYards                566 non-null    int64  \n",
      " 16  RushingYardsPerAttempt      566 non-null    float64\n",
      " 17  RushingTouchdowns           566 non-null    int64  \n",
      " 18  Fumbles                     566 non-null    int64  \n",
      " 19  FumblesLost                 566 non-null    int64  \n",
      " 20  FantasyPointsPerGame        566 non-null    float64\n",
      " 21  FantasyPoints               566 non-null    float64\n",
      " 22  Year                        566 non-null    object \n",
      "dtypes: float64(6), int64(13), object(4)\n",
      "memory usage: 101.8+ KB\n"
     ]
    }
   ],
   "source": [
    "#Quick Check on TEs\n",
    "te_df.info()"
   ]
  },
  {
   "cell_type": "code",
   "execution_count": 11,
   "metadata": {},
   "outputs": [
    {
     "name": "stdout",
     "output_type": "stream",
     "text": [
      "<class 'pandas.core.frame.DataFrame'>\n",
      "RangeIndex: 993 entries, 0 to 992\n",
      "Data columns (total 23 columns):\n",
      " #   Column                      Non-Null Count  Dtype  \n",
      "---  ------                      --------------  -----  \n",
      " 0   Rank                        993 non-null    int64  \n",
      " 1   PlayerID                    993 non-null    int64  \n",
      " 2   Name                        993 non-null    object \n",
      " 3   Team                        993 non-null    object \n",
      " 4   Position                    993 non-null    object \n",
      " 5   Played                      993 non-null    int64  \n",
      " 6   ReceivingTargets            993 non-null    int64  \n",
      " 7   Receptions                  993 non-null    int64  \n",
      " 8   ReceptionPercentage         993 non-null    float64\n",
      " 9   ReceivingYards              993 non-null    int64  \n",
      " 10  ReceivingTouchdowns         993 non-null    int64  \n",
      " 11  ReceivingLong               993 non-null    int64  \n",
      " 12  ReceivingYardsPerTarget     993 non-null    float64\n",
      " 13  ReceivingYardsPerReception  993 non-null    float64\n",
      " 14  RushingAttempts             993 non-null    int64  \n",
      " 15  RushingYards                993 non-null    int64  \n",
      " 16  RushingYardsPerAttempt      993 non-null    float64\n",
      " 17  RushingTouchdowns           993 non-null    int64  \n",
      " 18  Fumbles                     993 non-null    int64  \n",
      " 19  FumblesLost                 993 non-null    int64  \n",
      " 20  FantasyPointsPerGame        993 non-null    float64\n",
      " 21  FantasyPoints               993 non-null    float64\n",
      " 22  Year                        993 non-null    object \n",
      "dtypes: float64(6), int64(13), object(4)\n",
      "memory usage: 178.6+ KB\n"
     ]
    }
   ],
   "source": [
    "#Quick Check on WR\n",
    "wr_df.info()"
   ]
  },
  {
   "cell_type": "code",
   "execution_count": 12,
   "metadata": {},
   "outputs": [
    {
     "name": "stdout",
     "output_type": "stream",
     "text": [
      "<class 'pandas.core.frame.DataFrame'>\n",
      "RangeIndex: 704 entries, 0 to 703\n",
      "Data columns (total 19 columns):\n",
      " #   Column                  Non-Null Count  Dtype  \n",
      "---  ------                  --------------  -----  \n",
      " 0   Rank                    704 non-null    int64  \n",
      " 1   PlayerID                704 non-null    int64  \n",
      " 2   Name                    704 non-null    object \n",
      " 3   Team                    704 non-null    object \n",
      " 4   Position                704 non-null    object \n",
      " 5   Played                  704 non-null    int64  \n",
      " 6   RushingAttempts         704 non-null    int64  \n",
      " 7   RushingYards            704 non-null    int64  \n",
      " 8   RushingYardsPerAttempt  704 non-null    float64\n",
      " 9   RushingTouchdowns       704 non-null    int64  \n",
      " 10  ReceivingTargets        704 non-null    int64  \n",
      " 11  Receptions              704 non-null    int64  \n",
      " 12  ReceivingYards          704 non-null    int64  \n",
      " 13  ReceivingTouchdowns     704 non-null    int64  \n",
      " 14  Fumbles                 704 non-null    int64  \n",
      " 15  FumblesLost             704 non-null    int64  \n",
      " 16  FantasyPointsPerGame    704 non-null    float64\n",
      " 17  FantasyPoints           704 non-null    float64\n",
      " 18  Year                    704 non-null    object \n",
      "dtypes: float64(3), int64(12), object(4)\n",
      "memory usage: 104.6+ KB\n"
     ]
    }
   ],
   "source": [
    "#Quick Check on RBs\n",
    "rb_df.info()"
   ]
  },
  {
   "cell_type": "code",
   "execution_count": 13,
   "metadata": {},
   "outputs": [],
   "source": [
    "# #Add position column to each DF\n",
    "# rb_df[\"Position\"] = \"RB\"\n",
    "# qb_df[\"Position\"] = \"QB\"\n",
    "# wr_df[\"Position\"] = \"WR\"\n",
    "# te_df[\"Position\"] = \"TE\""
   ]
  },
  {
   "cell_type": "code",
   "execution_count": 14,
   "metadata": {},
   "outputs": [],
   "source": [
    "# #Read in Teams DF\n",
    "# teams_df = pd.read_csv(\"Resources/Teams.csv\", index_col=0)\n",
    "# teams_df"
   ]
  },
  {
   "cell_type": "code",
   "execution_count": 15,
   "metadata": {},
   "outputs": [],
   "source": [
    "#Remove unnamed column\n",
    "# teams_df = teams_df.loc[:, ~teams_df.columns.str.contains('^Unnamed')]"
   ]
  },
  {
   "cell_type": "code",
   "execution_count": 16,
   "metadata": {},
   "outputs": [],
   "source": [
    "#remove extra rows\n",
    "# teams_df.dropna(axis = 0, inplace=True)"
   ]
  },
  {
   "cell_type": "code",
   "execution_count": 17,
   "metadata": {},
   "outputs": [],
   "source": [
    "#Check clean up\n",
    "# teams_df"
   ]
  },
  {
   "cell_type": "code",
   "execution_count": 18,
   "metadata": {},
   "outputs": [],
   "source": [
    "#Read in full quick stats\n",
    "# fullQuickStats = pd.read_csv(\"Resources/FullPlayerQuickStats.csv\")\n",
    "# fullQuickStats.head()"
   ]
  },
  {
   "cell_type": "code",
   "execution_count": 19,
   "metadata": {},
   "outputs": [],
   "source": [
    "#Clean Up \n",
    "# fullQuickStats = fullQuickStats.loc[:, ~fullQuickStats.columns.str.contains('^Unnamed')]\n",
    "# fullQuickStats.dropna(axis = 0, inplace=True)"
   ]
  },
  {
   "cell_type": "code",
   "execution_count": 20,
   "metadata": {},
   "outputs": [],
   "source": [
    "# fullQuickStats.head()"
   ]
  },
  {
   "cell_type": "code",
   "execution_count": 21,
   "metadata": {},
   "outputs": [],
   "source": [
    "qb_df_copy = qb_df.copy()"
   ]
  },
  {
   "cell_type": "code",
   "execution_count": 22,
   "metadata": {},
   "outputs": [
    {
     "data": {
      "text/html": [
       "<div>\n",
       "<style scoped>\n",
       "    .dataframe tbody tr th:only-of-type {\n",
       "        vertical-align: middle;\n",
       "    }\n",
       "\n",
       "    .dataframe tbody tr th {\n",
       "        vertical-align: top;\n",
       "    }\n",
       "\n",
       "    .dataframe thead th {\n",
       "        text-align: right;\n",
       "    }\n",
       "</style>\n",
       "<table border=\"1\" class=\"dataframe\">\n",
       "  <thead>\n",
       "    <tr style=\"text-align: right;\">\n",
       "      <th></th>\n",
       "      <th>Rank</th>\n",
       "      <th>PlayerID</th>\n",
       "      <th>Name</th>\n",
       "      <th>Team</th>\n",
       "      <th>Position</th>\n",
       "      <th>Played</th>\n",
       "      <th>PassingCompletions</th>\n",
       "      <th>PassingAttempts</th>\n",
       "      <th>PassingCompletionPercentage</th>\n",
       "      <th>PassingYards</th>\n",
       "      <th>...</th>\n",
       "      <th>PassingTouchdowns</th>\n",
       "      <th>PassingInterceptions</th>\n",
       "      <th>PassingRating</th>\n",
       "      <th>RushingAttempts</th>\n",
       "      <th>RushingYards</th>\n",
       "      <th>RushingYardsPerAttempt</th>\n",
       "      <th>RushingTouchdowns</th>\n",
       "      <th>FantasyPointsPerGame</th>\n",
       "      <th>FantasyPoints</th>\n",
       "      <th>Year</th>\n",
       "    </tr>\n",
       "  </thead>\n",
       "  <tbody>\n",
       "    <tr>\n",
       "      <th>0</th>\n",
       "      <td>1</td>\n",
       "      <td>19801</td>\n",
       "      <td>Josh Allen</td>\n",
       "      <td>BUF</td>\n",
       "      <td>QB</td>\n",
       "      <td>17</td>\n",
       "      <td>409</td>\n",
       "      <td>646</td>\n",
       "      <td>63.3</td>\n",
       "      <td>4407</td>\n",
       "      <td>...</td>\n",
       "      <td>36</td>\n",
       "      <td>15</td>\n",
       "      <td>92.17</td>\n",
       "      <td>122</td>\n",
       "      <td>763</td>\n",
       "      <td>6.3</td>\n",
       "      <td>6</td>\n",
       "      <td>23.7</td>\n",
       "      <td>402.58</td>\n",
       "      <td>2021</td>\n",
       "    </tr>\n",
       "    <tr>\n",
       "      <th>1</th>\n",
       "      <td>2</td>\n",
       "      <td>21681</td>\n",
       "      <td>Justin Herbert</td>\n",
       "      <td>LAC</td>\n",
       "      <td>QB</td>\n",
       "      <td>17</td>\n",
       "      <td>443</td>\n",
       "      <td>672</td>\n",
       "      <td>65.9</td>\n",
       "      <td>5014</td>\n",
       "      <td>...</td>\n",
       "      <td>38</td>\n",
       "      <td>15</td>\n",
       "      <td>97.66</td>\n",
       "      <td>63</td>\n",
       "      <td>302</td>\n",
       "      <td>4.8</td>\n",
       "      <td>3</td>\n",
       "      <td>22.4</td>\n",
       "      <td>380.76</td>\n",
       "      <td>2021</td>\n",
       "    </tr>\n",
       "    <tr>\n",
       "      <th>2</th>\n",
       "      <td>3</td>\n",
       "      <td>4314</td>\n",
       "      <td>Tom Brady</td>\n",
       "      <td>TB</td>\n",
       "      <td>QB</td>\n",
       "      <td>17</td>\n",
       "      <td>485</td>\n",
       "      <td>719</td>\n",
       "      <td>67.5</td>\n",
       "      <td>5316</td>\n",
       "      <td>...</td>\n",
       "      <td>43</td>\n",
       "      <td>12</td>\n",
       "      <td>102.08</td>\n",
       "      <td>28</td>\n",
       "      <td>81</td>\n",
       "      <td>2.9</td>\n",
       "      <td>2</td>\n",
       "      <td>22.0</td>\n",
       "      <td>374.74</td>\n",
       "      <td>2021</td>\n",
       "    </tr>\n",
       "    <tr>\n",
       "      <th>3</th>\n",
       "      <td>4</td>\n",
       "      <td>18890</td>\n",
       "      <td>Patrick Mahomes</td>\n",
       "      <td>KC</td>\n",
       "      <td>QB</td>\n",
       "      <td>17</td>\n",
       "      <td>436</td>\n",
       "      <td>658</td>\n",
       "      <td>66.3</td>\n",
       "      <td>4839</td>\n",
       "      <td>...</td>\n",
       "      <td>37</td>\n",
       "      <td>13</td>\n",
       "      <td>98.45</td>\n",
       "      <td>66</td>\n",
       "      <td>381</td>\n",
       "      <td>5.8</td>\n",
       "      <td>2</td>\n",
       "      <td>21.3</td>\n",
       "      <td>361.66</td>\n",
       "      <td>2021</td>\n",
       "    </tr>\n",
       "    <tr>\n",
       "      <th>4</th>\n",
       "      <td>5</td>\n",
       "      <td>2593</td>\n",
       "      <td>Aaron Rodgers</td>\n",
       "      <td>GB</td>\n",
       "      <td>QB</td>\n",
       "      <td>16</td>\n",
       "      <td>366</td>\n",
       "      <td>531</td>\n",
       "      <td>68.9</td>\n",
       "      <td>4115</td>\n",
       "      <td>...</td>\n",
       "      <td>37</td>\n",
       "      <td>4</td>\n",
       "      <td>111.90</td>\n",
       "      <td>33</td>\n",
       "      <td>101</td>\n",
       "      <td>3.1</td>\n",
       "      <td>3</td>\n",
       "      <td>20.8</td>\n",
       "      <td>332.30</td>\n",
       "      <td>2021</td>\n",
       "    </tr>\n",
       "  </tbody>\n",
       "</table>\n",
       "<p>5 rows × 21 columns</p>\n",
       "</div>"
      ],
      "text/plain": [
       "   Rank  PlayerID             Name Team Position  Played  PassingCompletions  \\\n",
       "0     1     19801       Josh Allen  BUF       QB      17                 409   \n",
       "1     2     21681   Justin Herbert  LAC       QB      17                 443   \n",
       "2     3      4314        Tom Brady   TB       QB      17                 485   \n",
       "3     4     18890  Patrick Mahomes   KC       QB      17                 436   \n",
       "4     5      2593    Aaron Rodgers   GB       QB      16                 366   \n",
       "\n",
       "   PassingAttempts  PassingCompletionPercentage  PassingYards  ...  \\\n",
       "0              646                         63.3          4407  ...   \n",
       "1              672                         65.9          5014  ...   \n",
       "2              719                         67.5          5316  ...   \n",
       "3              658                         66.3          4839  ...   \n",
       "4              531                         68.9          4115  ...   \n",
       "\n",
       "   PassingTouchdowns  PassingInterceptions  PassingRating  RushingAttempts  \\\n",
       "0                 36                    15          92.17              122   \n",
       "1                 38                    15          97.66               63   \n",
       "2                 43                    12         102.08               28   \n",
       "3                 37                    13          98.45               66   \n",
       "4                 37                     4         111.90               33   \n",
       "\n",
       "   RushingYards  RushingYardsPerAttempt  RushingTouchdowns  \\\n",
       "0           763                     6.3                  6   \n",
       "1           302                     4.8                  3   \n",
       "2            81                     2.9                  2   \n",
       "3           381                     5.8                  2   \n",
       "4           101                     3.1                  3   \n",
       "\n",
       "   FantasyPointsPerGame  FantasyPoints  Year  \n",
       "0                  23.7         402.58  2021  \n",
       "1                  22.4         380.76  2021  \n",
       "2                  22.0         374.74  2021  \n",
       "3                  21.3         361.66  2021  \n",
       "4                  20.8         332.30  2021  \n",
       "\n",
       "[5 rows x 21 columns]"
      ]
     },
     "execution_count": 22,
     "metadata": {},
     "output_type": "execute_result"
    }
   ],
   "source": [
    "qb_df_copy.head()"
   ]
  },
  {
   "cell_type": "code",
   "execution_count": 23,
   "metadata": {},
   "outputs": [],
   "source": [
    "# fullQuickStats = fullQuickStats.rename(columns = {\"PlayerID\": \"PlayerPlayerID\"})"
   ]
  },
  {
   "cell_type": "markdown",
   "metadata": {},
   "source": [
    "Start SQL Imports"
   ]
  },
  {
   "cell_type": "code",
   "execution_count": 24,
   "metadata": {},
   "outputs": [],
   "source": [
    "#Start SQL connections\n",
    "con = sqlite3.connect(\"./sqlite_db.sqlite\")"
   ]
  },
  {
   "cell_type": "code",
   "execution_count": 25,
   "metadata": {},
   "outputs": [],
   "source": [
    "# fullQuickStats.to_sql(\"QuickStats\", con, if_exists=\"replace\")"
   ]
  },
  {
   "cell_type": "code",
   "execution_count": 26,
   "metadata": {},
   "outputs": [],
   "source": [
    "qb_df.to_sql(\"QB_Stats\", con, if_exists=\"replace\")\n",
    "qb_extra_df.to_sql(\"QB_Extra_Stats\", con, if_exists=\"replace\")\n",
    "wr_df.to_sql(\"WR_Stats\", con, if_exists=\"replace\")\n",
    "wr_extra_df.to_sql(\"WR_Extra_Stats\", con, if_exists=\"replace\")\n",
    "rb_df.to_sql(\"RB_Stats\", con, if_exists=\"replace\")\n",
    "rb_extra_df.to_sql(\"RB_Extra_Stats\", con, if_exists=\"replace\")\n",
    "te_df.to_sql(\"TE_Stats\", con, if_exists=\"replace\")\n",
    "te_extra_df.to_sql(\"TE_Extra_Stats\", con, if_exists=\"replace\")\n",
    "#teams_df.to_sql(\"Teams\", con, if_exists=\"replace\")"
   ]
  },
  {
   "cell_type": "code",
   "execution_count": 27,
   "metadata": {},
   "outputs": [],
   "source": [
    "# cursor = con.cursor()"
   ]
  },
  {
   "cell_type": "code",
   "execution_count": 28,
   "metadata": {},
   "outputs": [],
   "source": [
    "# # Getting all tables from sqlite_master\n",
    "# sql_query = \"\"\"SELECT name FROM sqlite_master WHERE type='table';\"\"\""
   ]
  },
  {
   "cell_type": "code",
   "execution_count": 29,
   "metadata": {},
   "outputs": [],
   "source": [
    "# # executing our sql query\n",
    "# cursor.execute(sql_query)\n",
    "# print(\"List of tables\\n\")\n",
    "    \n",
    "# # printing all tables list\n",
    "# print(cursor.fetchall())"
   ]
  },
  {
   "cell_type": "code",
   "execution_count": 30,
   "metadata": {},
   "outputs": [],
   "source": [
    "# cursor.execute(\"SELECT * FROM QB_stats AS qbs LEFT JOIN QuickStats AS qs ON qbs.PlayerPlayerID=qs.PlayerPlayerID\")\n",
    "# rows = cursor.fetchall()\n",
    "# for row in rows:\n",
    "#     print(row)"
   ]
  },
  {
   "cell_type": "code",
   "execution_count": 31,
   "metadata": {},
   "outputs": [],
   "source": [
    "# cursor.execute(\"ALTER TABLE QB_stats RENAME COLUMN PlayerPlayerID to PlayerID\")\n"
   ]
  },
  {
   "cell_type": "code",
   "execution_count": 32,
   "metadata": {},
   "outputs": [],
   "source": [
    "# merge_qb = \"Create table qb_full as (select * from QB_Stats AS qbs left join QuickStats AS qs using qbs.PlayerID = wb.PlayerID)\""
   ]
  },
  {
   "cell_type": "code",
   "execution_count": 33,
   "metadata": {},
   "outputs": [],
   "source": [
    "# cursor.execute(merge_qb)"
   ]
  },
  {
   "cell_type": "code",
   "execution_count": null,
   "metadata": {},
   "outputs": [],
   "source": []
  },
  {
   "cell_type": "code",
   "execution_count": null,
   "metadata": {},
   "outputs": [],
   "source": []
  }
 ],
 "metadata": {
  "kernelspec": {
   "display_name": "Python 3",
   "language": "python",
   "name": "python3"
  },
  "language_info": {
   "codemirror_mode": {
    "name": "ipython",
    "version": 3
   },
   "file_extension": ".py",
   "mimetype": "text/x-python",
   "name": "python",
   "nbconvert_exporter": "python",
   "pygments_lexer": "ipython3",
   "version": "3.8.5"
  },
  "vscode": {
   "interpreter": {
    "hash": "62ad272cb85a3a5abcd8841e9872b0b5e6b3f9a902fd78a31052f93593234f89"
   }
  }
 },
 "nbformat": 4,
 "nbformat_minor": 2
}
