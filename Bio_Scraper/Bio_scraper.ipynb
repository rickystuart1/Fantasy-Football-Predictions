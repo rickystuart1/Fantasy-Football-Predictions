{
 "cells": [
  {
   "cell_type": "code",
   "execution_count": 1,
   "id": "7d664acc",
   "metadata": {},
   "outputs": [],
   "source": [
    "import pandas as pd\n",
    "import requests\n",
    "import numpy as np\n",
    "from splinter import Browser\n",
    "from selenium import webdriver\n",
    "from selenium.webdriver.common.keys import Keys\n",
    "from selenium.webdriver.common.by import By\n",
    "from bs4 import BeautifulSoup as soup\n",
    "from webdriver_manager.chrome import ChromeDriverManager\n",
    "pd.options.mode.chained_assignment = None  # default='warn'\n",
    "from time import sleep\n",
    "from selenium.common.exceptions import NoSuchElementException"
   ]
  },
  {
   "cell_type": "code",
   "execution_count": 2,
   "id": "14bfe4e7",
   "metadata": {},
   "outputs": [],
   "source": [
    "df_player_bio = pd.DataFrame(columns=['Player_ID', 'Name', 'rel_link', 'Position'])"
   ]
  },
  {
   "cell_type": "code",
   "execution_count": 3,
   "id": "2fd35084",
   "metadata": {},
   "outputs": [],
   "source": [
    "# Intitialze web driver\n",
    "driver = webdriver.Chrome()\n",
    "driver.get('https://fantasydata.com/nfl/fantasy-football-leaders?season=2021&seasontype=1&scope=1&subscope=1&aggregatescope=1&range=3')"
   ]
  },
  {
   "cell_type": "code",
   "execution_count": 4,
   "id": "e29de069",
   "metadata": {},
   "outputs": [],
   "source": [
    "def load_total_table():\n",
    "\n",
    "    # Load Player Ids into table\n",
    "    element = driver.find_element(By.XPATH,'/html/body/div[6]/div/div[3]/div[2]/div/div[2]/div/div/div[2]/section/div[2]/div[3]/div[2]/div[2]/label[3]/label/span')\n",
    "    element.click()\n",
    "    sleep(1)\n",
    "    \n",
    "    # Select table length to max of 300\n",
    "    element = driver.find_element(By.XPATH,'/html/body/div[6]/div/div[3]/div[2]/div/div[2]/div/div/div[2]/section/div[2]/div[3]/div[2]/div[2]/a[3]')\n",
    "    element.click()\n",
    "    sleep(1)\n",
    "    \n",
    "    # kill google pop up ad\n",
    "    element = driver.find_element(By.XPATH, '//*[@id=\"mmt-3c7c8681-860c-4f5a-b02c-3798fabee9a6-sticky-close\"]')\n",
    "    element.click()\n",
    "    sleep(1)\n",
    "\n",
    "    # load all table data\n",
    "    for i in range(10):\n",
    "        driver.execute_script(\"window.scrollTo(0, document.body.scrollHeight);\")\n",
    "        element = driver.find_element(By.LINK_TEXT, 'LOAD MORE')\n",
    "        sleep(3)\n",
    "        element.click()\n",
    "        sleep(3)"
   ]
  },
  {
   "cell_type": "code",
   "execution_count": 5,
   "id": "4417a839",
   "metadata": {},
   "outputs": [],
   "source": [
    "load_total_table()"
   ]
  },
  {
   "cell_type": "code",
   "execution_count": 6,
   "id": "ced09ae1",
   "metadata": {},
   "outputs": [],
   "source": [
    "# turn the page into a soup element\n",
    "html = driver.page_source\n",
    "page = soup(html, 'html.parser')"
   ]
  },
  {
   "cell_type": "code",
   "execution_count": 7,
   "id": "94e8f8b8",
   "metadata": {},
   "outputs": [
    {
     "data": {
      "text/html": [
       "<div>\n",
       "<style scoped>\n",
       "    .dataframe tbody tr th:only-of-type {\n",
       "        vertical-align: middle;\n",
       "    }\n",
       "\n",
       "    .dataframe tbody tr th {\n",
       "        vertical-align: top;\n",
       "    }\n",
       "\n",
       "    .dataframe thead th {\n",
       "        text-align: right;\n",
       "    }\n",
       "</style>\n",
       "<table border=\"1\" class=\"dataframe\">\n",
       "  <thead>\n",
       "    <tr style=\"text-align: right;\">\n",
       "      <th></th>\n",
       "      <th>Player_ID</th>\n",
       "      <th>Name</th>\n",
       "      <th>rel_link</th>\n",
       "      <th>Position</th>\n",
       "    </tr>\n",
       "  </thead>\n",
       "  <tbody>\n",
       "    <tr>\n",
       "      <th>0</th>\n",
       "      <td>19801</td>\n",
       "      <td>Josh Allen</td>\n",
       "      <td>/nfl/josh-allen-fantasy/19801</td>\n",
       "      <td>QB</td>\n",
       "    </tr>\n",
       "    <tr>\n",
       "      <th>1</th>\n",
       "      <td>21681</td>\n",
       "      <td>Justin Herbert</td>\n",
       "      <td>/nfl/justin-herbert-fantasy/21681</td>\n",
       "      <td>QB</td>\n",
       "    </tr>\n",
       "    <tr>\n",
       "      <th>2</th>\n",
       "      <td>4314</td>\n",
       "      <td>Tom Brady</td>\n",
       "      <td>/nfl/tom-brady-fantasy/4314</td>\n",
       "      <td>QB</td>\n",
       "    </tr>\n",
       "    <tr>\n",
       "      <th>3</th>\n",
       "      <td>18890</td>\n",
       "      <td>Patrick Mahomes</td>\n",
       "      <td>/nfl/patrick-mahomes-fantasy/18890</td>\n",
       "      <td>QB</td>\n",
       "    </tr>\n",
       "    <tr>\n",
       "      <th>4</th>\n",
       "      <td>21682</td>\n",
       "      <td>Jonathan Taylor</td>\n",
       "      <td>/nfl/jonathan-taylor-fantasy/21682</td>\n",
       "      <td>RB</td>\n",
       "    </tr>\n",
       "  </tbody>\n",
       "</table>\n",
       "</div>"
      ],
      "text/plain": [
       "  Player_ID             Name                            rel_link Position\n",
       "0     19801       Josh Allen       /nfl/josh-allen-fantasy/19801       QB\n",
       "1     21681   Justin Herbert   /nfl/justin-herbert-fantasy/21681       QB\n",
       "2      4314        Tom Brady         /nfl/tom-brady-fantasy/4314       QB\n",
       "3     18890  Patrick Mahomes  /nfl/patrick-mahomes-fantasy/18890       QB\n",
       "4     21682  Jonathan Taylor  /nfl/jonathan-taylor-fantasy/21682       RB"
      ]
     },
     "execution_count": 7,
     "metadata": {},
     "output_type": "execute_result"
    }
   ],
   "source": [
    "# find the player IDs and names and add to dataframe\n",
    "# find player id\n",
    "results = page.find_all('td', class_='player-id')\n",
    "list_ids = [x.text for x in results]\n",
    "df_player_bio['Player_ID'] = list_ids\n",
    "# df_player_bio\n",
    "# print(list_ids)\n",
    "\n",
    "# find player name\n",
    "results = page.find_all('td', class_='align-left')\n",
    "list_name = [x.a.text for x in results]\n",
    "df_player_bio['Name'] = list_name\n",
    "# print(list_name)\n",
    "\n",
    "\n",
    "# find relative player link\n",
    "list_link = [x.a.get('href') for x in results]\n",
    "df_player_bio['rel_link'] = list_link\n",
    "\n",
    "# find position in order to filter\n",
    "results = page.find_all('span', attrs={'ng-bind': 'dataItem.Position'})\n",
    "list_pos = [x.text for x in results]\n",
    "df_player_bio['Position'] = list_pos\n",
    "\n",
    "df_player_bio.head()\n"
   ]
  },
  {
   "cell_type": "code",
   "execution_count": 8,
   "id": "77be6480",
   "metadata": {},
   "outputs": [
    {
     "data": {
      "text/html": [
       "<div>\n",
       "<style scoped>\n",
       "    .dataframe tbody tr th:only-of-type {\n",
       "        vertical-align: middle;\n",
       "    }\n",
       "\n",
       "    .dataframe tbody tr th {\n",
       "        vertical-align: top;\n",
       "    }\n",
       "\n",
       "    .dataframe thead th {\n",
       "        text-align: right;\n",
       "    }\n",
       "</style>\n",
       "<table border=\"1\" class=\"dataframe\">\n",
       "  <thead>\n",
       "    <tr style=\"text-align: right;\">\n",
       "      <th></th>\n",
       "      <th>Player_ID</th>\n",
       "      <th>Name</th>\n",
       "      <th>rel_link</th>\n",
       "      <th>Position</th>\n",
       "    </tr>\n",
       "  </thead>\n",
       "  <tbody>\n",
       "    <tr>\n",
       "      <th>0</th>\n",
       "      <td>21042</td>\n",
       "      <td>A.J. Brown</td>\n",
       "      <td>/nfl/aj-brown-fantasy/21042</td>\n",
       "      <td>WR</td>\n",
       "    </tr>\n",
       "    <tr>\n",
       "      <th>1</th>\n",
       "      <td>12845</td>\n",
       "      <td>A.J. Green</td>\n",
       "      <td>/nfl/aj-green-fantasy/12845</td>\n",
       "      <td>WR</td>\n",
       "    </tr>\n",
       "    <tr>\n",
       "      <th>2</th>\n",
       "      <td>21802</td>\n",
       "      <td>AJ Dillon</td>\n",
       "      <td>/nfl/aj-dillon-fantasy/21802</td>\n",
       "      <td>RB</td>\n",
       "    </tr>\n",
       "    <tr>\n",
       "      <th>3</th>\n",
       "      <td>21751</td>\n",
       "      <td>Aaron Fuller</td>\n",
       "      <td>/nfl/aaron-fuller-fantasy/21751</td>\n",
       "      <td>WR</td>\n",
       "    </tr>\n",
       "    <tr>\n",
       "      <th>4</th>\n",
       "      <td>19045</td>\n",
       "      <td>Aaron Jones</td>\n",
       "      <td>/nfl/aaron-jones-fantasy/19045</td>\n",
       "      <td>RB</td>\n",
       "    </tr>\n",
       "    <tr>\n",
       "      <th>...</th>\n",
       "      <td>...</td>\n",
       "      <td>...</td>\n",
       "      <td>...</td>\n",
       "      <td>...</td>\n",
       "    </tr>\n",
       "    <tr>\n",
       "      <th>661</th>\n",
       "      <td>20770</td>\n",
       "      <td>Zach Gentry</td>\n",
       "      <td>/nfl/zach-gentry-fantasy/20770</td>\n",
       "      <td>TE</td>\n",
       "    </tr>\n",
       "    <tr>\n",
       "      <th>662</th>\n",
       "      <td>19172</td>\n",
       "      <td>Zach Pascal</td>\n",
       "      <td>/nfl/zach-pascal-fantasy/19172</td>\n",
       "      <td>WR</td>\n",
       "    </tr>\n",
       "    <tr>\n",
       "      <th>663</th>\n",
       "      <td>22495</td>\n",
       "      <td>Zach Wilson</td>\n",
       "      <td>/nfl/zach-wilson-fantasy/22495</td>\n",
       "      <td>QB</td>\n",
       "    </tr>\n",
       "    <tr>\n",
       "      <th>664</th>\n",
       "      <td>21784</td>\n",
       "      <td>Zack Moss</td>\n",
       "      <td>/nfl/zack-moss-fantasy/21784</td>\n",
       "      <td>RB</td>\n",
       "    </tr>\n",
       "    <tr>\n",
       "      <th>665</th>\n",
       "      <td>18926</td>\n",
       "      <td>Zay Jones</td>\n",
       "      <td>/nfl/zay-jones-fantasy/18926</td>\n",
       "      <td>WR</td>\n",
       "    </tr>\n",
       "  </tbody>\n",
       "</table>\n",
       "<p>666 rows × 4 columns</p>\n",
       "</div>"
      ],
      "text/plain": [
       "    Player_ID          Name                         rel_link Position\n",
       "0       21042    A.J. Brown      /nfl/aj-brown-fantasy/21042       WR\n",
       "1       12845    A.J. Green      /nfl/aj-green-fantasy/12845       WR\n",
       "2       21802     AJ Dillon     /nfl/aj-dillon-fantasy/21802       RB\n",
       "3       21751  Aaron Fuller  /nfl/aaron-fuller-fantasy/21751       WR\n",
       "4       19045   Aaron Jones   /nfl/aaron-jones-fantasy/19045       RB\n",
       "..        ...           ...                              ...      ...\n",
       "661     20770   Zach Gentry   /nfl/zach-gentry-fantasy/20770       TE\n",
       "662     19172   Zach Pascal   /nfl/zach-pascal-fantasy/19172       WR\n",
       "663     22495   Zach Wilson   /nfl/zach-wilson-fantasy/22495       QB\n",
       "664     21784     Zack Moss     /nfl/zack-moss-fantasy/21784       RB\n",
       "665     18926     Zay Jones     /nfl/zay-jones-fantasy/18926       WR\n",
       "\n",
       "[666 rows x 4 columns]"
      ]
     },
     "execution_count": 8,
     "metadata": {},
     "output_type": "execute_result"
    }
   ],
   "source": [
    "positions = ['QB', 'RB', 'TE', 'WR']\n",
    "df_player_bio = df_player_bio[df_player_bio['Position'].isin(positions)]\n",
    "df_player_bio.sort_values('Name', ignore_index=True, inplace=True)\n",
    "df_player_bio"
   ]
  },
  {
   "cell_type": "markdown",
   "id": "cbab3a9b",
   "metadata": {},
   "source": [
    "create a for loop that goes to each url using https://fantasydata.com/nfl/{first_name}-{last_name}-fantasy/{player_id}\n",
    "creates a soup element from that page, adds the data to the dataframe, then export moves to the next one"
   ]
  },
  {
   "cell_type": "code",
   "execution_count": 9,
   "id": "12c36807",
   "metadata": {
    "scrolled": true
   },
   "outputs": [
    {
     "name": "stdout",
     "output_type": "stream",
     "text": [
      "Searching for A.J. Brown\n",
      "Found...Adding Data...\n",
      "Player Data Added: A.J. Brown\n",
      "--------------------\n",
      "Searching for A.J. Green\n"
     ]
    },
    {
     "ename": "WebDriverException",
     "evalue": "Message: unknown error: cannot determine loading status\nfrom unknown error: unexpected command response\n  (Session info: chrome=103.0.5060.114)\nStacktrace:\nBacktrace:\n\tOrdinal0 [0x00E66463+2188387]\n\tOrdinal0 [0x00DFE461+1762401]\n\tOrdinal0 [0x00D13D78+802168]\n\tOrdinal0 [0x00D07210+750096]\n\tOrdinal0 [0x00D0675A+747354]\n\tOrdinal0 [0x00D05D3F+744767]\n\tOrdinal0 [0x00D04C28+740392]\n\tOrdinal0 [0x00D05228+741928]\n\tOrdinal0 [0x00D0EF2F+782127]\n\tOrdinal0 [0x00D19FBB+827323]\n\tOrdinal0 [0x00D1D310+840464]\n\tOrdinal0 [0x00D054F6+742646]\n\tOrdinal0 [0x00D19BF3+826355]\n\tOrdinal0 [0x00D6CF6D+1167213]\n\tOrdinal0 [0x00D5C5F6+1099254]\n\tOrdinal0 [0x00D36BE0+945120]\n\tOrdinal0 [0x00D37AD6+948950]\n\tGetHandleVerifier [0x011071F2+2712546]\n\tGetHandleVerifier [0x010F886D+2652765]\n\tGetHandleVerifier [0x00EF002A+520730]\n\tGetHandleVerifier [0x00EEEE06+516086]\n\tOrdinal0 [0x00E0468B+1787531]\n\tOrdinal0 [0x00E08E88+1805960]\n\tOrdinal0 [0x00E08F75+1806197]\n\tOrdinal0 [0x00E11DF1+1842673]\n\tBaseThreadInitThunk [0x7698FA29+25]\n\tRtlGetAppContainerNamedObjectPath [0x77037A9E+286]\n\tRtlGetAppContainerNamedObjectPath [0x77037A6E+238]\n",
     "output_type": "error",
     "traceback": [
      "\u001b[1;31m---------------------------------------------------------------------------\u001b[0m",
      "\u001b[1;31mWebDriverException\u001b[0m                        Traceback (most recent call last)",
      "\u001b[1;32m~\\AppData\\Local\\Temp\\ipykernel_28824\\1191593975.py\u001b[0m in \u001b[0;36m<module>\u001b[1;34m\u001b[0m\n\u001b[0;32m     21\u001b[0m     \u001b[0mprint\u001b[0m\u001b[1;33m(\u001b[0m\u001b[1;34mf'Searching for {player}'\u001b[0m\u001b[1;33m)\u001b[0m\u001b[1;33m\u001b[0m\u001b[1;33m\u001b[0m\u001b[0m\n\u001b[0;32m     22\u001b[0m \u001b[1;33m\u001b[0m\u001b[0m\n\u001b[1;32m---> 23\u001b[1;33m     \u001b[0mdriver\u001b[0m\u001b[1;33m.\u001b[0m\u001b[0mget\u001b[0m\u001b[1;33m(\u001b[0m\u001b[0msearch_url\u001b[0m\u001b[1;33m)\u001b[0m\u001b[1;33m\u001b[0m\u001b[1;33m\u001b[0m\u001b[0m\n\u001b[0m\u001b[0;32m     24\u001b[0m     \u001b[0mprint\u001b[0m\u001b[1;33m(\u001b[0m\u001b[1;34m'Found...Adding Data...'\u001b[0m\u001b[1;33m)\u001b[0m\u001b[1;33m\u001b[0m\u001b[1;33m\u001b[0m\u001b[0m\n\u001b[0;32m     25\u001b[0m \u001b[1;33m\u001b[0m\u001b[0m\n",
      "\u001b[1;32m~\\anaconda3\\envs\\PythonData\\lib\\site-packages\\selenium\\webdriver\\remote\\webdriver.py\u001b[0m in \u001b[0;36mget\u001b[1;34m(self, url)\u001b[0m\n\u001b[0;32m    435\u001b[0m         \u001b[0mLoads\u001b[0m \u001b[0ma\u001b[0m \u001b[0mweb\u001b[0m \u001b[0mpage\u001b[0m \u001b[1;32min\u001b[0m \u001b[0mthe\u001b[0m \u001b[0mcurrent\u001b[0m \u001b[0mbrowser\u001b[0m \u001b[0msession\u001b[0m\u001b[1;33m.\u001b[0m\u001b[1;33m\u001b[0m\u001b[1;33m\u001b[0m\u001b[0m\n\u001b[0;32m    436\u001b[0m         \"\"\"\n\u001b[1;32m--> 437\u001b[1;33m         \u001b[0mself\u001b[0m\u001b[1;33m.\u001b[0m\u001b[0mexecute\u001b[0m\u001b[1;33m(\u001b[0m\u001b[0mCommand\u001b[0m\u001b[1;33m.\u001b[0m\u001b[0mGET\u001b[0m\u001b[1;33m,\u001b[0m \u001b[1;33m{\u001b[0m\u001b[1;34m'url'\u001b[0m\u001b[1;33m:\u001b[0m \u001b[0murl\u001b[0m\u001b[1;33m}\u001b[0m\u001b[1;33m)\u001b[0m\u001b[1;33m\u001b[0m\u001b[1;33m\u001b[0m\u001b[0m\n\u001b[0m\u001b[0;32m    438\u001b[0m \u001b[1;33m\u001b[0m\u001b[0m\n\u001b[0;32m    439\u001b[0m     \u001b[1;33m@\u001b[0m\u001b[0mproperty\u001b[0m\u001b[1;33m\u001b[0m\u001b[1;33m\u001b[0m\u001b[0m\n",
      "\u001b[1;32m~\\anaconda3\\envs\\PythonData\\lib\\site-packages\\selenium\\webdriver\\remote\\webdriver.py\u001b[0m in \u001b[0;36mexecute\u001b[1;34m(self, driver_command, params)\u001b[0m\n\u001b[0;32m    423\u001b[0m         \u001b[0mresponse\u001b[0m \u001b[1;33m=\u001b[0m \u001b[0mself\u001b[0m\u001b[1;33m.\u001b[0m\u001b[0mcommand_executor\u001b[0m\u001b[1;33m.\u001b[0m\u001b[0mexecute\u001b[0m\u001b[1;33m(\u001b[0m\u001b[0mdriver_command\u001b[0m\u001b[1;33m,\u001b[0m \u001b[0mparams\u001b[0m\u001b[1;33m)\u001b[0m\u001b[1;33m\u001b[0m\u001b[1;33m\u001b[0m\u001b[0m\n\u001b[0;32m    424\u001b[0m         \u001b[1;32mif\u001b[0m \u001b[0mresponse\u001b[0m\u001b[1;33m:\u001b[0m\u001b[1;33m\u001b[0m\u001b[1;33m\u001b[0m\u001b[0m\n\u001b[1;32m--> 425\u001b[1;33m             \u001b[0mself\u001b[0m\u001b[1;33m.\u001b[0m\u001b[0merror_handler\u001b[0m\u001b[1;33m.\u001b[0m\u001b[0mcheck_response\u001b[0m\u001b[1;33m(\u001b[0m\u001b[0mresponse\u001b[0m\u001b[1;33m)\u001b[0m\u001b[1;33m\u001b[0m\u001b[1;33m\u001b[0m\u001b[0m\n\u001b[0m\u001b[0;32m    426\u001b[0m             response['value'] = self._unwrap_value(\n\u001b[0;32m    427\u001b[0m                 response.get('value', None))\n",
      "\u001b[1;32m~\\anaconda3\\envs\\PythonData\\lib\\site-packages\\selenium\\webdriver\\remote\\errorhandler.py\u001b[0m in \u001b[0;36mcheck_response\u001b[1;34m(self, response)\u001b[0m\n\u001b[0;32m    245\u001b[0m                 \u001b[0malert_text\u001b[0m \u001b[1;33m=\u001b[0m \u001b[0mvalue\u001b[0m\u001b[1;33m[\u001b[0m\u001b[1;34m'alert'\u001b[0m\u001b[1;33m]\u001b[0m\u001b[1;33m.\u001b[0m\u001b[0mget\u001b[0m\u001b[1;33m(\u001b[0m\u001b[1;34m'text'\u001b[0m\u001b[1;33m)\u001b[0m\u001b[1;33m\u001b[0m\u001b[1;33m\u001b[0m\u001b[0m\n\u001b[0;32m    246\u001b[0m             \u001b[1;32mraise\u001b[0m \u001b[0mexception_class\u001b[0m\u001b[1;33m(\u001b[0m\u001b[0mmessage\u001b[0m\u001b[1;33m,\u001b[0m \u001b[0mscreen\u001b[0m\u001b[1;33m,\u001b[0m \u001b[0mstacktrace\u001b[0m\u001b[1;33m,\u001b[0m \u001b[0malert_text\u001b[0m\u001b[1;33m)\u001b[0m  \u001b[1;31m# type: ignore[call-arg]  # mypy is not smart enough here\u001b[0m\u001b[1;33m\u001b[0m\u001b[1;33m\u001b[0m\u001b[0m\n\u001b[1;32m--> 247\u001b[1;33m         \u001b[1;32mraise\u001b[0m \u001b[0mexception_class\u001b[0m\u001b[1;33m(\u001b[0m\u001b[0mmessage\u001b[0m\u001b[1;33m,\u001b[0m \u001b[0mscreen\u001b[0m\u001b[1;33m,\u001b[0m \u001b[0mstacktrace\u001b[0m\u001b[1;33m)\u001b[0m\u001b[1;33m\u001b[0m\u001b[1;33m\u001b[0m\u001b[0m\n\u001b[0m\u001b[0;32m    248\u001b[0m \u001b[1;33m\u001b[0m\u001b[0m\n\u001b[0;32m    249\u001b[0m     \u001b[1;32mdef\u001b[0m \u001b[0m_value_or_default\u001b[0m\u001b[1;33m(\u001b[0m\u001b[0mself\u001b[0m\u001b[1;33m,\u001b[0m \u001b[0mobj\u001b[0m\u001b[1;33m:\u001b[0m \u001b[0mMapping\u001b[0m\u001b[1;33m[\u001b[0m\u001b[0m_KT\u001b[0m\u001b[1;33m,\u001b[0m \u001b[0m_VT\u001b[0m\u001b[1;33m]\u001b[0m\u001b[1;33m,\u001b[0m \u001b[0mkey\u001b[0m\u001b[1;33m:\u001b[0m \u001b[0m_KT\u001b[0m\u001b[1;33m,\u001b[0m \u001b[0mdefault\u001b[0m\u001b[1;33m:\u001b[0m \u001b[0m_VT\u001b[0m\u001b[1;33m)\u001b[0m \u001b[1;33m->\u001b[0m \u001b[0m_VT\u001b[0m\u001b[1;33m:\u001b[0m\u001b[1;33m\u001b[0m\u001b[1;33m\u001b[0m\u001b[0m\n",
      "\u001b[1;31mWebDriverException\u001b[0m: Message: unknown error: cannot determine loading status\nfrom unknown error: unexpected command response\n  (Session info: chrome=103.0.5060.114)\nStacktrace:\nBacktrace:\n\tOrdinal0 [0x00E66463+2188387]\n\tOrdinal0 [0x00DFE461+1762401]\n\tOrdinal0 [0x00D13D78+802168]\n\tOrdinal0 [0x00D07210+750096]\n\tOrdinal0 [0x00D0675A+747354]\n\tOrdinal0 [0x00D05D3F+744767]\n\tOrdinal0 [0x00D04C28+740392]\n\tOrdinal0 [0x00D05228+741928]\n\tOrdinal0 [0x00D0EF2F+782127]\n\tOrdinal0 [0x00D19FBB+827323]\n\tOrdinal0 [0x00D1D310+840464]\n\tOrdinal0 [0x00D054F6+742646]\n\tOrdinal0 [0x00D19BF3+826355]\n\tOrdinal0 [0x00D6CF6D+1167213]\n\tOrdinal0 [0x00D5C5F6+1099254]\n\tOrdinal0 [0x00D36BE0+945120]\n\tOrdinal0 [0x00D37AD6+948950]\n\tGetHandleVerifier [0x011071F2+2712546]\n\tGetHandleVerifier [0x010F886D+2652765]\n\tGetHandleVerifier [0x00EF002A+520730]\n\tGetHandleVerifier [0x00EEEE06+516086]\n\tOrdinal0 [0x00E0468B+1787531]\n\tOrdinal0 [0x00E08E88+1805960]\n\tOrdinal0 [0x00E08F75+1806197]\n\tOrdinal0 [0x00E11DF1+1842673]\n\tBaseThreadInitThunk [0x7698FA29+25]\n\tRtlGetAppContainerNamedObjectPath [0x77037A9E+286]\n\tRtlGetAppContainerNamedObjectPath [0x77037A6E+238]\n"
     ]
    }
   ],
   "source": [
    "url = r'https://fantasydata.com'\n",
    "count = 0\n",
    "total = len(df_player_bio)\n",
    "\n",
    "for index, row in df_player_bio.iterrows():\n",
    "    # testing loop break\n",
    "#     if count >= 5:\n",
    "#         break\n",
    "#     count += 1\n",
    "    \n",
    "    if count != 0 and count % 50 == 0:\n",
    "        print(\"***Break Time...***\")\n",
    "        sleep(10)\n",
    "        \n",
    "\n",
    "    \n",
    "    # building search url\n",
    "    player = row['Name']\n",
    "    player_url = row['rel_link']\n",
    "    search_url = url + player_url\n",
    "    print(f'Searching for {player}')\n",
    "\n",
    "    driver.get(search_url)\n",
    "    print('Found...Adding Data...')\n",
    "    \n",
    "    # create soup object\n",
    "    html = driver.page_source\n",
    "    page = soup(html, 'html.parser')\n",
    "    \n",
    "    # looking for player data\n",
    "    results = page.find('div', class_='player-info-dl')\n",
    "    bio = results.find_all('dd')\n",
    "    \n",
    "    # grabbing data\n",
    "    height_weight = bio[0].span.text\n",
    "    dob_age = bio[1].span.text\n",
    "    experience = bio[2].text\n",
    "    draft = bio[3].text\n",
    "    college = bio[4].text\n",
    "    \n",
    "    # adding to dataframe\n",
    "    df_player_bio.loc[index,'height_weight'] = height_weight\n",
    "    df_player_bio.loc[index, 'dob_age'] = dob_age\n",
    "    df_player_bio.loc[index,'experience'] = experience\n",
    "    df_player_bio.loc[index,'draft'] = draft\n",
    "    df_player_bio.loc[index,'college'] = college\n",
    "    print(f'Player Data Added: {player}')\n",
    "    print('--------------------')\n",
    "    sleep(2)\n",
    "    "
   ]
  },
  {
   "cell_type": "code",
   "execution_count": null,
   "id": "6fcf93e3",
   "metadata": {},
   "outputs": [],
   "source": [
    "# exit the driver\n",
    "driver.quit()"
   ]
  },
  {
   "cell_type": "markdown",
   "id": "b4410913",
   "metadata": {},
   "source": [
    "Clean the position bio data to their own columns"
   ]
  },
  {
   "cell_type": "code",
   "execution_count": null,
   "id": "6d96bb2d",
   "metadata": {},
   "outputs": [],
   "source": [
    "df"
   ]
  },
  {
   "cell_type": "markdown",
   "id": "f8ba98ed",
   "metadata": {},
   "source": [
    "export the dataframe to a csv file"
   ]
  },
  {
   "cell_type": "code",
   "execution_count": null,
   "id": "0fd06d75",
   "metadata": {},
   "outputs": [],
   "source": [
    "file_save = '../Resources/player_bio_data.csv'\n",
    "df_player_bio.to_csv(file_save, index=False, na_rep='NULL')"
   ]
  }
 ],
 "metadata": {
  "kernelspec": {
   "display_name": "Python 3 (ipykernel)",
   "language": "python",
   "name": "python3"
  },
  "language_info": {
   "codemirror_mode": {
    "name": "ipython",
    "version": 3
   },
   "file_extension": ".py",
   "mimetype": "text/x-python",
   "name": "python",
   "nbconvert_exporter": "python",
   "pygments_lexer": "ipython3",
   "version": "3.7.11"
  }
 },
 "nbformat": 4,
 "nbformat_minor": 5
}
