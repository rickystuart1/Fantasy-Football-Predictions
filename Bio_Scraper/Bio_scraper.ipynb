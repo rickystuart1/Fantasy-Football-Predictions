{
 "cells": [
  {
   "cell_type": "code",
   "execution_count": 1,
   "id": "7d664acc",
   "metadata": {},
   "outputs": [],
   "source": [
    "import pandas as pd\n",
    "import requests\n",
    "import numpy as np\n",
    "from splinter import Browser\n",
    "from selenium import webdriver\n",
    "from selenium.webdriver.common.keys import Keys\n",
    "from selenium.webdriver.common.by import By\n",
    "from bs4 import BeautifulSoup as soup\n",
    "from webdriver_manager.chrome import ChromeDriverManager\n",
    "pd.options.mode.chained_assignment = None  # default='warn'\n",
    "from time import sleep\n",
    "from selenium.common.exceptions import NoSuchElementException"
   ]
  },
  {
   "cell_type": "code",
   "execution_count": 8,
   "id": "14bfe4e7",
   "metadata": {},
   "outputs": [],
   "source": [
    "df_player_bio = pd.DataFrame()"
   ]
  },
  {
   "cell_type": "code",
   "execution_count": 2,
   "id": "a1315430",
   "metadata": {},
   "outputs": [],
   "source": [
    "# Intitialze web driver\n",
    "driver = webdriver.Chrome()\n",
    "driver.get('https://fantasydata.com/nfl/fantasy-football-leaders?season=2021&seasontype=1&scope=1&subscope=1&aggregatescope=1&range=3')"
   ]
  },
  {
   "cell_type": "code",
   "execution_count": 3,
   "id": "46f1f401",
   "metadata": {},
   "outputs": [],
   "source": [
    "# Load Player Ids into table\n",
    "element = driver.find_element(By.XPATH,'/html/body/div[6]/div/div[3]/div[2]/div/div[2]/div/div/div[2]/section/div[2]/div[3]/div[2]/div[2]/label[3]/label/span')\n",
    "element.click()"
   ]
  },
  {
   "cell_type": "code",
   "execution_count": 4,
   "id": "091cc24a",
   "metadata": {},
   "outputs": [],
   "source": [
    "# Select table length to max of 300\n",
    "element = driver.find_element(By.XPATH,'/html/body/div[6]/div/div[3]/div[2]/div/div[2]/div/div/div[2]/section/div[2]/div[3]/div[2]/div[2]/a[3]')\n",
    "element.click()"
   ]
  },
  {
   "cell_type": "code",
   "execution_count": 5,
   "id": "6660761e",
   "metadata": {},
   "outputs": [],
   "source": [
    "# kill google pop up ad\n",
    "element = driver.find_element(By.XPATH, '//*[@id=\"mmt-3c7c8681-860c-4f5a-b02c-3798fabee9a6-sticky-close\"]')\n",
    "element.click()"
   ]
  },
  {
   "cell_type": "code",
   "execution_count": 6,
   "id": "2c3953c2",
   "metadata": {},
   "outputs": [],
   "source": [
    "# load all table data\n",
    "\n",
    "for i in range(10):\n",
    "    driver.execute_script(\"window.scrollTo(0, document.body.scrollHeight);\")\n",
    "    element = driver.find_element(By.LINK_TEXT, 'LOAD MORE')\n",
    "    sleep(5)\n",
    "    element.click()\n",
    "    sleep(3)"
   ]
  },
  {
   "cell_type": "code",
   "execution_count": 9,
   "id": "ced09ae1",
   "metadata": {},
   "outputs": [],
   "source": [
    "# turn the page into a soup element"
   ]
  },
  {
   "cell_type": "code",
   "execution_count": 10,
   "id": "94e8f8b8",
   "metadata": {},
   "outputs": [],
   "source": [
    "# find the highest rank"
   ]
  },
  {
   "cell_type": "code",
   "execution_count": 11,
   "id": "d8c00a17",
   "metadata": {},
   "outputs": [],
   "source": [
    "# iterate through and grab all player id's and player names"
   ]
  },
  {
   "cell_type": "code",
   "execution_count": null,
   "id": "84fa403c",
   "metadata": {},
   "outputs": [],
   "source": [
    "# remove punctuation from names"
   ]
  },
  {
   "cell_type": "code",
   "execution_count": 12,
   "id": "bd7b6b87",
   "metadata": {},
   "outputs": [],
   "source": [
    "# split names on white space"
   ]
  },
  {
   "cell_type": "code",
   "execution_count": 13,
   "id": "f1ed2565",
   "metadata": {},
   "outputs": [],
   "source": [
    "# create a for loop that goes to each url using https://fantasydata.com/nfl/{first_name}-{last_name}-fantasy/{player_id}\n",
    "# creates a soup element from that page, adds the data to the dataframe, then export moves to the next one"
   ]
  },
  {
   "cell_type": "code",
   "execution_count": null,
   "id": "08f48cfc",
   "metadata": {},
   "outputs": [],
   "source": [
    "# export the dataframe to a csv file"
   ]
  }
 ],
 "metadata": {
  "kernelspec": {
   "display_name": "Python 3 (ipykernel)",
   "language": "python",
   "name": "python3"
  },
  "language_info": {
   "codemirror_mode": {
    "name": "ipython",
    "version": 3
   },
   "file_extension": ".py",
   "mimetype": "text/x-python",
   "name": "python",
   "nbconvert_exporter": "python",
   "pygments_lexer": "ipython3",
   "version": "3.7.11"
  }
 },
 "nbformat": 4,
 "nbformat_minor": 5
}
